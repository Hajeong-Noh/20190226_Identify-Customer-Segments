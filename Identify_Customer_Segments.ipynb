{
 "cells": [
  {
   "cell_type": "markdown",
   "metadata": {},
   "source": [
    "# Project: Identify Customer Segments\n",
    "\n",
    "In this project, you will apply unsupervised learning techniques to identify segments of the population that form the core customer base for a mail-order sales company in Germany. These segments can then be used to direct marketing campaigns towards audiences that will have the highest expected rate of returns. The data that you will use has been provided by our partners at Bertelsmann Arvato Analytics, and represents a real-life data science task.\n",
    "\n",
    "This notebook will help you complete this task by providing a framework within which you will perform your analysis steps. In each step of the project, you will see some text describing the subtask that you will perform, followed by one or more code cells for you to complete your work. **Feel free to add additional code and markdown cells as you go along so that you can explore everything in precise chunks.** The code cells provided in the base template will outline only the major tasks, and will usually not be enough to cover all of the minor tasks that comprise it.\n",
    "\n",
    "It should be noted that while there will be precise guidelines on how you should handle certain tasks in the project, there will also be places where an exact specification is not provided. **There will be times in the project where you will need to make and justify your own decisions on how to treat the data.** These are places where there may not be only one way to handle the data. In real-life tasks, there may be many valid ways to approach an analysis task. One of the most important things you can do is clearly document your approach so that other scientists can understand the decisions you've made.\n",
    "\n",
    "At the end of most sections, there will be a Markdown cell labeled **Discussion**. In these cells, you will report your findings for the completed section, as well as document the decisions that you made in your approach to each subtask. **Your project will be evaluated not just on the code used to complete the tasks outlined, but also your communication about your observations and conclusions at each stage.**"
   ]
  },
  {
   "cell_type": "code",
   "execution_count": 1,
   "metadata": {},
   "outputs": [],
   "source": [
    "# import libraries here; add more as necessary\n",
    "import numpy as np\n",
    "import pandas as pd\n",
    "import matplotlib.pyplot as plt\n",
    "import seaborn as sns\n",
    "import ast\n",
    "import json\n",
    "import time\n",
    "from sklearn.preprocessing import StandardScaler\n",
    "from sklearn.decomposition import PCA\n",
    "from sklearn.cluster import KMeans, MiniBatchKMeans\n",
    "\n",
    "# magic word for producing visualizations in notebook\n",
    "%matplotlib inline"
   ]
  },
  {
   "cell_type": "markdown",
   "metadata": {},
   "source": [
    "### Step 0: Load the Data\n",
    "\n",
    "There are four files associated with this project (not including this one):\n",
    "\n",
    "- `Udacity_AZDIAS_Subset.csv`: Demographics data for the general population of Germany; 891211 persons (rows) x 85 features (columns).\n",
    "- `Udacity_CUSTOMERS_Subset.csv`: Demographics data for customers of a mail-order company; 191652 persons (rows) x 85 features (columns).\n",
    "- `Data_Dictionary.md`: Detailed information file about the features in the provided datasets.\n",
    "- `AZDIAS_Feature_Summary.csv`: Summary of feature attributes for demographics data; 85 features (rows) x 4 columns\n",
    "\n",
    "Each row of the demographics files represents a single person, but also includes information outside of individuals, including information about their household, building, and neighborhood. You will use this information to cluster the general population into groups with similar demographic properties. Then, you will see how the people in the customers dataset fit into those created clusters. The hope here is that certain clusters are over-represented in the customers data, as compared to the general population; those over-represented clusters will be assumed to be part of the core userbase. This information can then be used for further applications, such as targeting for a marketing campaign.\n",
    "\n",
    "To start off with, load in the demographics data for the general population into a pandas DataFrame, and do the same for the feature attributes summary. Note for all of the `.csv` data files in this project: they're semicolon (`;`) delimited, so you'll need an additional argument in your [`read_csv()`](https://pandas.pydata.org/pandas-docs/stable/generated/pandas.read_csv.html) call to read in the data properly. Also, considering the size of the main dataset, it may take some time for it to load completely.\n",
    "\n",
    "Once the dataset is loaded, it's recommended that you take a little bit of time just browsing the general structure of the dataset and feature summary file. You'll be getting deep into the innards of the cleaning in the first major step of the project, so gaining some general familiarity can help you get your bearings."
   ]
  },
  {
   "cell_type": "code",
   "execution_count": 2,
   "metadata": {},
   "outputs": [],
   "source": [
    "# Load in the general demographics data.\n",
    "azdias = pd.read_csv(\"Udacity_AZDIAS_Subset.csv\", sep=\";\")\n",
    "\n",
    "# Load in the feature summary file.\n",
    "feat_info = pd.read_csv(\"AZDIAS_Feature_Summary.csv\", sep=\";\")"
   ]
  },
  {
   "cell_type": "code",
   "execution_count": 3,
   "metadata": {},
   "outputs": [
    {
     "name": "stdout",
     "output_type": "stream",
     "text": [
      "(891221, 85) (85, 4)\n"
     ]
    },
    {
     "data": {
      "text/html": [
       "<div>\n",
       "<style>\n",
       "    .dataframe thead tr:only-child th {\n",
       "        text-align: right;\n",
       "    }\n",
       "\n",
       "    .dataframe thead th {\n",
       "        text-align: left;\n",
       "    }\n",
       "\n",
       "    .dataframe tbody tr th {\n",
       "        vertical-align: top;\n",
       "    }\n",
       "</style>\n",
       "<table border=\"1\" class=\"dataframe\">\n",
       "  <thead>\n",
       "    <tr style=\"text-align: right;\">\n",
       "      <th></th>\n",
       "      <th>attribute</th>\n",
       "      <th>information_level</th>\n",
       "      <th>type</th>\n",
       "      <th>missing_or_unknown</th>\n",
       "    </tr>\n",
       "  </thead>\n",
       "  <tbody>\n",
       "    <tr>\n",
       "      <th>0</th>\n",
       "      <td>AGER_TYP</td>\n",
       "      <td>person</td>\n",
       "      <td>categorical</td>\n",
       "      <td>[-1,0]</td>\n",
       "    </tr>\n",
       "    <tr>\n",
       "      <th>1</th>\n",
       "      <td>ALTERSKATEGORIE_GROB</td>\n",
       "      <td>person</td>\n",
       "      <td>ordinal</td>\n",
       "      <td>[-1,0,9]</td>\n",
       "    </tr>\n",
       "    <tr>\n",
       "      <th>2</th>\n",
       "      <td>ANREDE_KZ</td>\n",
       "      <td>person</td>\n",
       "      <td>categorical</td>\n",
       "      <td>[-1,0]</td>\n",
       "    </tr>\n",
       "    <tr>\n",
       "      <th>3</th>\n",
       "      <td>CJT_GESAMTTYP</td>\n",
       "      <td>person</td>\n",
       "      <td>categorical</td>\n",
       "      <td>[0]</td>\n",
       "    </tr>\n",
       "    <tr>\n",
       "      <th>4</th>\n",
       "      <td>FINANZ_MINIMALIST</td>\n",
       "      <td>person</td>\n",
       "      <td>ordinal</td>\n",
       "      <td>[-1]</td>\n",
       "    </tr>\n",
       "  </tbody>\n",
       "</table>\n",
       "</div>"
      ],
      "text/plain": [
       "              attribute information_level         type missing_or_unknown\n",
       "0              AGER_TYP            person  categorical             [-1,0]\n",
       "1  ALTERSKATEGORIE_GROB            person      ordinal           [-1,0,9]\n",
       "2             ANREDE_KZ            person  categorical             [-1,0]\n",
       "3         CJT_GESAMTTYP            person  categorical                [0]\n",
       "4     FINANZ_MINIMALIST            person      ordinal               [-1]"
      ]
     },
     "execution_count": 3,
     "metadata": {},
     "output_type": "execute_result"
    }
   ],
   "source": [
    "# Check the structure of the data after it's loaded (e.g. print the number of\n",
    "# rows and columns, print the first few rows).\n",
    "\n",
    "print(azdias.shape, feat_info.shape)\n",
    "feat_info.head()"
   ]
  },
  {
   "cell_type": "markdown",
   "metadata": {},
   "source": [
    "> **Tip**: Add additional cells to keep everything in reasonably-sized chunks! Keyboard shortcut `esc --> a` (press escape to enter command mode, then press the 'A' key) adds a new cell before the active cell, and `esc --> b` adds a new cell after the active cell. If you need to convert an active cell to a markdown cell, use `esc --> m` and to convert to a code cell, use `esc --> y`. \n",
    "\n",
    "## Step 1: Preprocessing\n",
    "\n",
    "### Step 1.1: Assess Missing Data\n",
    "\n",
    "The feature summary file contains a summary of properties for each demographics data column. You will use this file to help you make cleaning decisions during this stage of the project. First of all, you should assess the demographics data in terms of missing data. Pay attention to the following points as you perform your analysis, and take notes on what you observe. Make sure that you fill in the **Discussion** cell with your findings and decisions at the end of each step that has one!\n",
    "\n",
    "#### Step 1.1.1: Convert Missing Value Codes to NaNs\n",
    "The fourth column of the feature attributes summary (loaded in above as `feat_info`) documents the codes from the data dictionary that indicate missing or unknown data. While the file encodes this as a list (e.g. `[-1,0]`), this will get read in as a string object. You'll need to do a little bit of parsing to make use of it to identify and clean the data. Convert data that matches a 'missing' or 'unknown' value code into a numpy NaN value. You might want to see how much data takes on a 'missing' or 'unknown' code, and how much data is naturally missing, as a point of interest.\n",
    "\n",
    "**As one more reminder, you are encouraged to add additional cells to break up your analysis into manageable chunks.**"
   ]
  },
  {
   "cell_type": "code",
   "execution_count": 4,
   "metadata": {},
   "outputs": [
    {
     "data": {
      "text/plain": [
       "array(['[-1,0]', '[-1,0,9]', '[0]', '[-1]', '[]', '[-1,9]', '[-1,\"X\"]',\n",
       "       '[\"XX\"]', '[-1,\"XX\"]'], dtype=object)"
      ]
     },
     "execution_count": 4,
     "metadata": {},
     "output_type": "execute_result"
    }
   ],
   "source": [
    "# Prepare the missing_or_unknown column for using ast.literal_eval(x) function\n",
    "feat_info['missing_or_unknown'] = feat_info['missing_or_unknown'].str.replace('XX', '\"XX\"')\n",
    "feat_info['missing_or_unknown'] = feat_info['missing_or_unknown'].str.replace(',X', ',\"X\"')\n",
    "feat_info['missing_or_unknown'].unique()"
   ]
  },
  {
   "cell_type": "code",
   "execution_count": 5,
   "metadata": {},
   "outputs": [],
   "source": [
    "# Convert string to list data type\n",
    "feat_info['missing_or_unknown'] = feat_info['missing_or_unknown'].apply(lambda x: ast.literal_eval(x))"
   ]
  },
  {
   "cell_type": "code",
   "execution_count": 6,
   "metadata": {},
   "outputs": [],
   "source": [
    "# Identify missing or unknown data values and convert them to NaNs.\n",
    "for i in range(0, feat_info.shape[0]):\n",
    "    raw_column = azdias.iloc[:,i]\n",
    "    nan_features = feat_info.iloc[i, 3]\n",
    "    azdias.iloc[:,i] = raw_column.apply(lambda x: np.nan if x in nan_features else x)"
   ]
  },
  {
   "cell_type": "markdown",
   "metadata": {},
   "source": [
    "#### Step 1.1.2: Assess Missing Data in Each Column\n",
    "\n",
    "How much missing data is present in each column? There are a few columns that are outliers in terms of the proportion of values that are missing. You will want to use matplotlib's [`hist()`](https://matplotlib.org/api/_as_gen/matplotlib.pyplot.hist.html) function to visualize the distribution of missing value counts to find these columns. Identify and document these columns. While some of these columns might have justifications for keeping or re-encoding the data, for this project you should just remove them from the dataframe. (Feel free to make remarks about these outlier columns in the discussion, however!)\n",
    "\n",
    "For the remaining features, are there any patterns in which columns have, or share, missing data?"
   ]
  },
  {
   "cell_type": "code",
   "execution_count": 7,
   "metadata": {},
   "outputs": [
    {
     "data": {
      "text/plain": [
       "TITEL_KZ          889061\n",
       "AGER_TYP          685843\n",
       "KK_KUNDENTYP      584612\n",
       "KBA05_BAUMAX      476524\n",
       "GEBURTSJAHR       392318\n",
       "ALTER_HH          310267\n",
       "REGIOTYP          158064\n",
       "KKK               158064\n",
       "W_KEIT_KIND_HH    147988\n",
       "KBA05_ANTG4       133324\n",
       "KBA05_GBZ         133324\n",
       "MOBI_REGIO        133324\n",
       "KBA05_ANTG1       133324\n",
       "KBA05_ANTG2       133324\n",
       "KBA05_ANTG3       133324\n",
       "PLZ8_GBZ          116515\n",
       "PLZ8_HHZ          116515\n",
       "PLZ8_BAUMAX       116515\n",
       "PLZ8_ANTG4        116515\n",
       "PLZ8_ANTG1        116515\n",
       "dtype: int64"
      ]
     },
     "execution_count": 7,
     "metadata": {},
     "output_type": "execute_result"
    }
   ],
   "source": [
    "# Perform an assessment of how much missing data there is in each column of the\n",
    "# dataset.\n",
    "missing_count_in_feature = azdias.isnull().sum()\n",
    "missing_count_in_feature.sort_values(ascending=False).head(20)"
   ]
  },
  {
   "cell_type": "code",
   "execution_count": 8,
   "metadata": {},
   "outputs": [
    {
     "data": {
      "text/plain": [
       "(array([ 32.,   7.,  37.,   3.,   0.,   0.,   1.,   0.,   1.,   0.,   1.,\n",
       "          0.,   0.,   1.,   0.,   1.,   0.,   0.,   0.,   1.]),\n",
       " array([      0.  ,   44453.05,   88906.1 ,  133359.15,  177812.2 ,\n",
       "         222265.25,  266718.3 ,  311171.35,  355624.4 ,  400077.45,\n",
       "         444530.5 ,  488983.55,  533436.6 ,  577889.65,  622342.7 ,\n",
       "         666795.75,  711248.8 ,  755701.85,  800154.9 ,  844607.95,  889061.  ]),\n",
       " <a list of 20 Patch objects>)"
      ]
     },
     "execution_count": 8,
     "metadata": {},
     "output_type": "execute_result"
    },
    {
     "data": {
      "image/png": "[encoded data removed]",
      "text/plain": [
       "<matplotlib.figure.Figure at 0x7febb2f26dd8>"
      ]
     },
     "metadata": {
      "needs_background": "light"
     },
     "output_type": "display_data"
    }
   ],
   "source": [
    "# Investigate patterns in the amount of missing data in each column.\n",
    "plt.hist(missing_count_in_feature, bins=20)"
   ]
  },
  {
   "cell_type": "code",
   "execution_count": 9,
   "metadata": {},
   "outputs": [
    {
     "data": {
      "text/plain": [
       "(891221, 79)"
      ]
     },
     "execution_count": 9,
     "metadata": {},
     "output_type": "execute_result"
    }
   ],
   "source": [
    "# Remove the outlier columns from the dataset. (You'll perform other data\n",
    "# engineering tasks such as re-encoding and imputation later.)\n",
    "outliers = missing_count_in_feature[missing_count_in_feature > 200000].index\n",
    "azdias = azdias.drop(outliers, axis=1)\n",
    "azdias.shape"
   ]
  },
  {
   "cell_type": "markdown",
   "metadata": {},
   "source": [
    "#### Discussion 1.1.2: Assess Missing Data in Each Column\n",
    "\n",
    "The histogram above shows that the amount of missing data in a column is mostly under 200,000 (missing value is under 22% of total observation). However, we can observe there are 6 outliers which have more than 200,000 missing values. The columns are:\n",
    "\n",
    "| Column Name     | # Missing Values | Missing value percentage |Description|\n",
    "|--------------|--------|--------|----------------------------------------------------------|\n",
    "| TITEL_KZ     | 889061 | 99.76% | Academic title (e.g. Prof., Dr., ...)                            |\n",
    "| AGER_TYP     | 685843 | 76.96% | Best-ager typology                                               |\n",
    "| KK_KUNDENTYP | 584612 | 65.60% |Consumer pattern over past 12 months (e.g. regular, active, ...) |\n",
    "| KBA05_BAUMAX | 476524 | 53.47% | Most common building type within the microcell                   |\n",
    "| GEBURTSJAHR  | 392318 | 44.02% | Years of birth                                                   |\n",
    "| ALTER_HH     | 310267 | 34.81% | Birthdate of head of household                                   |\n",
    "\n",
    "\n",
    "I decided to remove these columns, since they have large amount of missing values even though some of these columns have interesting information. The removed features have missing values more than 30% of total number of observations."
   ]
  },
  {
   "cell_type": "markdown",
   "metadata": {},
   "source": [
    "#### Step 1.1.3: Assess Missing Data in Each Row\n",
    "\n",
    "Now, you'll perform a similar assessment for the rows of the dataset. How much data is missing in each row? As with the columns, you should see some groups of points that have a very different numbers of missing values. Divide the data into two subsets: one for data points that are above some threshold for missing values, and a second subset for points below that threshold.\n",
    "\n",
    "In order to know what to do with the outlier rows, we should see if the distribution of data values on columns that are not missing data (or are missing very little data) are similar or different between the two groups. Select at least five of these columns and compare the distribution of values.\n",
    "- You can use seaborn's [`countplot()`](https://seaborn.pydata.org/generated/seaborn.countplot.html) function to create a bar chart of code frequencies and matplotlib's [`subplot()`](https://matplotlib.org/api/_as_gen/matplotlib.pyplot.subplot.html) function to put bar charts for the two subplots side by side.\n",
    "- To reduce repeated code, you might want to write a function that can perform this comparison, taking as one of its arguments a column to be compared.\n",
    "\n",
    "Depending on what you observe in your comparison, this will have implications on how you approach your conclusions later in the analysis. If the distributions of non-missing features look similar between the data with many missing values and the data with few or no missing values, then we could argue that simply dropping those points from the analysis won't present a major issue. On the other hand, if the data with many missing values looks very different from the data with few or no missing values, then we should make a note on those data as special. We'll revisit these data later on. **Either way, you should continue your analysis for now using just the subset of the data with few or no missing values.**"
   ]
  },
  {
   "cell_type": "code",
   "execution_count": 10,
   "metadata": {},
   "outputs": [
    {
     "data": {
      "text/plain": [
       "(array([  6.23209000e+05,   1.57380000e+04,   2.79260000e+04,\n",
       "          1.76290000e+04,   1.26070000e+04,   2.25150000e+04,\n",
       "          1.37710000e+04,   1.37140000e+04,   2.45920000e+04,\n",
       "          3.04200000e+03,   5.41000000e+03,   1.12700000e+03,\n",
       "          7.66000000e+02,   3.25500000e+03,   2.24300000e+03,\n",
       "          4.74300000e+03,   2.50500000e+03,   6.77000000e+02,\n",
       "          4.28000000e+02,   1.18000000e+03,   3.49000000e+02,\n",
       "          1.50000000e+02,   1.29000000e+02,   1.32000000e+02,\n",
       "          6.90000000e+01,   5.50000000e+01,   5.90000000e+01,\n",
       "          2.40000000e+01,   5.00000000e+00,   1.20000000e+01,\n",
       "          6.00000000e+00,   3.00000000e+00,   2.06000000e+02,\n",
       "          2.98500000e+03,   1.08160000e+04,   3.91100000e+03,\n",
       "          8.40000000e+01,   5.38000000e+02,   4.21000000e+02,\n",
       "          7.70000000e+01,   1.37000000e+02,   3.56000000e+02,\n",
       "          2.10000000e+01,   2.73690000e+04,   1.55000000e+02,\n",
       "          4.94000000e+02,   0.00000000e+00,   4.55780000e+04,\n",
       "          3.00000000e+00]),\n",
       " array([  0.,   1.,   2.,   3.,   4.,   5.,   6.,   7.,   8.,   9.,  10.,\n",
       "         11.,  12.,  13.,  14.,  15.,  16.,  17.,  18.,  19.,  20.,  21.,\n",
       "         22.,  23.,  24.,  25.,  26.,  27.,  28.,  29.,  30.,  31.,  32.,\n",
       "         33.,  34.,  35.,  36.,  37.,  38.,  39.,  40.,  41.,  42.,  43.,\n",
       "         44.,  45.,  46.,  47.,  48.,  49.]),\n",
       " <a list of 49 Patch objects>)"
      ]
     },
     "execution_count": 10,
     "metadata": {},
     "output_type": "execute_result"
    },
    {
     "data": {
      "image/png": "[encoded data removed]",
      "text/plain": [
       "<matplotlib.figure.Figure at 0x7febb2fc8198>"
      ]
     },
     "metadata": {
      "needs_background": "light"
     },
     "output_type": "display_data"
    }
   ],
   "source": [
    "# How much data is missing in each row of the dataset?\n",
    "missing_count_in_row = azdias.isnull().sum(axis=1)\n",
    "plt.hist(missing_count_in_row, bins=49)"
   ]
  },
  {
   "cell_type": "code",
   "execution_count": 11,
   "metadata": {},
   "outputs": [],
   "source": [
    "# Write code to divide the data into two subsets based on the number of missing\n",
    "# values in each row.\n",
    "few_missing_value_rows = azdias.iloc[missing_count_in_row[missing_count_in_row < 9].index, ]\n",
    "many_missing_value_rows = azdias.iloc[missing_count_in_row[missing_count_in_row >= 9].index, ]"
   ]
  },
  {
   "cell_type": "code",
   "execution_count": 12,
   "metadata": {},
   "outputs": [
    {
     "data": {
      "text/plain": [
       "ANREDE_KZ                0\n",
       "FINANZ_MINIMALIST        0\n",
       "FINANZ_SPARER            0\n",
       "FINANZ_VORSORGER         0\n",
       "FINANZ_ANLEGER           0\n",
       "FINANZ_UNAUFFAELLIGER    0\n",
       "FINANZ_HAUSBAUER         0\n",
       "FINANZTYP                0\n",
       "GREEN_AVANTGARDE         0\n",
       "SEMIO_SOZ                0\n",
       "SEMIO_FAM                0\n",
       "SEMIO_REL                0\n",
       "SEMIO_MAT                0\n",
       "SEMIO_VERT               0\n",
       "SEMIO_LUST               0\n",
       "SEMIO_ERL                0\n",
       "SEMIO_KULT               0\n",
       "SEMIO_RAT                0\n",
       "SEMIO_KRIT               0\n",
       "SEMIO_DOM                0\n",
       "SEMIO_KAEM               0\n",
       "SEMIO_PFLICHT            0\n",
       "SEMIO_TRADV              0\n",
       "ZABEOTYP                 0\n",
       "dtype: int64"
      ]
     },
     "execution_count": 12,
     "metadata": {},
     "output_type": "execute_result"
    }
   ],
   "source": [
    "# Columns with no missing value\n",
    "missing_count_in_feature[missing_count_in_feature == 0]"
   ]
  },
  {
   "cell_type": "code",
   "execution_count": 13,
   "metadata": {},
   "outputs": [
    {
     "data": {
      "image/png": "[encoded data removed]",
      "text/plain": [
       "<matplotlib.figure.Figure at 0x7feba6aacc88>"
      ]
     },
     "metadata": {
      "needs_background": "light"
     },
     "output_type": "display_data"
    }
   ],
   "source": [
    "# Compare the distribution of values for at least five columns where there are\n",
    "# no or few missing values, between the two subsets.\n",
    "def compare_value_distributions(few_missing_value_rows, many_missing_value_rows, cols):\n",
    "    f, axes = plt.subplots(len(cols), 2, figsize=(10,10))\n",
    "    axes = axes.ravel()\n",
    "    f.subplots_adjust(hspace=1, wspace=0.5)\n",
    "    i = 0\n",
    "\n",
    "    for col in cols:\n",
    "        sns.countplot(x=col, data=few_missing_value_rows, ax=axes[i])\n",
    "        axes[i].set_title('Few missing value')\n",
    "        i = i+1\n",
    "        sns.countplot(x=col, data=many_missing_value_rows, ax=axes[i])\n",
    "        axes[i].set_title('Many missing values')\n",
    "        i = i+1\n",
    "\n",
    "cols = ['ANREDE_KZ', 'FINANZTYP', 'GREEN_AVANTGARDE', 'SEMIO_REL', 'ZABEOTYP']\n",
    "compare_value_distributions(few_missing_value_rows, many_missing_value_rows, cols)"
   ]
  },
  {
   "cell_type": "code",
   "execution_count": 14,
   "metadata": {},
   "outputs": [
    {
     "name": "stderr",
     "output_type": "stream",
     "text": [
      "/opt/conda/lib/python3.6/site-packages/ipykernel_launcher.py:3: SettingWithCopyWarning: \n",
      "A value is trying to be set on a copy of a slice from a DataFrame.\n",
      "Try using .loc[row_indexer,col_indexer] = value instead\n",
      "\n",
      "See the caveats in the documentation: http://pandas.pydata.org/pandas-docs/stable/indexing.html#indexing-view-versus-copy\n",
      "  This is separate from the ipykernel package so we can avoid doing imports until\n"
     ]
    }
   ],
   "source": [
    "# Impute the remaining missing values \n",
    "for col in few_missing_value_rows.columns:\n",
    "    few_missing_value_rows[col] = few_missing_value_rows[col].fillna(few_missing_value_rows[col].mode()[0])"
   ]
  },
  {
   "cell_type": "markdown",
   "metadata": {},
   "source": [
    "#### Discussion 1.1.3: Assess Missing Data in Each Row\n",
    "\n",
    "According to the histogram, the number of rows drops when the number of missing value is 9. So, I divided the dataset to a dataset with few missing value (the number of missing value is below 9) and another dataset with many missing values (the number of missing value is equal to or more than 9). Comparison of the distributions of some features in two different datasets shows an interesting result. The compared features are those which don't have missing values.\n",
    "\n",
    "While ANREDE_KZ (Gender) and GREEN_AVANTGARDE (Membership in environmental sustainability) features show relatively similar distributions in both datasets, FINANZTYP (Financial type), SEMIO_REL (Degree of religious affinity) and ZABEOTYP (Energy consumption typology) indicate different distributions. \n",
    "\n",
    "After assessing missing data, I imputed the missing values with the average value of features for analysis later.\n",
    "\n",
    "Because the value distributions are different in two datasets, I will make a note and revisit the data. For now, I will use the data with few missing values for analysis."
   ]
  },
  {
   "cell_type": "markdown",
   "metadata": {},
   "source": [
    "### Step 1.2: Select and Re-Encode Features\n",
    "\n",
    "Checking for missing data isn't the only way in which you can prepare a dataset for analysis. Since the unsupervised learning techniques to be used will only work on data that is encoded numerically, you need to make a few encoding changes or additional assumptions to be able to make progress. In addition, while almost all of the values in the dataset are encoded using numbers, not all of them represent numeric values. Check the third column of the feature summary (`feat_info`) for a summary of types of measurement.\n",
    "- For numeric and interval data, these features can be kept without changes.\n",
    "- Most of the variables in the dataset are ordinal in nature. While ordinal values may technically be non-linear in spacing, make the simplifying assumption that the ordinal variables can be treated as being interval in nature (that is, kept without any changes).\n",
    "- Special handling may be necessary for the remaining two variable types: categorical, and 'mixed'.\n",
    "\n",
    "In the first two parts of this sub-step, you will perform an investigation of the categorical and mixed-type features and make a decision on each of them, whether you will keep, drop, or re-encode each. Then, in the last part, you will create a new data frame with only the selected and engineered columns.\n",
    "\n",
    "Data wrangling is often the trickiest part of the data analysis process, and there's a lot of it to be done here. But stick with it: once you're done with this step, you'll be ready to get to the machine learning parts of the project!"
   ]
  },
  {
   "cell_type": "code",
   "execution_count": 15,
   "metadata": {},
   "outputs": [
    {
     "data": {
      "text/plain": [
       "type\n",
       "categorical    18\n",
       "mixed           6\n",
       "numeric         6\n",
       "ordinal        49\n",
       "dtype: int64"
      ]
     },
     "execution_count": 15,
     "metadata": {},
     "output_type": "execute_result"
    }
   ],
   "source": [
    "# How many features are there of each data type?\n",
    "feat_info_without_outliers = feat_info[~feat_info['attribute'].isin(outliers)]\n",
    "feat_info_without_outliers.groupby('type').size()"
   ]
  },
  {
   "cell_type": "markdown",
   "metadata": {},
   "source": [
    "#### Step 1.2.1: Re-Encode Categorical Features\n",
    "\n",
    "For categorical data, you would ordinarily need to encode the levels as dummy variables. Depending on the number of categories, perform one of the following:\n",
    "- For binary (two-level) categoricals that take numeric values, you can keep them without needing to do anything.\n",
    "- There is one binary variable that takes on non-numeric values. For this one, you need to re-encode the values as numbers or create a dummy variable.\n",
    "- For multi-level categoricals (three or more values), you can choose to encode the values using multiple dummy variables (e.g. via [OneHotEncoder](http://scikit-learn.org/stable/modules/generated/sklearn.preprocessing.OneHotEncoder.html)), or (to keep things straightforward) just drop them from the analysis. As always, document your choices in the Discussion section."
   ]
  },
  {
   "cell_type": "code",
   "execution_count": 16,
   "metadata": {},
   "outputs": [],
   "source": [
    "# Drop detail features of other columns\n",
    "detail_columns = ['LP_FAMILIE_FEIN', 'LP_STATUS_FEIN', 'CAMEO_DEU_2015', 'LP_LEBENSPHASE_FEIN']\n",
    "\n",
    "few_missing_value_rows = few_missing_value_rows.drop(detail_columns, axis=1)\n",
    "many_missing_value_rows = many_missing_value_rows.drop(detail_columns, axis=1)\n",
    "feat_info_without_outliers_and_details = feat_info_without_outliers[~feat_info_without_outliers['attribute'].isin(detail_columns)]"
   ]
  },
  {
   "cell_type": "code",
   "execution_count": 17,
   "metadata": {},
   "outputs": [],
   "source": [
    "# Assess categorical variables: which are binary, which are multi-level, and\n",
    "# which one needs to be re-encoded?\n",
    "categorical_feature = feat_info_without_outliers_and_details[feat_info_without_outliers_and_details['type'] == 'categorical']['attribute']\n",
    "dummy_variable_needed = []\n",
    "\n",
    "for feature in categorical_feature:\n",
    "    if len(few_missing_value_rows[feature].unique()) > 2:\n",
    "        dummy_variable_needed.append(feature)"
   ]
  },
  {
   "cell_type": "code",
   "execution_count": 18,
   "metadata": {},
   "outputs": [],
   "source": [
    "# Re-encode categorical variable(s) to be kept in the analysis.\n",
    "# Encoding 'OST_WEST_KZ' feature ('W' -> 1, 'O' -> 0)\n",
    "few_missing_value_rows['OST_WEST_KZ'] = few_missing_value_rows['OST_WEST_KZ'].apply(lambda x: 1 if 'W' else 0)"
   ]
  },
  {
   "cell_type": "code",
   "execution_count": 19,
   "metadata": {},
   "outputs": [
    {
     "data": {
      "text/plain": [
       "Index(['CJT_GESAMTTYP_1.0', 'CJT_GESAMTTYP_2.0', 'CJT_GESAMTTYP_3.0',\n",
       "       'CJT_GESAMTTYP_4.0', 'CJT_GESAMTTYP_5.0', 'CJT_GESAMTTYP_6.0',\n",
       "       'FINANZTYP_1', 'FINANZTYP_2', 'FINANZTYP_3', 'FINANZTYP_4',\n",
       "       'FINANZTYP_5', 'FINANZTYP_6', 'GFK_URLAUBERTYP_1.0',\n",
       "       'GFK_URLAUBERTYP_2.0', 'GFK_URLAUBERTYP_3.0', 'GFK_URLAUBERTYP_4.0',\n",
       "       'GFK_URLAUBERTYP_5.0', 'GFK_URLAUBERTYP_6.0', 'GFK_URLAUBERTYP_7.0',\n",
       "       'GFK_URLAUBERTYP_8.0', 'GFK_URLAUBERTYP_9.0', 'GFK_URLAUBERTYP_10.0',\n",
       "       'GFK_URLAUBERTYP_11.0', 'GFK_URLAUBERTYP_12.0', 'LP_FAMILIE_GROB_1.0',\n",
       "       'LP_FAMILIE_GROB_2.0', 'LP_FAMILIE_GROB_3.0', 'LP_FAMILIE_GROB_4.0',\n",
       "       'LP_FAMILIE_GROB_5.0', 'LP_STATUS_GROB_1.0', 'LP_STATUS_GROB_2.0',\n",
       "       'LP_STATUS_GROB_3.0', 'LP_STATUS_GROB_4.0', 'LP_STATUS_GROB_5.0',\n",
       "       'NATIONALITAET_KZ_1.0', 'NATIONALITAET_KZ_2.0', 'NATIONALITAET_KZ_3.0',\n",
       "       'SHOPPER_TYP_0.0', 'SHOPPER_TYP_1.0', 'SHOPPER_TYP_2.0',\n",
       "       'SHOPPER_TYP_3.0', 'ZABEOTYP_1', 'ZABEOTYP_2', 'ZABEOTYP_3',\n",
       "       'ZABEOTYP_4', 'ZABEOTYP_5', 'ZABEOTYP_6', 'GEBAEUDETYP_1.0',\n",
       "       'GEBAEUDETYP_2.0', 'GEBAEUDETYP_3.0', 'GEBAEUDETYP_4.0',\n",
       "       'GEBAEUDETYP_5.0', 'GEBAEUDETYP_6.0', 'GEBAEUDETYP_8.0',\n",
       "       'CAMEO_DEUG_2015_1', 'CAMEO_DEUG_2015_2', 'CAMEO_DEUG_2015_3',\n",
       "       'CAMEO_DEUG_2015_4', 'CAMEO_DEUG_2015_5', 'CAMEO_DEUG_2015_6',\n",
       "       'CAMEO_DEUG_2015_7', 'CAMEO_DEUG_2015_8', 'CAMEO_DEUG_2015_9'],\n",
       "      dtype='object')"
      ]
     },
     "execution_count": 19,
     "metadata": {},
     "output_type": "execute_result"
    }
   ],
   "source": [
    "# Create dummy variables\n",
    "dummy_variables = pd.DataFrame()\n",
    "for feature in dummy_variable_needed:\n",
    "    new_dummy = pd.get_dummies(few_missing_value_rows[feature], prefix=feature)\n",
    "    dummy_variables = pd.concat([dummy_variables, new_dummy], axis=1)\n",
    "    \n",
    "dummy_variables.columns"
   ]
  },
  {
   "cell_type": "code",
   "execution_count": 20,
   "metadata": {},
   "outputs": [
    {
     "data": {
      "text/plain": [
       "(771701, 128)"
      ]
     },
     "execution_count": 20,
     "metadata": {},
     "output_type": "execute_result"
    }
   ],
   "source": [
    "# Add dummy variables and drop the original features\n",
    "few_missing_value_rows = pd.concat([few_missing_value_rows, dummy_variables], axis=1)\n",
    "few_missing_value_rows = few_missing_value_rows.drop(dummy_variable_needed, axis=1)\n",
    "\n",
    "few_missing_value_rows.shape"
   ]
  },
  {
   "cell_type": "markdown",
   "metadata": {},
   "source": [
    "#### Discussion 1.2.1: Re-Encode Categorical Features\n",
    "\n",
    "While I scanned through categorical features, I found there are some columns which are detail features of other columns. For the simplification of the model, I removed following 4 detail columns.\n",
    "\n",
    "| General Column    | Detail Column (Deleted) | Description|\n",
    "|--------------|--------|------------------------------------------------------------------|\n",
    "| LP_FAMILIE_GROB     | LP_FAMILIE_FEIN | Family type                            |\n",
    "| LP_STATUS_GROB| LP_STATUS_FEIN | Social status                                               |\n",
    "| CAMEO_DEUG_2015 | CAMEO_DEU_2015 | Wealth / Life Stage Typology|\n",
    "| LP_LEBENSPHASE_GROB | LP_LEBENSPHASE_FEIN | Life stage\n",
    "\n",
    "And then, the categorical features are categorized and processed as follows:\n",
    "1. Binary categoricals with numeric values -> no need to process\n",
    "2. Binary categoricals with non-numeric values -> encode non-numeric values to numeric values\n",
    "3. Multi-level categoricals -> add dummy variables and drop the original features"
   ]
  },
  {
   "cell_type": "markdown",
   "metadata": {},
   "source": [
    "#### Step 1.2.2: Engineer Mixed-Type Features\n",
    "\n",
    "There are a handful of features that are marked as \"mixed\" in the feature summary that require special treatment in order to be included in the analysis. There are two in particular that deserve attention; the handling of the rest are up to your own choices:\n",
    "- \"PRAEGENDE_JUGENDJAHRE\" combines information on three dimensions: generation by decade, movement (mainstream vs. avantgarde), and nation (east vs. west). While there aren't enough levels to disentangle east from west, you should create two new variables to capture the other two dimensions: an interval-type variable for decade, and a binary variable for movement.\n",
    "- \"CAMEO_INTL_2015\" combines information on two axes: wealth and life stage. Break up the two-digit codes by their 'tens'-place and 'ones'-place digits into two new ordinal variables (which, for the purposes of this project, is equivalent to just treating them as their raw numeric values).\n",
    "- If you decide to keep or engineer new features around the other mixed-type features, make sure you note your steps in the Discussion section.\n",
    "\n",
    "Be sure to check `Data_Dictionary.md` for the details needed to finish these tasks."
   ]
  },
  {
   "cell_type": "code",
   "execution_count": 21,
   "metadata": {},
   "outputs": [],
   "source": [
    "# Define functions to extract two features from mixed feature PRAEGENDE_JUGENDJAHRE\n",
    "def get_decade(pjj):\n",
    "    if pjj in (1,2):\n",
    "        return 1\n",
    "    elif pjj in (3,4):\n",
    "        return 2\n",
    "    elif pjj in (5,6,7):\n",
    "        return 3\n",
    "    elif pjj in (8,9):\n",
    "        return 4\n",
    "    elif pjj in (10,11,12,13):\n",
    "        return 5\n",
    "    elif pjj in (14,15):\n",
    "        return 6\n",
    "    \n",
    "def get_movement(pjj):\n",
    "    if pjj in (1,3,5,8,10,12,14):\n",
    "        return 0\n",
    "    elif pjj in (2,4,6,7,9,11,13,15):\n",
    "        return 1"
   ]
  },
  {
   "cell_type": "code",
   "execution_count": 22,
   "metadata": {},
   "outputs": [],
   "source": [
    "# Investigate \"PRAEGENDE_JUGENDJAHRE\" and engineer two new variables.\n",
    "decade = few_missing_value_rows['PRAEGENDE_JUGENDJAHRE'].apply(get_decade)\n",
    "movement = few_missing_value_rows['PRAEGENDE_JUGENDJAHRE'].apply(get_movement)"
   ]
  },
  {
   "cell_type": "code",
   "execution_count": 23,
   "metadata": {},
   "outputs": [
    {
     "name": "stdout",
     "output_type": "stream",
     "text": [
      "(771701, 129)\n"
     ]
    }
   ],
   "source": [
    "# Add dummy variables and drop the original features\n",
    "few_missing_value_rows['decade'] = decade\n",
    "few_missing_value_rows['movement'] = movement\n",
    "few_missing_value_rows = few_missing_value_rows.drop('PRAEGENDE_JUGENDJAHRE', axis=1)\n",
    "\n",
    "print(few_missing_value_rows.shape)"
   ]
  },
  {
   "cell_type": "code",
   "execution_count": 24,
   "metadata": {},
   "outputs": [
    {
     "name": "stdout",
     "output_type": "stream",
     "text": [
      "(771701, 130)\n"
     ]
    }
   ],
   "source": [
    "# Investigate \"CAMEO_INTL_2015\" and engineer two new variables.\n",
    "few_missing_value_rows['wealth'] = few_missing_value_rows['CAMEO_INTL_2015'].astype('int').apply(lambda x: x // 10)\n",
    "few_missing_value_rows['life_stage'] = few_missing_value_rows['CAMEO_INTL_2015'].astype('int').apply(lambda x: x % 10)\n",
    "few_missing_value_rows = few_missing_value_rows.drop('CAMEO_INTL_2015', axis=1)\n",
    "\n",
    "print(few_missing_value_rows.shape)"
   ]
  },
  {
   "cell_type": "markdown",
   "metadata": {},
   "source": [
    "#### Discussion 1.2.2: Engineer Mixed-Type Features\n",
    "\n",
    "I extracted 2 features from each 'PRAEGENDE_JUGENDJAHRE' and 'CAMEO_INTL_2015' features in order to make it easier to apply machine learning algorithms in the later phase. And then, the original mixed features are dropped from the table.\n",
    "The encoded values and their descriptions are as follows:\n",
    "\n",
    "<table>\n",
    "<tr><th>Decade </th><th>Movement</th><th>Wealth</th><th>Life Stage</th></tr>\n",
    "<tr><td>\n",
    "    \n",
    "| Value    | Description |\n",
    "|--------------|--------|\n",
    "| 1     | 40s | \n",
    "| 2| 50s | \n",
    "| 3 | 60s | \n",
    "| 4 | 70s |\n",
    "| 5| 80s | \n",
    "| 6 | 90s | \n",
    "    \n",
    "</td><td>\n",
    "    \n",
    "| Value    | Description |\n",
    "|--------------|--------|\n",
    "| 0     | Mainstream | \n",
    "| 1| Avantgarde |\n",
    "\n",
    "</td><td>\n",
    "    \n",
    "| Value    | Description |\n",
    "|--------------|--------|\n",
    "| 1     | Wealthy | \n",
    "| 2| Prosperous | \n",
    "| 3 | Comfortable | \n",
    "| 4 | Less Affluent |\n",
    "| 5| Poorer | \n",
    "\n",
    "</td><td>\n",
    "    \n",
    "| Value    | Description |\n",
    "|--------------|--------|\n",
    "| 1     | Pre-Family Couples & Single | \n",
    "| 2| Young Couples With Children | \n",
    "| 3 | Families With School Age Children | \n",
    "| 4 | Older Families &  Mature Couples |\n",
    "| 5| Elders In Retirement | \n",
    "\n",
    "</td></tr> </table>"
   ]
  },
  {
   "cell_type": "markdown",
   "metadata": {},
   "source": [
    "#### Step 1.2.3: Complete Feature Selection\n",
    "\n",
    "In order to finish this step up, you need to make sure that your data frame now only has the columns that you want to keep. To summarize, the dataframe should consist of the following:\n",
    "- All numeric, interval, and ordinal type columns from the original dataset.\n",
    "- Binary categorical features (all numerically-encoded).\n",
    "- Engineered features from other multi-level categorical features and mixed features.\n",
    "\n",
    "Make sure that for any new columns that you have engineered, that you've excluded the original columns from the final dataset. Otherwise, their values will interfere with the analysis later on the project. For example, you should not keep \"PRAEGENDE_JUGENDJAHRE\", since its values won't be useful for the algorithm: only the values derived from it in the engineered features you created should be retained. As a reminder, your data should only be from **the subset with few or no missing values**."
   ]
  },
  {
   "cell_type": "code",
   "execution_count": 25,
   "metadata": {},
   "outputs": [
    {
     "data": {
      "text/plain": [
       "0"
      ]
     },
     "execution_count": 25,
     "metadata": {},
     "output_type": "execute_result"
    }
   ],
   "source": [
    "# No missing values in the dataset\n",
    "few_missing_value_rows.isnull().sum().sum()"
   ]
  },
  {
   "cell_type": "code",
   "execution_count": 26,
   "metadata": {},
   "outputs": [
    {
     "name": "stdout",
     "output_type": "stream",
     "text": [
      "<class 'pandas.core.frame.DataFrame'>\n",
      "Int64Index: 771701 entries, 1 to 891220\n",
      "Columns: 130 entries, ALTERSKATEGORIE_GROB to life_stage\n",
      "dtypes: float64(40), int64(27), uint8(63)\n",
      "memory usage: 466.7 MB\n"
     ]
    }
   ],
   "source": [
    "# All the values in the dataset is numeric type\n",
    "few_missing_value_rows.info()"
   ]
  },
  {
   "cell_type": "markdown",
   "metadata": {},
   "source": [
    "### Step 1.3: Create a Cleaning Function\n",
    "\n",
    "Even though you've finished cleaning up the general population demographics data, it's important to look ahead to the future and realize that you'll need to perform the same cleaning steps on the customer demographics data. In this substep, complete the function below to execute the main feature selection, encoding, and re-engineering steps you performed above. Then, when it comes to looking at the customer data in Step 3, you can just run this function on that DataFrame to get the trimmed dataset in a single step."
   ]
  },
  {
   "cell_type": "code",
   "execution_count": 54,
   "metadata": {},
   "outputs": [],
   "source": [
    "def clean_data(df, for_many_missing_value_rows=False):\n",
    "    \"\"\"\n",
    "    Perform feature trimming, re-encoding, and engineering for demographics\n",
    "    data\n",
    "    \n",
    "    INPUT: Demographics DataFrame\n",
    "    OUTPUT: Trimmed and cleaned demographics DataFrame\n",
    "    *feat_info should be exist before executing this function\n",
    "    *function get_decade, get_movement should be also defined before executing this function\n",
    "    \"\"\"\n",
    "    \n",
    "    # Put in code here to execute all main cleaning steps:\n",
    "    # convert missing value codes into NaNs, ...\n",
    "    for i in range(0, feat_info.shape[0]):\n",
    "        raw_column = df.iloc[:,i]\n",
    "        nan_features = feat_info.iloc[i, 3]\n",
    "        df.iloc[:,i] = raw_column.apply(lambda x: np.nan if x in nan_features else x)\n",
    "    \n",
    "    # remove selected columns and rows, ...\n",
    "    removed_columns = ['TITEL_KZ', 'AGER_TYP', 'KK_KUNDENTYP', 'KBA05_BAUMAX', 'GEBURTSJAHR', 'ALTER_HH']\n",
    "    df = df.drop(removed_columns, axis=1)\n",
    "    \n",
    "    missing_count_in_row = df.isnull().sum(axis=1)\n",
    "    if for_many_missing_value_rows:\n",
    "        few_missing_value_rows = df.iloc[missing_count_in_row[missing_count_in_row >= 9].index, ]\n",
    "    else:\n",
    "        few_missing_value_rows = df.iloc[missing_count_in_row[missing_count_in_row < 9].index, ]\n",
    "    \n",
    "    # Impute the remaining missing values \n",
    "    for col in few_missing_value_rows.columns:\n",
    "        few_missing_value_rows[col] = few_missing_value_rows[col].fillna(few_missing_value_rows[col].mode()[0])\n",
    "    \n",
    "    # select, re-encode, and engineer column values.\n",
    "    # Drop detail features of other columns\n",
    "    detail_columns = ['LP_FAMILIE_FEIN', 'LP_STATUS_FEIN', 'CAMEO_DEU_2015', 'LP_LEBENSPHASE_FEIN']\n",
    "    few_missing_value_rows = few_missing_value_rows.drop(detail_columns, axis=1)\n",
    "    \n",
    "    # Extract features which dummy variables are needed\n",
    "    categorical_feature = feat_info_without_outliers_and_details[feat_info_without_outliers_and_details['type'] == 'categorical']['attribute']\n",
    "    dummy_variable_needed = []\n",
    "    for feature in categorical_feature:\n",
    "        if len(few_missing_value_rows[feature].unique()) > 2:\n",
    "            dummy_variable_needed.append(feature)\n",
    "    \n",
    "    # Encoding 'OST_WEST_KZ' feature ('W' -> 1, 'O' -> 0)\n",
    "    few_missing_value_rows['OST_WEST_KZ'] = few_missing_value_rows['OST_WEST_KZ'].apply(lambda x: 1 if 'W' else 0)\n",
    "    \n",
    "    # Create dummy variables\n",
    "    dummy_variables = pd.DataFrame()\n",
    "    for feature in dummy_variable_needed:\n",
    "        new_dummy = pd.get_dummies(few_missing_value_rows[feature], prefix=feature)\n",
    "        dummy_variables = pd.concat([dummy_variables, new_dummy], axis=1)\n",
    "    \n",
    "    # Add dummy variables and drop the original features\n",
    "    few_missing_value_rows = pd.concat([few_missing_value_rows, dummy_variables], axis=1)\n",
    "    few_missing_value_rows = few_missing_value_rows.drop(dummy_variable_needed, axis=1)\n",
    "    \n",
    "    # Investigate \"PRAEGENDE_JUGENDJAHRE\" and engineer two new variables.\n",
    "    few_missing_value_rows['decade'] = few_missing_value_rows['PRAEGENDE_JUGENDJAHRE'].apply(get_decade)\n",
    "    few_missing_value_rows['movement'] = few_missing_value_rows['PRAEGENDE_JUGENDJAHRE'].apply(get_movement)\n",
    "    few_missing_value_rows = few_missing_value_rows.drop('PRAEGENDE_JUGENDJAHRE', axis=1)\n",
    "    \n",
    "    # Investigate \"CAMEO_INTL_2015\" and engineer two new variables.\n",
    "    few_missing_value_rows['wealth'] = few_missing_value_rows['CAMEO_INTL_2015'].astype('int').apply(lambda x: x // 10)\n",
    "    few_missing_value_rows['life_stage'] = few_missing_value_rows['CAMEO_INTL_2015'].astype('int').apply(lambda x: x % 10)\n",
    "    few_missing_value_rows = few_missing_value_rows.drop('CAMEO_INTL_2015', axis=1)\n",
    "    \n",
    "    # Return the cleaned dataframe.\n",
    "    return few_missing_value_rows"
   ]
  },
  {
   "cell_type": "markdown",
   "metadata": {},
   "source": [
    "## Step 2: Feature Transformation\n",
    "\n",
    "### Step 2.1: Apply Feature Scaling\n",
    "\n",
    "Before we apply dimensionality reduction techniques to the data, we need to perform feature scaling so that the principal component vectors are not influenced by the natural differences in scale for features. Starting from this part of the project, you'll want to keep an eye on the [API reference page for sklearn](http://scikit-learn.org/stable/modules/classes.html) to help you navigate to all of the classes and functions that you'll need. In this substep, you'll need to check the following:\n",
    "\n",
    "- sklearn requires that data not have missing values in order for its estimators to work properly. So, before applying the scaler to your data, make sure that you've cleaned the DataFrame of the remaining missing values. This can be as simple as just removing all data points with missing data, or applying an [Imputer](http://scikit-learn.org/stable/modules/generated/sklearn.preprocessing.Imputer.html) to replace all missing values. You might also try a more complicated procedure where you temporarily remove missing values in order to compute the scaling parameters before re-introducing those missing values and applying imputation. Think about how much missing data you have and what possible effects each approach might have on your analysis, and justify your decision in the discussion section below.\n",
    "- For the actual scaling function, a [StandardScaler](http://scikit-learn.org/stable/modules/generated/sklearn.preprocessing.StandardScaler.html) instance is suggested, scaling each feature to mean 0 and standard deviation 1.\n",
    "- For these classes, you can make use of the `.fit_transform()` method to both fit a procedure to the data as well as apply the transformation to the data at the same time. Don't forget to keep the fit sklearn objects handy, since you'll be applying them to the customer demographics data towards the end of the project."
   ]
  },
  {
   "cell_type": "code",
   "execution_count": 28,
   "metadata": {
    "scrolled": true
   },
   "outputs": [
    {
     "data": {
      "text/html": [
       "<div>\n",
       "<style>\n",
       "    .dataframe thead tr:only-child th {\n",
       "        text-align: right;\n",
       "    }\n",
       "\n",
       "    .dataframe thead th {\n",
       "        text-align: left;\n",
       "    }\n",
       "\n",
       "    .dataframe tbody tr th {\n",
       "        vertical-align: top;\n",
       "    }\n",
       "</style>\n",
       "<table border=\"1\" class=\"dataframe\">\n",
       "  <thead>\n",
       "    <tr style=\"text-align: right;\">\n",
       "      <th></th>\n",
       "      <th>ALTERSKATEGORIE_GROB</th>\n",
       "      <th>ANREDE_KZ</th>\n",
       "      <th>FINANZ_MINIMALIST</th>\n",
       "      <th>FINANZ_SPARER</th>\n",
       "      <th>FINANZ_VORSORGER</th>\n",
       "      <th>FINANZ_ANLEGER</th>\n",
       "      <th>FINANZ_UNAUFFAELLIGER</th>\n",
       "      <th>FINANZ_HAUSBAUER</th>\n",
       "      <th>GREEN_AVANTGARDE</th>\n",
       "      <th>HEALTH_TYP</th>\n",
       "      <th>...</th>\n",
       "      <th>CAMEO_DEUG_2015_4</th>\n",
       "      <th>CAMEO_DEUG_2015_5</th>\n",
       "      <th>CAMEO_DEUG_2015_6</th>\n",
       "      <th>CAMEO_DEUG_2015_7</th>\n",
       "      <th>CAMEO_DEUG_2015_8</th>\n",
       "      <th>CAMEO_DEUG_2015_9</th>\n",
       "      <th>decade</th>\n",
       "      <th>movement</th>\n",
       "      <th>wealth</th>\n",
       "      <th>life_stage</th>\n",
       "    </tr>\n",
       "  </thead>\n",
       "  <tbody>\n",
       "    <tr>\n",
       "      <th>0</th>\n",
       "      <td>-1.764603</td>\n",
       "      <td>0.959073</td>\n",
       "      <td>-1.488002</td>\n",
       "      <td>1.539656</td>\n",
       "      <td>-1.043931</td>\n",
       "      <td>1.468403</td>\n",
       "      <td>0.981832</td>\n",
       "      <td>1.326992</td>\n",
       "      <td>-0.531851</td>\n",
       "      <td>1.007628</td>\n",
       "      <td>...</td>\n",
       "      <td>-0.386254</td>\n",
       "      <td>-0.270934</td>\n",
       "      <td>-0.393203</td>\n",
       "      <td>-0.330477</td>\n",
       "      <td>2.165583</td>\n",
       "      <td>-0.399611</td>\n",
       "      <td>1.108158</td>\n",
       "      <td>-0.531851</td>\n",
       "      <td>1.170377</td>\n",
       "      <td>-1.249484</td>\n",
       "    </tr>\n",
       "    <tr>\n",
       "      <th>1</th>\n",
       "      <td>0.199826</td>\n",
       "      <td>0.959073</td>\n",
       "      <td>-1.488002</td>\n",
       "      <td>0.866704</td>\n",
       "      <td>-1.769993</td>\n",
       "      <td>-0.569520</td>\n",
       "      <td>0.264219</td>\n",
       "      <td>1.326992</td>\n",
       "      <td>1.880228</td>\n",
       "      <td>1.007628</td>\n",
       "      <td>...</td>\n",
       "      <td>2.588969</td>\n",
       "      <td>-0.270934</td>\n",
       "      <td>-0.393203</td>\n",
       "      <td>-0.330477</td>\n",
       "      <td>-0.461769</td>\n",
       "      <td>-0.399611</td>\n",
       "      <td>1.108158</td>\n",
       "      <td>1.880228</td>\n",
       "      <td>-0.875228</td>\n",
       "      <td>0.763920</td>\n",
       "    </tr>\n",
       "    <tr>\n",
       "      <th>2</th>\n",
       "      <td>1.182040</td>\n",
       "      <td>0.959073</td>\n",
       "      <td>0.690044</td>\n",
       "      <td>-0.479200</td>\n",
       "      <td>1.134255</td>\n",
       "      <td>-0.569520</td>\n",
       "      <td>-1.171006</td>\n",
       "      <td>-0.819321</td>\n",
       "      <td>-0.531851</td>\n",
       "      <td>-0.314912</td>\n",
       "      <td>...</td>\n",
       "      <td>-0.386254</td>\n",
       "      <td>-0.270934</td>\n",
       "      <td>-0.393203</td>\n",
       "      <td>-0.330477</td>\n",
       "      <td>-0.461769</td>\n",
       "      <td>-0.399611</td>\n",
       "      <td>-0.257577</td>\n",
       "      <td>-0.531851</td>\n",
       "      <td>-1.557096</td>\n",
       "      <td>-0.578349</td>\n",
       "    </tr>\n",
       "    <tr>\n",
       "      <th>3</th>\n",
       "      <td>0.199826</td>\n",
       "      <td>-1.042673</td>\n",
       "      <td>0.690044</td>\n",
       "      <td>0.193752</td>\n",
       "      <td>0.408193</td>\n",
       "      <td>-1.248828</td>\n",
       "      <td>0.264219</td>\n",
       "      <td>-0.819321</td>\n",
       "      <td>-0.531851</td>\n",
       "      <td>1.007628</td>\n",
       "      <td>...</td>\n",
       "      <td>-0.386254</td>\n",
       "      <td>-0.270934</td>\n",
       "      <td>2.543217</td>\n",
       "      <td>-0.330477</td>\n",
       "      <td>-0.461769</td>\n",
       "      <td>-0.399611</td>\n",
       "      <td>-0.257577</td>\n",
       "      <td>-0.531851</td>\n",
       "      <td>0.488508</td>\n",
       "      <td>0.092786</td>\n",
       "    </tr>\n",
       "    <tr>\n",
       "      <th>4</th>\n",
       "      <td>-1.764603</td>\n",
       "      <td>0.959073</td>\n",
       "      <td>-0.035971</td>\n",
       "      <td>-1.152152</td>\n",
       "      <td>1.134255</td>\n",
       "      <td>-0.569520</td>\n",
       "      <td>-0.453393</td>\n",
       "      <td>1.326992</td>\n",
       "      <td>-0.531851</td>\n",
       "      <td>1.007628</td>\n",
       "      <td>...</td>\n",
       "      <td>-0.386254</td>\n",
       "      <td>-0.270934</td>\n",
       "      <td>-0.393203</td>\n",
       "      <td>-0.330477</td>\n",
       "      <td>2.165583</td>\n",
       "      <td>-0.399611</td>\n",
       "      <td>-1.623312</td>\n",
       "      <td>-0.531851</td>\n",
       "      <td>1.170377</td>\n",
       "      <td>0.763920</td>\n",
       "    </tr>\n",
       "  </tbody>\n",
       "</table>\n",
       "<p>5 rows × 130 columns</p>\n",
       "</div>"
      ],
      "text/plain": [
       "   ALTERSKATEGORIE_GROB  ANREDE_KZ  FINANZ_MINIMALIST  FINANZ_SPARER  \\\n",
       "0             -1.764603   0.959073          -1.488002       1.539656   \n",
       "1              0.199826   0.959073          -1.488002       0.866704   \n",
       "2              1.182040   0.959073           0.690044      -0.479200   \n",
       "3              0.199826  -1.042673           0.690044       0.193752   \n",
       "4             -1.764603   0.959073          -0.035971      -1.152152   \n",
       "\n",
       "   FINANZ_VORSORGER  FINANZ_ANLEGER  FINANZ_UNAUFFAELLIGER  FINANZ_HAUSBAUER  \\\n",
       "0         -1.043931        1.468403               0.981832          1.326992   \n",
       "1         -1.769993       -0.569520               0.264219          1.326992   \n",
       "2          1.134255       -0.569520              -1.171006         -0.819321   \n",
       "3          0.408193       -1.248828               0.264219         -0.819321   \n",
       "4          1.134255       -0.569520              -0.453393          1.326992   \n",
       "\n",
       "   GREEN_AVANTGARDE  HEALTH_TYP     ...      CAMEO_DEUG_2015_4  \\\n",
       "0         -0.531851    1.007628     ...              -0.386254   \n",
       "1          1.880228    1.007628     ...               2.588969   \n",
       "2         -0.531851   -0.314912     ...              -0.386254   \n",
       "3         -0.531851    1.007628     ...              -0.386254   \n",
       "4         -0.531851    1.007628     ...              -0.386254   \n",
       "\n",
       "   CAMEO_DEUG_2015_5  CAMEO_DEUG_2015_6  CAMEO_DEUG_2015_7  CAMEO_DEUG_2015_8  \\\n",
       "0          -0.270934          -0.393203          -0.330477           2.165583   \n",
       "1          -0.270934          -0.393203          -0.330477          -0.461769   \n",
       "2          -0.270934          -0.393203          -0.330477          -0.461769   \n",
       "3          -0.270934           2.543217          -0.330477          -0.461769   \n",
       "4          -0.270934          -0.393203          -0.330477           2.165583   \n",
       "\n",
       "   CAMEO_DEUG_2015_9    decade  movement    wealth  life_stage  \n",
       "0          -0.399611  1.108158 -0.531851  1.170377   -1.249484  \n",
       "1          -0.399611  1.108158  1.880228 -0.875228    0.763920  \n",
       "2          -0.399611 -0.257577 -0.531851 -1.557096   -0.578349  \n",
       "3          -0.399611 -0.257577 -0.531851  0.488508    0.092786  \n",
       "4          -0.399611 -1.623312 -0.531851  1.170377    0.763920  \n",
       "\n",
       "[5 rows x 130 columns]"
      ]
     },
     "execution_count": 28,
     "metadata": {},
     "output_type": "execute_result"
    }
   ],
   "source": [
    "# Apply feature scaling to the general population demographics data.\n",
    "scaler = StandardScaler()\n",
    "general_scaled = pd.DataFrame(scaler.fit_transform(few_missing_value_rows), columns=few_missing_value_rows.columns)\n",
    "\n",
    "general_scaled.head()"
   ]
  },
  {
   "cell_type": "markdown",
   "metadata": {},
   "source": [
    "### Discussion 2.1: Apply Feature Scaling\n",
    "\n",
    "Since I made sure that there is no missing value in step 1, I only applied normalization on the dataset in this step."
   ]
  },
  {
   "cell_type": "markdown",
   "metadata": {},
   "source": [
    "### Step 2.2: Perform Dimensionality Reduction\n",
    "\n",
    "On your scaled data, you are now ready to apply dimensionality reduction techniques.\n",
    "\n",
    "- Use sklearn's [PCA](http://scikit-learn.org/stable/modules/generated/sklearn.decomposition.PCA.html) class to apply principal component analysis on the data, thus finding the vectors of maximal variance in the data. To start, you should not set any parameters (so all components are computed) or set a number of components that is at least half the number of features (so there's enough features to see the general trend in variability).\n",
    "- Check out the ratio of variance explained by each principal component as well as the cumulative variance explained. Try plotting the cumulative or sequential values using matplotlib's [`plot()`](https://matplotlib.org/api/_as_gen/matplotlib.pyplot.plot.html) function. Based on what you find, select a value for the number of transformed features you'll retain for the clustering part of the project.\n",
    "- Once you've made a choice for the number of components to keep, make sure you re-fit a PCA instance to perform the decided-on transformation."
   ]
  },
  {
   "cell_type": "code",
   "execution_count": 29,
   "metadata": {},
   "outputs": [
    {
     "data": {
      "text/plain": [
       "130"
      ]
     },
     "execution_count": 29,
     "metadata": {},
     "output_type": "execute_result"
    }
   ],
   "source": [
    "# Apply PCA to the data.\n",
    "pca = PCA()\n",
    "pca.fit_transform(general_scaled)\n",
    "pca.n_components_"
   ]
  },
  {
   "cell_type": "code",
   "execution_count": 30,
   "metadata": {},
   "outputs": [],
   "source": [
    "def scree_plot(pca):\n",
    "    '''\n",
    "    Creates a scree plot associated with the principal components \n",
    "    \n",
    "    INPUT: pca - the result of instantian of PCA in scikit learn\n",
    "            \n",
    "    OUTPUT:\n",
    "            None\n",
    "    '''\n",
    "    num_components=len(pca.explained_variance_ratio_)\n",
    "    ind = np.arange(num_components)\n",
    "    vals = pca.explained_variance_ratio_\n",
    " \n",
    "    plt.figure(figsize=(10, 6))\n",
    "    ax = plt.subplot(111)\n",
    "    cumvals = np.cumsum(vals)\n",
    "    ax.bar(ind, vals)\n",
    "    ax.plot(ind, cumvals)\n",
    "    \n",
    "    cumvar = 0\n",
    "    for i in range(num_components):\n",
    "        cumvar = cumvar + vals[i]\n",
    "        if cumvar > 0.9:\n",
    "            print(\"90% of variance is captured by \", i, \" compnents\")\n",
    "            break;\n",
    " \n",
    "    ax.xaxis.set_tick_params(width=0)\n",
    "    ax.yaxis.set_tick_params(width=2, length=12)\n",
    " \n",
    "    ax.set_xlabel(\"Principal Component\")\n",
    "    ax.set_ylabel(\"Variance Explained (%)\")\n",
    "    plt.title('Explained Variance Per Principal Component')"
   ]
  },
  {
   "cell_type": "code",
   "execution_count": 31,
   "metadata": {},
   "outputs": [
    {
     "name": "stdout",
     "output_type": "stream",
     "text": [
      "90% of variance is captured by  69  compnents\n"
     ]
    },
    {
     "data": {
      "image/png": "[encoded data removed]",
      "text/plain": [
       "<matplotlib.figure.Figure at 0x7feb8ae74630>"
      ]
     },
     "metadata": {
      "needs_background": "light"
     },
     "output_type": "display_data"
    }
   ],
   "source": [
    "# Investigate the variance accounted for by each principal component.\n",
    "scree_plot(pca)"
   ]
  },
  {
   "cell_type": "code",
   "execution_count": 32,
   "metadata": {},
   "outputs": [],
   "source": [
    "# Re-apply PCA to the data while selecting for number of components to retain.\n",
    "pca = PCA(n_components=69)\n",
    "general_pca_matrix = pca.fit_transform(general_scaled)"
   ]
  },
  {
   "cell_type": "markdown",
   "metadata": {},
   "source": [
    "### Discussion 2.2: Perform Dimensionality Reduction\n",
    "\n",
    "As we can observe on the scree plot, the variance explained line soars up to 5 components and then gradually increase to around 65 components. From that point, the graph is very gentle until the total number of components 130. I want the model to be simple but also accurate, so I chose the 69 as a number of components which explains 90% of the variance."
   ]
  },
  {
   "cell_type": "markdown",
   "metadata": {},
   "source": [
    "### Step 2.3: Interpret Principal Components\n",
    "\n",
    "Now that we have our transformed principal components, it's a nice idea to check out the weight of each variable on the first few components to see if they can be interpreted in some fashion.\n",
    "\n",
    "As a reminder, each principal component is a unit vector that points in the direction of highest variance (after accounting for the variance captured by earlier principal components). The further a weight is from zero, the more the principal component is in the direction of the corresponding feature. If two features have large weights of the same sign (both positive or both negative), then increases in one tend expect to be associated with increases in the other. To contrast, features with different signs can be expected to show a negative correlation: increases in one variable should result in a decrease in the other.\n",
    "\n",
    "- To investigate the features, you should map each weight to their corresponding feature name, then sort the features according to weight. The most interesting features for each principal component, then, will be those at the beginning and end of the sorted list. Use the data dictionary document to help you understand these most prominent features, their relationships, and what a positive or negative value on the principal component might indicate.\n",
    "- You should investigate and interpret feature associations from the first three principal components in this substep. To help facilitate this, you should write a function that you can call at any time to print the sorted list of feature weights, for the *i*-th principal component. This might come in handy in the next step of the project, when you interpret the tendencies of the discovered clusters."
   ]
  },
  {
   "cell_type": "code",
   "execution_count": 33,
   "metadata": {},
   "outputs": [
    {
     "data": {
      "text/html": [
       "<div>\n",
       "<style>\n",
       "    .dataframe thead tr:only-child th {\n",
       "        text-align: right;\n",
       "    }\n",
       "\n",
       "    .dataframe thead th {\n",
       "        text-align: left;\n",
       "    }\n",
       "\n",
       "    .dataframe tbody tr th {\n",
       "        vertical-align: top;\n",
       "    }\n",
       "</style>\n",
       "<table border=\"1\" class=\"dataframe\">\n",
       "  <thead>\n",
       "    <tr style=\"text-align: right;\">\n",
       "      <th></th>\n",
       "      <th>Explained Variance</th>\n",
       "      <th>ALTERSKATEGORIE_GROB</th>\n",
       "      <th>ANREDE_KZ</th>\n",
       "      <th>FINANZ_MINIMALIST</th>\n",
       "      <th>FINANZ_SPARER</th>\n",
       "      <th>FINANZ_VORSORGER</th>\n",
       "      <th>FINANZ_ANLEGER</th>\n",
       "      <th>FINANZ_UNAUFFAELLIGER</th>\n",
       "      <th>FINANZ_HAUSBAUER</th>\n",
       "      <th>GREEN_AVANTGARDE</th>\n",
       "      <th>...</th>\n",
       "      <th>CAMEO_DEUG_2015_4</th>\n",
       "      <th>CAMEO_DEUG_2015_5</th>\n",
       "      <th>CAMEO_DEUG_2015_6</th>\n",
       "      <th>CAMEO_DEUG_2015_7</th>\n",
       "      <th>CAMEO_DEUG_2015_8</th>\n",
       "      <th>CAMEO_DEUG_2015_9</th>\n",
       "      <th>decade</th>\n",
       "      <th>movement</th>\n",
       "      <th>wealth</th>\n",
       "      <th>life_stage</th>\n",
       "    </tr>\n",
       "  </thead>\n",
       "  <tbody>\n",
       "    <tr>\n",
       "      <th>Dimension 1</th>\n",
       "      <td>0.1106</td>\n",
       "      <td>-0.0988</td>\n",
       "      <td>0.0118</td>\n",
       "      <td>-0.1988</td>\n",
       "      <td>0.1290</td>\n",
       "      <td>-0.0978</td>\n",
       "      <td>0.0625</td>\n",
       "      <td>0.0665</td>\n",
       "      <td>0.1465</td>\n",
       "      <td>-0.1023</td>\n",
       "      <td>...</td>\n",
       "      <td>-0.0730</td>\n",
       "      <td>-0.0097</td>\n",
       "      <td>0.0005</td>\n",
       "      <td>0.0339</td>\n",
       "      <td>0.0900</td>\n",
       "      <td>0.1144</td>\n",
       "      <td>0.0924</td>\n",
       "      <td>-0.1023</td>\n",
       "      <td>0.1834</td>\n",
       "      <td>-0.1123</td>\n",
       "    </tr>\n",
       "    <tr>\n",
       "      <th>Dimension 2</th>\n",
       "      <td>0.0824</td>\n",
       "      <td>0.2333</td>\n",
       "      <td>0.0546</td>\n",
       "      <td>0.0731</td>\n",
       "      <td>-0.2213</td>\n",
       "      <td>0.2178</td>\n",
       "      <td>-0.1979</td>\n",
       "      <td>-0.2131</td>\n",
       "      <td>0.1001</td>\n",
       "      <td>-0.0121</td>\n",
       "      <td>...</td>\n",
       "      <td>-0.0385</td>\n",
       "      <td>-0.0056</td>\n",
       "      <td>0.0124</td>\n",
       "      <td>0.0124</td>\n",
       "      <td>0.0416</td>\n",
       "      <td>0.0260</td>\n",
       "      <td>-0.2289</td>\n",
       "      <td>-0.0121</td>\n",
       "      <td>0.0672</td>\n",
       "      <td>0.0015</td>\n",
       "    </tr>\n",
       "    <tr>\n",
       "      <th>Dimension 3</th>\n",
       "      <td>0.0518</td>\n",
       "      <td>0.0340</td>\n",
       "      <td>-0.3505</td>\n",
       "      <td>0.1367</td>\n",
       "      <td>-0.0709</td>\n",
       "      <td>0.0648</td>\n",
       "      <td>-0.1622</td>\n",
       "      <td>-0.0627</td>\n",
       "      <td>-0.0536</td>\n",
       "      <td>0.0654</td>\n",
       "      <td>...</td>\n",
       "      <td>-0.0245</td>\n",
       "      <td>-0.0002</td>\n",
       "      <td>-0.0040</td>\n",
       "      <td>-0.0003</td>\n",
       "      <td>0.0132</td>\n",
       "      <td>0.0213</td>\n",
       "      <td>-0.0725</td>\n",
       "      <td>0.0654</td>\n",
       "      <td>0.0205</td>\n",
       "      <td>-0.0126</td>\n",
       "    </tr>\n",
       "  </tbody>\n",
       "</table>\n",
       "<p>3 rows × 131 columns</p>\n",
       "</div>"
      ],
      "text/plain": [
       "             Explained Variance  ALTERSKATEGORIE_GROB  ANREDE_KZ  \\\n",
       "Dimension 1              0.1106               -0.0988     0.0118   \n",
       "Dimension 2              0.0824                0.2333     0.0546   \n",
       "Dimension 3              0.0518                0.0340    -0.3505   \n",
       "\n",
       "             FINANZ_MINIMALIST  FINANZ_SPARER  FINANZ_VORSORGER  \\\n",
       "Dimension 1            -0.1988         0.1290           -0.0978   \n",
       "Dimension 2             0.0731        -0.2213            0.2178   \n",
       "Dimension 3             0.1367        -0.0709            0.0648   \n",
       "\n",
       "             FINANZ_ANLEGER  FINANZ_UNAUFFAELLIGER  FINANZ_HAUSBAUER  \\\n",
       "Dimension 1          0.0625                 0.0665            0.1465   \n",
       "Dimension 2         -0.1979                -0.2131            0.1001   \n",
       "Dimension 3         -0.1622                -0.0627           -0.0536   \n",
       "\n",
       "             GREEN_AVANTGARDE     ...      CAMEO_DEUG_2015_4  \\\n",
       "Dimension 1           -0.1023     ...                -0.0730   \n",
       "Dimension 2           -0.0121     ...                -0.0385   \n",
       "Dimension 3            0.0654     ...                -0.0245   \n",
       "\n",
       "             CAMEO_DEUG_2015_5  CAMEO_DEUG_2015_6  CAMEO_DEUG_2015_7  \\\n",
       "Dimension 1            -0.0097             0.0005             0.0339   \n",
       "Dimension 2            -0.0056             0.0124             0.0124   \n",
       "Dimension 3            -0.0002            -0.0040            -0.0003   \n",
       "\n",
       "             CAMEO_DEUG_2015_8  CAMEO_DEUG_2015_9  decade  movement  wealth  \\\n",
       "Dimension 1             0.0900             0.1144  0.0924   -0.1023  0.1834   \n",
       "Dimension 2             0.0416             0.0260 -0.2289   -0.0121  0.0672   \n",
       "Dimension 3             0.0132             0.0213 -0.0725    0.0654  0.0205   \n",
       "\n",
       "             life_stage  \n",
       "Dimension 1     -0.1123  \n",
       "Dimension 2      0.0015  \n",
       "Dimension 3     -0.0126  \n",
       "\n",
       "[3 rows x 131 columns]"
      ]
     },
     "execution_count": 33,
     "metadata": {},
     "output_type": "execute_result"
    }
   ],
   "source": [
    "def pca_results(full_dataset, pca):\n",
    "\t'''\n",
    "\tCreate a DataFrame of the PCA results\n",
    "\tIncludes dimension feature weights and explained variance\n",
    "\tVisualizes the PCA results\n",
    "\t'''\n",
    "\n",
    "\t# Dimension indexing\n",
    "\tdimensions = dimensions = ['Dimension {}'.format(i) for i in range(1,len(pca.components_)+1)]\n",
    "\n",
    "\t# PCA components\n",
    "\tcomponents = pd.DataFrame(np.round(pca.components_, 4), columns = full_dataset.keys())\n",
    "\tcomponents.index = dimensions\n",
    "\n",
    "\t# PCA explained variance\n",
    "\tratios = pca.explained_variance_ratio_.reshape(len(pca.components_), 1)\n",
    "\tvariance_ratios = pd.DataFrame(np.round(ratios, 4), columns = ['Explained Variance'])\n",
    "\tvariance_ratios.index = dimensions\n",
    "\n",
    "\t# Return a concatenated DataFrame\n",
    "\treturn pd.concat([variance_ratios, components], axis = 1)\n",
    "\n",
    "pca_results(general_scaled, pca).head(3)"
   ]
  },
  {
   "cell_type": "code",
   "execution_count": 34,
   "metadata": {},
   "outputs": [],
   "source": [
    "# Drop 'Explained Variance' for component feature analysis\n",
    "pcs = pca_results(general_scaled, pca).head(3).drop('Explained Variance', axis=1)"
   ]
  },
  {
   "cell_type": "code",
   "execution_count": 35,
   "metadata": {},
   "outputs": [
    {
     "name": "stdout",
     "output_type": "stream",
     "text": [
      "LP_STATUS_GROB_1.0    0.1970\n",
      "PLZ8_ANTG3            0.1911\n",
      "PLZ8_ANTG4            0.1851\n",
      "HH_EINKOMMEN_SCORE    0.1847\n",
      "wealth                0.1834\n",
      "Name: Dimension 1, dtype: float64\n",
      "\n",
      "FINANZ_MINIMALIST   -0.1988\n",
      "MOBI_REGIO          -0.1988\n",
      "PLZ8_ANTG1          -0.1914\n",
      "KBA05_ANTG1         -0.1882\n",
      "KBA05_GBZ           -0.1861\n",
      "Name: Dimension 1, dtype: float64\n"
     ]
    }
   ],
   "source": [
    "# Map weights for the first principal component to corresponding feature names\n",
    "# and then print the linked values, sorted by weight.\n",
    "# HINT: Try defining a function here or in a new cell that you can reuse in the\n",
    "# other cells.\n",
    "pc1 = pcs.iloc[0, :].sort_values(ascending=False)\n",
    "print(pc1.head(5))\n",
    "print(\"\")\n",
    "print(pc1.sort_values(ascending=True).head(5))"
   ]
  },
  {
   "cell_type": "code",
   "execution_count": 36,
   "metadata": {},
   "outputs": [
    {
     "name": "stdout",
     "output_type": "stream",
     "text": [
      "ALTERSKATEGORIE_GROB    0.2333\n",
      "FINANZ_VORSORGER        0.2178\n",
      "ZABEOTYP_3              0.2045\n",
      "SEMIO_ERL               0.1899\n",
      "SEMIO_LUST              0.1638\n",
      "Name: Dimension 2, dtype: float64\n",
      "\n",
      "decade                  -0.2289\n",
      "FINANZ_SPARER           -0.2213\n",
      "SEMIO_REL               -0.2200\n",
      "FINANZ_UNAUFFAELLIGER   -0.2131\n",
      "SEMIO_TRADV             -0.2097\n",
      "Name: Dimension 2, dtype: float64\n"
     ]
    }
   ],
   "source": [
    "# Map weights for the second principal component to corresponding feature names\n",
    "# and then print the linked values, sorted by weight.\n",
    "pc2 = pcs.iloc[1, :].sort_values(ascending=False)\n",
    "print(pc2.head(5))\n",
    "print(\"\")\n",
    "print(pc2.sort_values(ascending=True).head(5))"
   ]
  },
  {
   "cell_type": "code",
   "execution_count": 37,
   "metadata": {},
   "outputs": [
    {
     "name": "stdout",
     "output_type": "stream",
     "text": [
      "SEMIO_VERT     0.3258\n",
      "SEMIO_SOZ      0.2579\n",
      "SEMIO_FAM      0.2566\n",
      "SEMIO_KULT     0.2446\n",
      "FINANZTYP_5    0.1410\n",
      "Name: Dimension 3, dtype: float64\n",
      "\n",
      "ANREDE_KZ    -0.3505\n",
      "SEMIO_KAEM   -0.3223\n",
      "SEMIO_DOM    -0.2925\n",
      "SEMIO_KRIT   -0.2688\n",
      "SEMIO_ERL    -0.1980\n",
      "Name: Dimension 3, dtype: float64\n"
     ]
    }
   ],
   "source": [
    "# Map weights for the third principal component to corresponding feature names\n",
    "# and then print the linked values, sorted by weight.\n",
    "\n",
    "pc3 = pcs.iloc[2, :].sort_values(ascending=False)\n",
    "print(pc3.head(5))\n",
    "print(\"\")\n",
    "print(pc3.sort_values(ascending=True).head(5))"
   ]
  },
  {
   "cell_type": "markdown",
   "metadata": {},
   "source": [
    "### Discussion 2.3: Interpret Principal Components\n",
    "\n",
    "We can interpret the principal components by investigating the relationship of features related to the component.\n",
    "\n",
    "- Principal Component 1: \n",
    "    - As this component increase, income decreases (LP_STATUS_GROB, HH_EINKOMMEN_SCORE, wealth)\n",
    "    - As this component increase, share of big family increases (PLZ8_ANTG3, PLZ8_ANTG4, KBA05_ANTG1, PLZ8_ANTG1)\n",
    "    - As this component increase, financial interest gets higher (FINANZ_MINIMALIST)\n",
    "    - As this component increase, movement gets higher (MOBI_REGIO)\n",
    "    - As this component increase, number of buildings in PLZ8 increases (PLZ8_GBZ)  \n",
    "    -> Income, size of family (I suspect PLZ8 region is relatively poor region)\n",
    "    \n",
    "- Principal Component 2: \n",
    "    - As this component increase, age increases (ALTERSKATEGORIE_GROB, decade)\n",
    "    - As this component increase, fair energy consumtion increases (ZABEOTYP_3)\n",
    "    - As this component increase, customer is more religious, dutiful but less sensual and event_oriented (SEMIO_ERL, SEMIO_LUST, SEMIO_REL, SEMIO_PFLICHT\n",
    "    - As this component increase, customer tends to save money and more conspicuous but less prepared (FINANZ_VORSORGER, FINANZ_SPARER, FINANZ_UNAUFFAELLIGER)\n",
    "    -> Age, consumption type\n",
    "    \n",
    "- Principal Component 3:\n",
    "    - As this component increase, more combative, dominant-minded, critical and event-oriented, but less dreamful, socially-minded, family-minded, cultural-minded (SEMIO_VERT, SEMIO_SOZ, SEMIO_FAM, SEMIO_KULT, SEMIO_KAEM, SEMIO_DOM, SEMIO_KRIT, SEMIO_ERL)\n",
    "    - As this component increase, customer is more likely to be an investor (FINANZTYP_5)\n",
    "    - As this component increase, customer is more likely to be male (ANREDE_KZ)\n",
    "    -> Gender, personality"
   ]
  },
  {
   "cell_type": "markdown",
   "metadata": {},
   "source": [
    "## Step 3: Clustering\n",
    "\n",
    "### Step 3.1: Apply Clustering to General Population\n",
    "\n",
    "You've assessed and cleaned the demographics data, then scaled and transformed them. Now, it's time to see how the data clusters in the principal components space. In this substep, you will apply k-means clustering to the dataset and use the average within-cluster distances from each point to their assigned cluster's centroid to decide on a number of clusters to keep.\n",
    "\n",
    "- Use sklearn's [KMeans](http://scikit-learn.org/stable/modules/generated/sklearn.cluster.KMeans.html#sklearn.cluster.KMeans) class to perform k-means clustering on the PCA-transformed data.\n",
    "- Then, compute the average difference from each point to its assigned cluster's center. **Hint**: The KMeans object's `.score()` method might be useful here, but note that in sklearn, scores tend to be defined so that larger is better. Try applying it to a small, toy dataset, or use an internet search to help your understanding.\n",
    "- Perform the above two steps for a number of different cluster counts. You can then see how the average distance decreases with an increasing number of clusters. However, each additional cluster provides a smaller net benefit. Use this fact to select a final number of clusters in which to group the data. **Warning**: because of the large size of the dataset, it can take a long time for the algorithm to resolve. The more clusters to fit, the longer the algorithm will take. You should test for cluster counts through at least 10 clusters to get the full picture, but you shouldn't need to test for a number of clusters above about 30.\n",
    "- Once you've selected a final number of clusters to use, re-fit a KMeans instance to perform the clustering operation. Make sure that you also obtain the cluster assignments for the general demographics data, since you'll be using them in the final Step 3.3."
   ]
  },
  {
   "cell_type": "code",
   "execution_count": 38,
   "metadata": {},
   "outputs": [],
   "source": [
    "scores = []\n",
    "# Over a number of different cluster counts...\n",
    "for i in range(1, 31):\n",
    "    # run k-means clustering on the data and...\n",
    "    kmeans = MiniBatchKMeans(i)\n",
    "    model = kmeans.fit(general_pca_matrix)\n",
    "    # compute the average within-cluster distances.\n",
    "    scores.append(model.score(general_pca_matrix))"
   ]
  },
  {
   "cell_type": "code",
   "execution_count": 39,
   "metadata": {},
   "outputs": [
    {
     "data": {
      "text/plain": [
       "[<matplotlib.lines.Line2D at 0x7febb0e9aac8>]"
      ]
     },
     "execution_count": 39,
     "metadata": {},
     "output_type": "execute_result"
    },
    {
     "data": {
      "image/png": "[encoded data removed]",
      "text/plain": [
       "<matplotlib.figure.Figure at 0x7feb8b02cbe0>"
      ]
     },
     "metadata": {
      "needs_background": "light"
     },
     "output_type": "display_data"
    }
   ],
   "source": [
    "# Investigate the change in within-cluster distance across number of clusters.\n",
    "# HINT: Use matplotlib's plot function to visualize this relationship.\n",
    "plt.plot(range(1,31), [x * -1 for x in scores], linestyle='--', marker='o')"
   ]
  },
  {
   "cell_type": "code",
   "execution_count": 40,
   "metadata": {},
   "outputs": [],
   "source": [
    "# Re-fit the k-means model with the selected number of clusters and obtain\n",
    "# cluster predictions for the general population demographics data.\n",
    "kmeans = KMeans(5)\n",
    "model = kmeans.fit(general_pca_matrix)"
   ]
  },
  {
   "cell_type": "code",
   "execution_count": 41,
   "metadata": {},
   "outputs": [],
   "source": [
    "general_cluster = model.predict(general_pca_matrix)"
   ]
  },
  {
   "cell_type": "markdown",
   "metadata": {},
   "source": [
    "### Discussion 3.1: Apply Clustering to General Population\n",
    "\n",
    "I used elbow method to decide the optimal number of clusters. In the graph above, we can see the stongest bending curve at 5 number of clusters. I decided to make 5 clusters for further analysis."
   ]
  },
  {
   "cell_type": "markdown",
   "metadata": {},
   "source": [
    "### Step 3.2: Apply All Steps to the Customer Data\n",
    "\n",
    "Now that you have clusters and cluster centers for the general population, it's time to see how the customer data maps on to those clusters. Take care to not confuse this for re-fitting all of the models to the customer data. Instead, you're going to use the fits from the general population to clean, transform, and cluster the customer data. In the last step of the project, you will interpret how the general population fits apply to the customer data.\n",
    "\n",
    "- Don't forget when loading in the customers data, that it is semicolon (`;`) delimited.\n",
    "- Apply the same feature wrangling, selection, and engineering steps to the customer demographics using the `clean_data()` function you created earlier. (You can assume that the customer demographics data has similar meaning behind missing data patterns as the general demographics data.)\n",
    "- Use the sklearn objects from the general demographics data, and apply their transformations to the customers data. That is, you should not be using a `.fit()` or `.fit_transform()` method to re-fit the old objects, nor should you be creating new sklearn objects! Carry the data through the feature scaling, PCA, and clustering steps, obtaining cluster assignments for all of the data in the customer demographics data."
   ]
  },
  {
   "cell_type": "code",
   "execution_count": 44,
   "metadata": {},
   "outputs": [
    {
     "name": "stderr",
     "output_type": "stream",
     "text": [
      "/opt/conda/lib/python3.6/site-packages/ipykernel_launcher.py:28: SettingWithCopyWarning: \n",
      "A value is trying to be set on a copy of a slice from a DataFrame.\n",
      "Try using .loc[row_indexer,col_indexer] = value instead\n",
      "\n",
      "See the caveats in the documentation: http://pandas.pydata.org/pandas-docs/stable/indexing.html#indexing-view-versus-copy\n"
     ]
    }
   ],
   "source": [
    "# Load in the customer demographics data.\n",
    "customers = pd.read_csv('Udacity_CUSTOMERS_Subset.csv', delimiter=';')\n",
    "customers_cleaned = clean_data(customers)"
   ]
  },
  {
   "cell_type": "code",
   "execution_count": 45,
   "metadata": {},
   "outputs": [
    {
     "data": {
      "text/plain": [
       "{'GEBAEUDETYP_5.0'}"
      ]
     },
     "execution_count": 45,
     "metadata": {},
     "output_type": "execute_result"
    }
   ],
   "source": [
    "# 'GEBAEUDETYP_5.0' feature doesn't exist in customer dataset\n",
    "set(few_missing_value_rows.columns) - set(customers_cleaned.columns)"
   ]
  },
  {
   "cell_type": "code",
   "execution_count": 46,
   "metadata": {},
   "outputs": [],
   "source": [
    "# Make 'GEBAEUDETYP_5.0' feature for using Scaler fit with general population\n",
    "customers_cleaned.insert(loc=114, column='GEBAEUDETYP_5.0', value=0)"
   ]
  },
  {
   "cell_type": "code",
   "execution_count": 47,
   "metadata": {},
   "outputs": [],
   "source": [
    "# Apply preprocessing, feature transformation, and clustering from the general\n",
    "# demographics onto the customer data, obtaining cluster predictions for the\n",
    "# customer demographics data.\n",
    "customers_scaled = pd.DataFrame(scaler.transform(customers_cleaned), columns=customers_cleaned.columns)\n",
    "customers_pca_matrix = pca.transform(customers_scaled)"
   ]
  },
  {
   "cell_type": "code",
   "execution_count": 48,
   "metadata": {},
   "outputs": [],
   "source": [
    "customer_cluster = model.predict(customers_pca_matrix)"
   ]
  },
  {
   "cell_type": "markdown",
   "metadata": {},
   "source": [
    "### Step 3.3: Compare Customer Data to Demographics Data\n",
    "\n",
    "At this point, you have clustered data based on demographics of the general population of Germany, and seen how the customer data for a mail-order sales company maps onto those demographic clusters. In this final substep, you will compare the two cluster distributions to see where the strongest customer base for the company is.\n",
    "\n",
    "Consider the proportion of persons in each cluster for the general population, and the proportions for the customers. If we think the company's customer base to be universal, then the cluster assignment proportions should be fairly similar between the two. If there are only particular segments of the population that are interested in the company's products, then we should see a mismatch from one to the other. If there is a higher proportion of persons in a cluster for the customer data compared to the general population (e.g. 5% of persons are assigned to a cluster for the general population, but 15% of the customer data is closest to that cluster's centroid) then that suggests the people in that cluster to be a target audience for the company. On the other hand, the proportion of the data in a cluster being larger in the general population than the customer data (e.g. only 2% of customers closest to a population centroid that captures 6% of the data) suggests that group of persons to be outside of the target demographics.\n",
    "\n",
    "Take a look at the following points in this step:\n",
    "\n",
    "- Compute the proportion of data points in each cluster for the general population and the customer data. Visualizations will be useful here: both for the individual dataset proportions, but also to visualize the ratios in cluster representation between groups. Seaborn's [`countplot()`](https://seaborn.pydata.org/generated/seaborn.countplot.html) or [`barplot()`](https://seaborn.pydata.org/generated/seaborn.barplot.html) function could be handy.\n",
    "  - Recall the analysis you performed in step 1.1.3 of the project, where you separated out certain data points from the dataset if they had more than a specified threshold of missing values. If you found that this group was qualitatively different from the main bulk of the data, you should treat this as an additional data cluster in this analysis. Make sure that you account for the number of data points in this subset, for both the general population and customer datasets, when making your computations!\n",
    "- Which cluster or clusters are overrepresented in the customer dataset compared to the general population? Select at least one such cluster and infer what kind of people might be represented by that cluster. Use the principal component interpretations from step 2.3 or look at additional components to help you make this inference. Alternatively, you can use the `.inverse_transform()` method of the PCA and StandardScaler objects to transform centroids back to the original data space and interpret the retrieved values directly.\n",
    "- Perform a similar investigation for the underrepresented clusters. Which cluster or clusters are underrepresented in the customer dataset compared to the general population, and what kinds of people are typified by these clusters?"
   ]
  },
  {
   "cell_type": "code",
   "execution_count": 49,
   "metadata": {},
   "outputs": [
    {
     "data": {
      "text/html": [
       "<div>\n",
       "<style>\n",
       "    .dataframe thead tr:only-child th {\n",
       "        text-align: right;\n",
       "    }\n",
       "\n",
       "    .dataframe thead th {\n",
       "        text-align: left;\n",
       "    }\n",
       "\n",
       "    .dataframe tbody tr th {\n",
       "        vertical-align: top;\n",
       "    }\n",
       "</style>\n",
       "<table border=\"1\" class=\"dataframe\">\n",
       "  <thead>\n",
       "    <tr style=\"text-align: right;\">\n",
       "      <th></th>\n",
       "      <th>general</th>\n",
       "      <th>customers</th>\n",
       "      <th>general_prop</th>\n",
       "      <th>customers_prop</th>\n",
       "    </tr>\n",
       "  </thead>\n",
       "  <tbody>\n",
       "    <tr>\n",
       "      <th>0</th>\n",
       "      <td>143155</td>\n",
       "      <td>5384</td>\n",
       "      <td>0.185506</td>\n",
       "      <td>0.039647</td>\n",
       "    </tr>\n",
       "    <tr>\n",
       "      <th>1</th>\n",
       "      <td>158077</td>\n",
       "      <td>37023</td>\n",
       "      <td>0.204842</td>\n",
       "      <td>0.272631</td>\n",
       "    </tr>\n",
       "    <tr>\n",
       "      <th>2</th>\n",
       "      <td>197327</td>\n",
       "      <td>28069</td>\n",
       "      <td>0.255704</td>\n",
       "      <td>0.206695</td>\n",
       "    </tr>\n",
       "    <tr>\n",
       "      <th>3</th>\n",
       "      <td>112118</td>\n",
       "      <td>62825</td>\n",
       "      <td>0.145287</td>\n",
       "      <td>0.462632</td>\n",
       "    </tr>\n",
       "    <tr>\n",
       "      <th>4</th>\n",
       "      <td>161024</td>\n",
       "      <td>2498</td>\n",
       "      <td>0.208661</td>\n",
       "      <td>0.018395</td>\n",
       "    </tr>\n",
       "  </tbody>\n",
       "</table>\n",
       "</div>"
      ],
      "text/plain": [
       "   general  customers  general_prop  customers_prop\n",
       "0   143155       5384      0.185506        0.039647\n",
       "1   158077      37023      0.204842        0.272631\n",
       "2   197327      28069      0.255704        0.206695\n",
       "3   112118      62825      0.145287        0.462632\n",
       "4   161024       2498      0.208661        0.018395"
      ]
     },
     "execution_count": 49,
     "metadata": {},
     "output_type": "execute_result"
    }
   ],
   "source": [
    "# Compare the proportion of data in each cluster for the customer data to the\n",
    "# proportion of data in each cluster for the general population.\n",
    "general_cluster = pd.Series(general_cluster)\n",
    "customer_cluster = pd.Series(customer_cluster)\n",
    "\n",
    "count = pd.concat([general_cluster.value_counts(), customer_cluster.value_counts()], axis=1)\n",
    "count = count.rename(columns={0: \"general\", 1: \"customers\"})\n",
    "count['general_prop'] = count['general'].apply(lambda x: x/count['general'].sum())\n",
    "count['customers_prop'] = count['customers'].apply(lambda x: x/count['customers'].sum())\n",
    "\n",
    "count"
   ]
  },
  {
   "cell_type": "code",
   "execution_count": 50,
   "metadata": {
    "scrolled": true
   },
   "outputs": [
    {
     "data": {
      "text/plain": [
       "<matplotlib.axes._subplots.AxesSubplot at 0x7feb8ae0c898>"
      ]
     },
     "execution_count": 50,
     "metadata": {},
     "output_type": "execute_result"
    },
    {
     "data": {
      "image/png": "[encoded data removed]",
      "text/plain": [
       "<matplotlib.figure.Figure at 0x7feb8aded898>"
      ]
     },
     "metadata": {
      "needs_background": "light"
     },
     "output_type": "display_data"
    }
   ],
   "source": [
    "count.plot(x=count.index, y=['general_prop', 'customers_prop'], kind='bar', figsize=(12,4))"
   ]
  },
  {
   "cell_type": "code",
   "execution_count": 58,
   "metadata": {},
   "outputs": [],
   "source": [
    "# What kinds of people are part of a cluster that is overrepresented in the\n",
    "# customer data compared to the general population?\n",
    "# Cluster 1 center feature values\n",
    "center3 = model.cluster_centers_[3]\n",
    "center_feature3 = pd.Series(scaler.inverse_transform(pca.inverse_transform(center3)).round(2))\n",
    "center_feature3.index = few_missing_value_rows.columns"
   ]
  },
  {
   "cell_type": "code",
   "execution_count": 52,
   "metadata": {},
   "outputs": [],
   "source": [
    "# What kinds of people are part of a cluster that is underrepresented in the\n",
    "# customer data compared to the general population?\n",
    "center0 = model.cluster_centers_[0]\n",
    "center_feature0 = pd.Series(scaler.inverse_transform(pca.inverse_transform(center0)).round(2))\n",
    "center_feature0.index = few_missing_value_rows.columns"
   ]
  },
  {
   "cell_type": "code",
   "execution_count": 53,
   "metadata": {},
   "outputs": [],
   "source": [
    "# What kinds of people are part of a cluster that is underrepresented in the\n",
    "# customer data compared to the general population?\n",
    "center4 = model.cluster_centers_[4]\n",
    "center_feature4 = pd.Series(scaler.inverse_transform(pca.inverse_transform(center4)).round(2))\n",
    "center_feature4.index = few_missing_value_rows.columns"
   ]
  },
  {
   "cell_type": "code",
   "execution_count": 55,
   "metadata": {},
   "outputs": [
    {
     "name": "stderr",
     "output_type": "stream",
     "text": [
      "/opt/conda/lib/python3.6/site-packages/ipykernel_launcher.py:31: SettingWithCopyWarning: \n",
      "A value is trying to be set on a copy of a slice from a DataFrame.\n",
      "Try using .loc[row_indexer,col_indexer] = value instead\n",
      "\n",
      "See the caveats in the documentation: http://pandas.pydata.org/pandas-docs/stable/indexing.html#indexing-view-versus-copy\n"
     ]
    }
   ],
   "source": [
    "# Customers with many data points missing\n",
    "many_missing_value_customers = clean_data(customers, for_many_missing_value_rows=True)"
   ]
  },
  {
   "cell_type": "code",
   "execution_count": 60,
   "metadata": {},
   "outputs": [],
   "source": [
    "# Get data interval of each feature to measure rate of difference\n",
    "interval = few_missing_value_rows.max() - few_missing_value_rows.min()"
   ]
  },
  {
   "cell_type": "code",
   "execution_count": 61,
   "metadata": {},
   "outputs": [
    {
     "data": {
      "text/html": [
       "<div>\n",
       "<style>\n",
       "    .dataframe thead tr:only-child th {\n",
       "        text-align: right;\n",
       "    }\n",
       "\n",
       "    .dataframe thead th {\n",
       "        text-align: left;\n",
       "    }\n",
       "\n",
       "    .dataframe tbody tr th {\n",
       "        vertical-align: top;\n",
       "    }\n",
       "</style>\n",
       "<table border=\"1\" class=\"dataframe\">\n",
       "  <thead>\n",
       "    <tr style=\"text-align: right;\">\n",
       "      <th></th>\n",
       "      <th>average_customer</th>\n",
       "      <th>overrepresented</th>\n",
       "      <th>underrepresented_1</th>\n",
       "      <th>underrepresented_2</th>\n",
       "      <th>many_missing_points</th>\n",
       "      <th>interval</th>\n",
       "      <th>rate_overrepresented</th>\n",
       "      <th>rate_underrepresented_1</th>\n",
       "      <th>rate_underrepresented_2</th>\n",
       "      <th>rate_many_missing_points</th>\n",
       "      <th>rate_overrepresented_abs</th>\n",
       "      <th>rate_underrepresented_1_abs</th>\n",
       "      <th>rate_underrepresented_2_abs</th>\n",
       "      <th>rate_many_missing_points_abs</th>\n",
       "    </tr>\n",
       "  </thead>\n",
       "  <tbody>\n",
       "    <tr>\n",
       "      <th>ALTERSKATEGORIE_GROB</th>\n",
       "      <td>3.495917</td>\n",
       "      <td>3.42</td>\n",
       "      <td>1.91</td>\n",
       "      <td>1.85</td>\n",
       "      <td>1.979822</td>\n",
       "      <td>3.0</td>\n",
       "      <td>-0.025306</td>\n",
       "      <td>-0.528639</td>\n",
       "      <td>-0.548639</td>\n",
       "      <td>-0.505365</td>\n",
       "      <td>0.025306</td>\n",
       "      <td>0.528639</td>\n",
       "      <td>0.548639</td>\n",
       "      <td>0.505365</td>\n",
       "    </tr>\n",
       "    <tr>\n",
       "      <th>ANREDE_KZ</th>\n",
       "      <td>1.329259</td>\n",
       "      <td>1.51</td>\n",
       "      <td>1.51</td>\n",
       "      <td>1.55</td>\n",
       "      <td>1.491128</td>\n",
       "      <td>1.0</td>\n",
       "      <td>0.180741</td>\n",
       "      <td>0.180741</td>\n",
       "      <td>0.220741</td>\n",
       "      <td>0.161870</td>\n",
       "      <td>0.180741</td>\n",
       "      <td>0.180741</td>\n",
       "      <td>0.220741</td>\n",
       "      <td>0.161870</td>\n",
       "    </tr>\n",
       "    <tr>\n",
       "      <th>ANZ_HAUSHALTE_AKTIV</th>\n",
       "      <td>4.974595</td>\n",
       "      <td>2.52</td>\n",
       "      <td>3.02</td>\n",
       "      <td>15.09</td>\n",
       "      <td>1.443414</td>\n",
       "      <td>594.0</td>\n",
       "      <td>-0.004132</td>\n",
       "      <td>-0.003291</td>\n",
       "      <td>0.017029</td>\n",
       "      <td>-0.005945</td>\n",
       "      <td>0.004132</td>\n",
       "      <td>0.003291</td>\n",
       "      <td>0.017029</td>\n",
       "      <td>0.005945</td>\n",
       "    </tr>\n",
       "    <tr>\n",
       "      <th>ANZ_HH_TITEL</th>\n",
       "      <td>0.066569</td>\n",
       "      <td>0.01</td>\n",
       "      <td>0.01</td>\n",
       "      <td>0.06</td>\n",
       "      <td>0.006571</td>\n",
       "      <td>23.0</td>\n",
       "      <td>-0.002460</td>\n",
       "      <td>-0.002460</td>\n",
       "      <td>-0.000286</td>\n",
       "      <td>-0.002609</td>\n",
       "      <td>0.002460</td>\n",
       "      <td>0.002460</td>\n",
       "      <td>0.000286</td>\n",
       "      <td>0.002609</td>\n",
       "    </tr>\n",
       "    <tr>\n",
       "      <th>ANZ_PERSONEN</th>\n",
       "      <td>2.283065</td>\n",
       "      <td>1.81</td>\n",
       "      <td>2.08</td>\n",
       "      <td>1.44</td>\n",
       "      <td>1.173079</td>\n",
       "      <td>45.0</td>\n",
       "      <td>-0.010513</td>\n",
       "      <td>-0.004513</td>\n",
       "      <td>-0.018735</td>\n",
       "      <td>-0.024666</td>\n",
       "      <td>0.010513</td>\n",
       "      <td>0.004513</td>\n",
       "      <td>0.018735</td>\n",
       "      <td>0.024666</td>\n",
       "    </tr>\n",
       "  </tbody>\n",
       "</table>\n",
       "</div>"
      ],
      "text/plain": [
       "                      average_customer  overrepresented  underrepresented_1  \\\n",
       "ALTERSKATEGORIE_GROB          3.495917             3.42                1.91   \n",
       "ANREDE_KZ                     1.329259             1.51                1.51   \n",
       "ANZ_HAUSHALTE_AKTIV           4.974595             2.52                3.02   \n",
       "ANZ_HH_TITEL                  0.066569             0.01                0.01   \n",
       "ANZ_PERSONEN                  2.283065             1.81                2.08   \n",
       "\n",
       "                      underrepresented_2  many_missing_points  interval  \\\n",
       "ALTERSKATEGORIE_GROB                1.85             1.979822       3.0   \n",
       "ANREDE_KZ                           1.55             1.491128       1.0   \n",
       "ANZ_HAUSHALTE_AKTIV                15.09             1.443414     594.0   \n",
       "ANZ_HH_TITEL                        0.06             0.006571      23.0   \n",
       "ANZ_PERSONEN                        1.44             1.173079      45.0   \n",
       "\n",
       "                      rate_overrepresented  rate_underrepresented_1  \\\n",
       "ALTERSKATEGORIE_GROB             -0.025306                -0.528639   \n",
       "ANREDE_KZ                         0.180741                 0.180741   \n",
       "ANZ_HAUSHALTE_AKTIV              -0.004132                -0.003291   \n",
       "ANZ_HH_TITEL                     -0.002460                -0.002460   \n",
       "ANZ_PERSONEN                     -0.010513                -0.004513   \n",
       "\n",
       "                      rate_underrepresented_2  rate_many_missing_points  \\\n",
       "ALTERSKATEGORIE_GROB                -0.548639                 -0.505365   \n",
       "ANREDE_KZ                            0.220741                  0.161870   \n",
       "ANZ_HAUSHALTE_AKTIV                  0.017029                 -0.005945   \n",
       "ANZ_HH_TITEL                        -0.000286                 -0.002609   \n",
       "ANZ_PERSONEN                        -0.018735                 -0.024666   \n",
       "\n",
       "                      rate_overrepresented_abs  rate_underrepresented_1_abs  \\\n",
       "ALTERSKATEGORIE_GROB                  0.025306                     0.528639   \n",
       "ANREDE_KZ                             0.180741                     0.180741   \n",
       "ANZ_HAUSHALTE_AKTIV                   0.004132                     0.003291   \n",
       "ANZ_HH_TITEL                          0.002460                     0.002460   \n",
       "ANZ_PERSONEN                          0.010513                     0.004513   \n",
       "\n",
       "                      rate_underrepresented_2_abs  \\\n",
       "ALTERSKATEGORIE_GROB                     0.548639   \n",
       "ANREDE_KZ                                0.220741   \n",
       "ANZ_HAUSHALTE_AKTIV                      0.017029   \n",
       "ANZ_HH_TITEL                             0.000286   \n",
       "ANZ_PERSONEN                             0.018735   \n",
       "\n",
       "                      rate_many_missing_points_abs  \n",
       "ALTERSKATEGORIE_GROB                      0.505365  \n",
       "ANREDE_KZ                                 0.161870  \n",
       "ANZ_HAUSHALTE_AKTIV                       0.005945  \n",
       "ANZ_HH_TITEL                              0.002609  \n",
       "ANZ_PERSONEN                              0.024666  "
      ]
     },
     "execution_count": 61,
     "metadata": {},
     "output_type": "execute_result"
    }
   ],
   "source": [
    "cluster_analysis = pd.concat([customers_cleaned.mean(), center_feature1, center_feature0, center_feature4, many_missing_value_customers.mean(), interval], axis=1)\n",
    "cluster_analysis = cluster_analysis.rename(columns={0: \"average_customer\", 1:\"overrepresented\", 2:\"underrepresented_1\", 3:\"underrepresented_2\", 4:\"many_missing_points\", 5:\"interval\"})\n",
    "cluster_analysis['rate_overrepresented'] = (cluster_analysis['overrepresented'] - cluster_analysis['average_customer']) / cluster_analysis['interval']\n",
    "cluster_analysis['rate_underrepresented_1'] = (cluster_analysis['underrepresented_1'] - cluster_analysis['average_customer']) / cluster_analysis['interval']\n",
    "cluster_analysis['rate_underrepresented_2'] = (cluster_analysis['underrepresented_2'] - cluster_analysis['average_customer']) / cluster_analysis['interval']\n",
    "cluster_analysis['rate_many_missing_points'] = (cluster_analysis['many_missing_points'] - cluster_analysis['average_customer']) / cluster_analysis['interval']\n",
    "cluster_analysis['rate_overrepresented_abs'] = abs(cluster_analysis['rate_overrepresented'])\n",
    "cluster_analysis['rate_underrepresented_1_abs'] = abs(cluster_analysis['rate_underrepresented_1'])\n",
    "cluster_analysis['rate_underrepresented_2_abs'] = abs(cluster_analysis['rate_underrepresented_2'])\n",
    "cluster_analysis['rate_many_missing_points_abs'] = abs(cluster_analysis['rate_many_missing_points'])\n",
    "cluster_analysis.head()"
   ]
  },
  {
   "cell_type": "code",
   "execution_count": 62,
   "metadata": {},
   "outputs": [
    {
     "data": {
      "text/html": [
       "<div>\n",
       "<style>\n",
       "    .dataframe thead tr:only-child th {\n",
       "        text-align: right;\n",
       "    }\n",
       "\n",
       "    .dataframe thead th {\n",
       "        text-align: left;\n",
       "    }\n",
       "\n",
       "    .dataframe tbody tr th {\n",
       "        vertical-align: top;\n",
       "    }\n",
       "</style>\n",
       "<table border=\"1\" class=\"dataframe\">\n",
       "  <thead>\n",
       "    <tr style=\"text-align: right;\">\n",
       "      <th></th>\n",
       "      <th>average_customer</th>\n",
       "      <th>overrepresented</th>\n",
       "      <th>underrepresented_1</th>\n",
       "      <th>underrepresented_2</th>\n",
       "      <th>many_missing_points</th>\n",
       "      <th>interval</th>\n",
       "      <th>rate_overrepresented</th>\n",
       "      <th>rate_underrepresented_1</th>\n",
       "      <th>rate_underrepresented_2</th>\n",
       "      <th>rate_many_missing_points</th>\n",
       "      <th>rate_overrepresented_abs</th>\n",
       "      <th>rate_underrepresented_1_abs</th>\n",
       "      <th>rate_underrepresented_2_abs</th>\n",
       "      <th>rate_many_missing_points_abs</th>\n",
       "    </tr>\n",
       "  </thead>\n",
       "  <tbody>\n",
       "    <tr>\n",
       "      <th>movement</th>\n",
       "      <td>0.508494</td>\n",
       "      <td>0.00</td>\n",
       "      <td>0.23</td>\n",
       "      <td>0.06</td>\n",
       "      <td>0.038727</td>\n",
       "      <td>1.0</td>\n",
       "      <td>-0.508494</td>\n",
       "      <td>-0.278494</td>\n",
       "      <td>-0.448494</td>\n",
       "      <td>-0.469768</td>\n",
       "      <td>0.508494</td>\n",
       "      <td>0.278494</td>\n",
       "      <td>0.448494</td>\n",
       "      <td>0.469768</td>\n",
       "    </tr>\n",
       "    <tr>\n",
       "      <th>GREEN_AVANTGARDE</th>\n",
       "      <td>0.502257</td>\n",
       "      <td>0.00</td>\n",
       "      <td>0.23</td>\n",
       "      <td>0.06</td>\n",
       "      <td>0.038727</td>\n",
       "      <td>1.0</td>\n",
       "      <td>-0.502257</td>\n",
       "      <td>-0.272257</td>\n",
       "      <td>-0.442257</td>\n",
       "      <td>-0.463530</td>\n",
       "      <td>0.502257</td>\n",
       "      <td>0.272257</td>\n",
       "      <td>0.442257</td>\n",
       "      <td>0.463530</td>\n",
       "    </tr>\n",
       "    <tr>\n",
       "      <th>LP_STATUS_GROB_4.0</th>\n",
       "      <td>0.227645</td>\n",
       "      <td>0.61</td>\n",
       "      <td>0.26</td>\n",
       "      <td>-0.01</td>\n",
       "      <td>0.050866</td>\n",
       "      <td>1.0</td>\n",
       "      <td>0.382355</td>\n",
       "      <td>0.032355</td>\n",
       "      <td>-0.237645</td>\n",
       "      <td>-0.176780</td>\n",
       "      <td>0.382355</td>\n",
       "      <td>0.032355</td>\n",
       "      <td>0.237645</td>\n",
       "      <td>0.176780</td>\n",
       "    </tr>\n",
       "    <tr>\n",
       "      <th>LP_STATUS_GROB_5.0</th>\n",
       "      <td>0.376608</td>\n",
       "      <td>0.02</td>\n",
       "      <td>0.10</td>\n",
       "      <td>0.00</td>\n",
       "      <td>0.062844</td>\n",
       "      <td>1.0</td>\n",
       "      <td>-0.356608</td>\n",
       "      <td>-0.276608</td>\n",
       "      <td>-0.376608</td>\n",
       "      <td>-0.313765</td>\n",
       "      <td>0.356608</td>\n",
       "      <td>0.276608</td>\n",
       "      <td>0.376608</td>\n",
       "      <td>0.313765</td>\n",
       "    </tr>\n",
       "    <tr>\n",
       "      <th>EWDICHTE</th>\n",
       "      <td>3.876406</td>\n",
       "      <td>2.45</td>\n",
       "      <td>2.94</td>\n",
       "      <td>5.06</td>\n",
       "      <td>4.894867</td>\n",
       "      <td>5.0</td>\n",
       "      <td>-0.285281</td>\n",
       "      <td>-0.187281</td>\n",
       "      <td>0.236719</td>\n",
       "      <td>0.203692</td>\n",
       "      <td>0.285281</td>\n",
       "      <td>0.187281</td>\n",
       "      <td>0.236719</td>\n",
       "      <td>0.203692</td>\n",
       "    </tr>\n",
       "  </tbody>\n",
       "</table>\n",
       "</div>"
      ],
      "text/plain": [
       "                    average_customer  overrepresented  underrepresented_1  \\\n",
       "movement                    0.508494             0.00                0.23   \n",
       "GREEN_AVANTGARDE            0.502257             0.00                0.23   \n",
       "LP_STATUS_GROB_4.0          0.227645             0.61                0.26   \n",
       "LP_STATUS_GROB_5.0          0.376608             0.02                0.10   \n",
       "EWDICHTE                    3.876406             2.45                2.94   \n",
       "\n",
       "                    underrepresented_2  many_missing_points  interval  \\\n",
       "movement                          0.06             0.038727       1.0   \n",
       "GREEN_AVANTGARDE                  0.06             0.038727       1.0   \n",
       "LP_STATUS_GROB_4.0               -0.01             0.050866       1.0   \n",
       "LP_STATUS_GROB_5.0                0.00             0.062844       1.0   \n",
       "EWDICHTE                          5.06             4.894867       5.0   \n",
       "\n",
       "                    rate_overrepresented  rate_underrepresented_1  \\\n",
       "movement                       -0.508494                -0.278494   \n",
       "GREEN_AVANTGARDE               -0.502257                -0.272257   \n",
       "LP_STATUS_GROB_4.0              0.382355                 0.032355   \n",
       "LP_STATUS_GROB_5.0             -0.356608                -0.276608   \n",
       "EWDICHTE                       -0.285281                -0.187281   \n",
       "\n",
       "                    rate_underrepresented_2  rate_many_missing_points  \\\n",
       "movement                          -0.448494                 -0.469768   \n",
       "GREEN_AVANTGARDE                  -0.442257                 -0.463530   \n",
       "LP_STATUS_GROB_4.0                -0.237645                 -0.176780   \n",
       "LP_STATUS_GROB_5.0                -0.376608                 -0.313765   \n",
       "EWDICHTE                           0.236719                  0.203692   \n",
       "\n",
       "                    rate_overrepresented_abs  rate_underrepresented_1_abs  \\\n",
       "movement                            0.508494                     0.278494   \n",
       "GREEN_AVANTGARDE                    0.502257                     0.272257   \n",
       "LP_STATUS_GROB_4.0                  0.382355                     0.032355   \n",
       "LP_STATUS_GROB_5.0                  0.356608                     0.276608   \n",
       "EWDICHTE                            0.285281                     0.187281   \n",
       "\n",
       "                    rate_underrepresented_2_abs  rate_many_missing_points_abs  \n",
       "movement                               0.448494                      0.469768  \n",
       "GREEN_AVANTGARDE                       0.442257                      0.463530  \n",
       "LP_STATUS_GROB_4.0                     0.237645                      0.176780  \n",
       "LP_STATUS_GROB_5.0                     0.376608                      0.313765  \n",
       "EWDICHTE                               0.236719                      0.203692  "
      ]
     },
     "execution_count": 62,
     "metadata": {},
     "output_type": "execute_result"
    }
   ],
   "source": [
    "# What features show the most difference in overrepresented cluster comparing to custmer average?\n",
    "cluster_analysis.sort_values(by='rate_overrepresented_abs', ascending=False).head()"
   ]
  },
  {
   "cell_type": "code",
   "execution_count": 63,
   "metadata": {},
   "outputs": [
    {
     "data": {
      "text/html": [
       "<div>\n",
       "<style>\n",
       "    .dataframe thead tr:only-child th {\n",
       "        text-align: right;\n",
       "    }\n",
       "\n",
       "    .dataframe thead th {\n",
       "        text-align: left;\n",
       "    }\n",
       "\n",
       "    .dataframe tbody tr th {\n",
       "        vertical-align: top;\n",
       "    }\n",
       "</style>\n",
       "<table border=\"1\" class=\"dataframe\">\n",
       "  <thead>\n",
       "    <tr style=\"text-align: right;\">\n",
       "      <th></th>\n",
       "      <th>average_customer</th>\n",
       "      <th>overrepresented</th>\n",
       "      <th>underrepresented_1</th>\n",
       "      <th>underrepresented_2</th>\n",
       "      <th>many_missing_points</th>\n",
       "      <th>interval</th>\n",
       "      <th>rate_overrepresented</th>\n",
       "      <th>rate_underrepresented_1</th>\n",
       "      <th>rate_underrepresented_2</th>\n",
       "      <th>rate_many_missing_points</th>\n",
       "      <th>rate_overrepresented_abs</th>\n",
       "      <th>rate_underrepresented_1_abs</th>\n",
       "      <th>rate_underrepresented_2_abs</th>\n",
       "      <th>rate_many_missing_points_abs</th>\n",
       "    </tr>\n",
       "  </thead>\n",
       "  <tbody>\n",
       "    <tr>\n",
       "      <th>FINANZ_ANLEGER</th>\n",
       "      <td>1.595711</td>\n",
       "      <td>2.44</td>\n",
       "      <td>4.14</td>\n",
       "      <td>3.91</td>\n",
       "      <td>4.492113</td>\n",
       "      <td>4.0</td>\n",
       "      <td>0.211072</td>\n",
       "      <td>0.636072</td>\n",
       "      <td>0.578572</td>\n",
       "      <td>0.724100</td>\n",
       "      <td>0.211072</td>\n",
       "      <td>0.636072</td>\n",
       "      <td>0.578572</td>\n",
       "      <td>0.724100</td>\n",
       "    </tr>\n",
       "    <tr>\n",
       "      <th>FINANZ_SPARER</th>\n",
       "      <td>1.421189</td>\n",
       "      <td>1.67</td>\n",
       "      <td>3.96</td>\n",
       "      <td>4.37</td>\n",
       "      <td>3.603065</td>\n",
       "      <td>4.0</td>\n",
       "      <td>0.062203</td>\n",
       "      <td>0.634703</td>\n",
       "      <td>0.737203</td>\n",
       "      <td>0.545469</td>\n",
       "      <td>0.062203</td>\n",
       "      <td>0.634703</td>\n",
       "      <td>0.737203</td>\n",
       "      <td>0.545469</td>\n",
       "    </tr>\n",
       "    <tr>\n",
       "      <th>FINANZ_VORSORGER</th>\n",
       "      <td>4.572420</td>\n",
       "      <td>4.27</td>\n",
       "      <td>2.18</td>\n",
       "      <td>2.16</td>\n",
       "      <td>3.237266</td>\n",
       "      <td>4.0</td>\n",
       "      <td>-0.075605</td>\n",
       "      <td>-0.598105</td>\n",
       "      <td>-0.603105</td>\n",
       "      <td>-0.333788</td>\n",
       "      <td>0.075605</td>\n",
       "      <td>0.598105</td>\n",
       "      <td>0.603105</td>\n",
       "      <td>0.333788</td>\n",
       "    </tr>\n",
       "    <tr>\n",
       "      <th>decade</th>\n",
       "      <td>2.868261</td>\n",
       "      <td>3.51</td>\n",
       "      <td>5.71</td>\n",
       "      <td>5.71</td>\n",
       "      <td>2.160296</td>\n",
       "      <td>5.0</td>\n",
       "      <td>0.128348</td>\n",
       "      <td>0.568348</td>\n",
       "      <td>0.568348</td>\n",
       "      <td>-0.141593</td>\n",
       "      <td>0.128348</td>\n",
       "      <td>0.568348</td>\n",
       "      <td>0.568348</td>\n",
       "      <td>0.141593</td>\n",
       "    </tr>\n",
       "    <tr>\n",
       "      <th>FINANZ_UNAUFFAELLIGER</th>\n",
       "      <td>1.843143</td>\n",
       "      <td>1.76</td>\n",
       "      <td>4.01</td>\n",
       "      <td>3.76</td>\n",
       "      <td>4.598643</td>\n",
       "      <td>4.0</td>\n",
       "      <td>-0.020786</td>\n",
       "      <td>0.541714</td>\n",
       "      <td>0.479214</td>\n",
       "      <td>0.688875</td>\n",
       "      <td>0.020786</td>\n",
       "      <td>0.541714</td>\n",
       "      <td>0.479214</td>\n",
       "      <td>0.688875</td>\n",
       "    </tr>\n",
       "  </tbody>\n",
       "</table>\n",
       "</div>"
      ],
      "text/plain": [
       "                       average_customer  overrepresented  underrepresented_1  \\\n",
       "FINANZ_ANLEGER                 1.595711             2.44                4.14   \n",
       "FINANZ_SPARER                  1.421189             1.67                3.96   \n",
       "FINANZ_VORSORGER               4.572420             4.27                2.18   \n",
       "decade                         2.868261             3.51                5.71   \n",
       "FINANZ_UNAUFFAELLIGER          1.843143             1.76                4.01   \n",
       "\n",
       "                       underrepresented_2  many_missing_points  interval  \\\n",
       "FINANZ_ANLEGER                       3.91             4.492113       4.0   \n",
       "FINANZ_SPARER                        4.37             3.603065       4.0   \n",
       "FINANZ_VORSORGER                     2.16             3.237266       4.0   \n",
       "decade                               5.71             2.160296       5.0   \n",
       "FINANZ_UNAUFFAELLIGER                3.76             4.598643       4.0   \n",
       "\n",
       "                       rate_overrepresented  rate_underrepresented_1  \\\n",
       "FINANZ_ANLEGER                     0.211072                 0.636072   \n",
       "FINANZ_SPARER                      0.062203                 0.634703   \n",
       "FINANZ_VORSORGER                  -0.075605                -0.598105   \n",
       "decade                             0.128348                 0.568348   \n",
       "FINANZ_UNAUFFAELLIGER             -0.020786                 0.541714   \n",
       "\n",
       "                       rate_underrepresented_2  rate_many_missing_points  \\\n",
       "FINANZ_ANLEGER                        0.578572                  0.724100   \n",
       "FINANZ_SPARER                         0.737203                  0.545469   \n",
       "FINANZ_VORSORGER                     -0.603105                 -0.333788   \n",
       "decade                                0.568348                 -0.141593   \n",
       "FINANZ_UNAUFFAELLIGER                 0.479214                  0.688875   \n",
       "\n",
       "                       rate_overrepresented_abs  rate_underrepresented_1_abs  \\\n",
       "FINANZ_ANLEGER                         0.211072                     0.636072   \n",
       "FINANZ_SPARER                          0.062203                     0.634703   \n",
       "FINANZ_VORSORGER                       0.075605                     0.598105   \n",
       "decade                                 0.128348                     0.568348   \n",
       "FINANZ_UNAUFFAELLIGER                  0.020786                     0.541714   \n",
       "\n",
       "                       rate_underrepresented_2_abs  \\\n",
       "FINANZ_ANLEGER                            0.578572   \n",
       "FINANZ_SPARER                             0.737203   \n",
       "FINANZ_VORSORGER                          0.603105   \n",
       "decade                                    0.568348   \n",
       "FINANZ_UNAUFFAELLIGER                     0.479214   \n",
       "\n",
       "                       rate_many_missing_points_abs  \n",
       "FINANZ_ANLEGER                             0.724100  \n",
       "FINANZ_SPARER                              0.545469  \n",
       "FINANZ_VORSORGER                           0.333788  \n",
       "decade                                     0.141593  \n",
       "FINANZ_UNAUFFAELLIGER                      0.688875  "
      ]
     },
     "execution_count": 63,
     "metadata": {},
     "output_type": "execute_result"
    }
   ],
   "source": [
    "# What features show the most difference between underrepresented cluster 1 comparing to custmer average?\n",
    "cluster_analysis.sort_values(by='rate_underrepresented_1_abs', ascending=False).head()"
   ]
  },
  {
   "cell_type": "code",
   "execution_count": 64,
   "metadata": {},
   "outputs": [
    {
     "data": {
      "text/html": [
       "<div>\n",
       "<style>\n",
       "    .dataframe thead tr:only-child th {\n",
       "        text-align: right;\n",
       "    }\n",
       "\n",
       "    .dataframe thead th {\n",
       "        text-align: left;\n",
       "    }\n",
       "\n",
       "    .dataframe tbody tr th {\n",
       "        vertical-align: top;\n",
       "    }\n",
       "</style>\n",
       "<table border=\"1\" class=\"dataframe\">\n",
       "  <thead>\n",
       "    <tr style=\"text-align: right;\">\n",
       "      <th></th>\n",
       "      <th>average_customer</th>\n",
       "      <th>overrepresented</th>\n",
       "      <th>underrepresented_1</th>\n",
       "      <th>underrepresented_2</th>\n",
       "      <th>many_missing_points</th>\n",
       "      <th>interval</th>\n",
       "      <th>rate_overrepresented</th>\n",
       "      <th>rate_underrepresented_1</th>\n",
       "      <th>rate_underrepresented_2</th>\n",
       "      <th>rate_many_missing_points</th>\n",
       "      <th>rate_overrepresented_abs</th>\n",
       "      <th>rate_underrepresented_1_abs</th>\n",
       "      <th>rate_underrepresented_2_abs</th>\n",
       "      <th>rate_many_missing_points_abs</th>\n",
       "    </tr>\n",
       "  </thead>\n",
       "  <tbody>\n",
       "    <tr>\n",
       "      <th>LP_STATUS_GROB_1.0</th>\n",
       "      <td>0.138793</td>\n",
       "      <td>0.08</td>\n",
       "      <td>0.15</td>\n",
       "      <td>0.91</td>\n",
       "      <td>0.032711</td>\n",
       "      <td>1.0</td>\n",
       "      <td>-0.058793</td>\n",
       "      <td>0.011207</td>\n",
       "      <td>0.771207</td>\n",
       "      <td>-0.106082</td>\n",
       "      <td>0.058793</td>\n",
       "      <td>0.011207</td>\n",
       "      <td>0.771207</td>\n",
       "      <td>0.106082</td>\n",
       "    </tr>\n",
       "    <tr>\n",
       "      <th>FINANZ_SPARER</th>\n",
       "      <td>1.421189</td>\n",
       "      <td>1.67</td>\n",
       "      <td>3.96</td>\n",
       "      <td>4.37</td>\n",
       "      <td>3.603065</td>\n",
       "      <td>4.0</td>\n",
       "      <td>0.062203</td>\n",
       "      <td>0.634703</td>\n",
       "      <td>0.737203</td>\n",
       "      <td>0.545469</td>\n",
       "      <td>0.062203</td>\n",
       "      <td>0.634703</td>\n",
       "      <td>0.737203</td>\n",
       "      <td>0.545469</td>\n",
       "    </tr>\n",
       "    <tr>\n",
       "      <th>FINANZ_MINIMALIST</th>\n",
       "      <td>4.271129</td>\n",
       "      <td>4.13</td>\n",
       "      <td>2.74</td>\n",
       "      <td>1.44</td>\n",
       "      <td>3.216479</td>\n",
       "      <td>4.0</td>\n",
       "      <td>-0.035282</td>\n",
       "      <td>-0.382782</td>\n",
       "      <td>-0.707782</td>\n",
       "      <td>-0.263662</td>\n",
       "      <td>0.035282</td>\n",
       "      <td>0.382782</td>\n",
       "      <td>0.707782</td>\n",
       "      <td>0.263662</td>\n",
       "    </tr>\n",
       "    <tr>\n",
       "      <th>FINANZTYP_1</th>\n",
       "      <td>0.027195</td>\n",
       "      <td>0.02</td>\n",
       "      <td>0.39</td>\n",
       "      <td>0.70</td>\n",
       "      <td>0.006839</td>\n",
       "      <td>1.0</td>\n",
       "      <td>-0.007195</td>\n",
       "      <td>0.362805</td>\n",
       "      <td>0.672805</td>\n",
       "      <td>-0.020355</td>\n",
       "      <td>0.007195</td>\n",
       "      <td>0.362805</td>\n",
       "      <td>0.672805</td>\n",
       "      <td>0.020355</td>\n",
       "    </tr>\n",
       "    <tr>\n",
       "      <th>FINANZ_VORSORGER</th>\n",
       "      <td>4.572420</td>\n",
       "      <td>4.27</td>\n",
       "      <td>2.18</td>\n",
       "      <td>2.16</td>\n",
       "      <td>3.237266</td>\n",
       "      <td>4.0</td>\n",
       "      <td>-0.075605</td>\n",
       "      <td>-0.598105</td>\n",
       "      <td>-0.603105</td>\n",
       "      <td>-0.333788</td>\n",
       "      <td>0.075605</td>\n",
       "      <td>0.598105</td>\n",
       "      <td>0.603105</td>\n",
       "      <td>0.333788</td>\n",
       "    </tr>\n",
       "  </tbody>\n",
       "</table>\n",
       "</div>"
      ],
      "text/plain": [
       "                    average_customer  overrepresented  underrepresented_1  \\\n",
       "LP_STATUS_GROB_1.0          0.138793             0.08                0.15   \n",
       "FINANZ_SPARER               1.421189             1.67                3.96   \n",
       "FINANZ_MINIMALIST           4.271129             4.13                2.74   \n",
       "FINANZTYP_1                 0.027195             0.02                0.39   \n",
       "FINANZ_VORSORGER            4.572420             4.27                2.18   \n",
       "\n",
       "                    underrepresented_2  many_missing_points  interval  \\\n",
       "LP_STATUS_GROB_1.0                0.91             0.032711       1.0   \n",
       "FINANZ_SPARER                     4.37             3.603065       4.0   \n",
       "FINANZ_MINIMALIST                 1.44             3.216479       4.0   \n",
       "FINANZTYP_1                       0.70             0.006839       1.0   \n",
       "FINANZ_VORSORGER                  2.16             3.237266       4.0   \n",
       "\n",
       "                    rate_overrepresented  rate_underrepresented_1  \\\n",
       "LP_STATUS_GROB_1.0             -0.058793                 0.011207   \n",
       "FINANZ_SPARER                   0.062203                 0.634703   \n",
       "FINANZ_MINIMALIST              -0.035282                -0.382782   \n",
       "FINANZTYP_1                    -0.007195                 0.362805   \n",
       "FINANZ_VORSORGER               -0.075605                -0.598105   \n",
       "\n",
       "                    rate_underrepresented_2  rate_many_missing_points  \\\n",
       "LP_STATUS_GROB_1.0                 0.771207                 -0.106082   \n",
       "FINANZ_SPARER                      0.737203                  0.545469   \n",
       "FINANZ_MINIMALIST                 -0.707782                 -0.263662   \n",
       "FINANZTYP_1                        0.672805                 -0.020355   \n",
       "FINANZ_VORSORGER                  -0.603105                 -0.333788   \n",
       "\n",
       "                    rate_overrepresented_abs  rate_underrepresented_1_abs  \\\n",
       "LP_STATUS_GROB_1.0                  0.058793                     0.011207   \n",
       "FINANZ_SPARER                       0.062203                     0.634703   \n",
       "FINANZ_MINIMALIST                   0.035282                     0.382782   \n",
       "FINANZTYP_1                         0.007195                     0.362805   \n",
       "FINANZ_VORSORGER                    0.075605                     0.598105   \n",
       "\n",
       "                    rate_underrepresented_2_abs  rate_many_missing_points_abs  \n",
       "LP_STATUS_GROB_1.0                     0.771207                      0.106082  \n",
       "FINANZ_SPARER                          0.737203                      0.545469  \n",
       "FINANZ_MINIMALIST                      0.707782                      0.263662  \n",
       "FINANZTYP_1                            0.672805                      0.020355  \n",
       "FINANZ_VORSORGER                       0.603105                      0.333788  "
      ]
     },
     "execution_count": 64,
     "metadata": {},
     "output_type": "execute_result"
    }
   ],
   "source": [
    "# What features show the most difference between underrepresented cluster 2 comparing to custmer average?\n",
    "cluster_analysis.sort_values(by='rate_underrepresented_2_abs', ascending=False).head()"
   ]
  },
  {
   "cell_type": "code",
   "execution_count": 65,
   "metadata": {},
   "outputs": [
    {
     "data": {
      "text/html": [
       "<div>\n",
       "<style>\n",
       "    .dataframe thead tr:only-child th {\n",
       "        text-align: right;\n",
       "    }\n",
       "\n",
       "    .dataframe thead th {\n",
       "        text-align: left;\n",
       "    }\n",
       "\n",
       "    .dataframe tbody tr th {\n",
       "        vertical-align: top;\n",
       "    }\n",
       "</style>\n",
       "<table border=\"1\" class=\"dataframe\">\n",
       "  <thead>\n",
       "    <tr style=\"text-align: right;\">\n",
       "      <th></th>\n",
       "      <th>average_customer</th>\n",
       "      <th>overrepresented</th>\n",
       "      <th>underrepresented_1</th>\n",
       "      <th>underrepresented_2</th>\n",
       "      <th>many_missing_points</th>\n",
       "      <th>interval</th>\n",
       "      <th>rate_overrepresented</th>\n",
       "      <th>rate_underrepresented_1</th>\n",
       "      <th>rate_underrepresented_2</th>\n",
       "      <th>rate_many_missing_points</th>\n",
       "      <th>rate_overrepresented_abs</th>\n",
       "      <th>rate_underrepresented_1_abs</th>\n",
       "      <th>rate_underrepresented_2_abs</th>\n",
       "      <th>rate_many_missing_points_abs</th>\n",
       "    </tr>\n",
       "  </thead>\n",
       "  <tbody>\n",
       "    <tr>\n",
       "      <th>FINANZTYP_4</th>\n",
       "      <td>0.012739</td>\n",
       "      <td>0.00</td>\n",
       "      <td>0.24</td>\n",
       "      <td>0.11</td>\n",
       "      <td>0.836338</td>\n",
       "      <td>1.0</td>\n",
       "      <td>-0.012739</td>\n",
       "      <td>0.227261</td>\n",
       "      <td>0.097261</td>\n",
       "      <td>0.823599</td>\n",
       "      <td>0.012739</td>\n",
       "      <td>0.227261</td>\n",
       "      <td>0.097261</td>\n",
       "      <td>0.823599</td>\n",
       "    </tr>\n",
       "    <tr>\n",
       "      <th>CAMEO_DEUG_2015_3</th>\n",
       "      <td>0.129191</td>\n",
       "      <td>0.20</td>\n",
       "      <td>0.18</td>\n",
       "      <td>0.02</td>\n",
       "      <td>0.916477</td>\n",
       "      <td>1.0</td>\n",
       "      <td>0.070809</td>\n",
       "      <td>0.050809</td>\n",
       "      <td>-0.109191</td>\n",
       "      <td>0.787286</td>\n",
       "      <td>0.070809</td>\n",
       "      <td>0.050809</td>\n",
       "      <td>0.109191</td>\n",
       "      <td>0.787286</td>\n",
       "    </tr>\n",
       "    <tr>\n",
       "      <th>CJT_GESAMTTYP_6.0</th>\n",
       "      <td>0.072460</td>\n",
       "      <td>0.05</td>\n",
       "      <td>0.21</td>\n",
       "      <td>0.16</td>\n",
       "      <td>0.810700</td>\n",
       "      <td>1.0</td>\n",
       "      <td>-0.022460</td>\n",
       "      <td>0.137540</td>\n",
       "      <td>0.087540</td>\n",
       "      <td>0.738239</td>\n",
       "      <td>0.022460</td>\n",
       "      <td>0.137540</td>\n",
       "      <td>0.087540</td>\n",
       "      <td>0.738239</td>\n",
       "    </tr>\n",
       "    <tr>\n",
       "      <th>FINANZ_ANLEGER</th>\n",
       "      <td>1.595711</td>\n",
       "      <td>2.44</td>\n",
       "      <td>4.14</td>\n",
       "      <td>3.91</td>\n",
       "      <td>4.492113</td>\n",
       "      <td>4.0</td>\n",
       "      <td>0.211072</td>\n",
       "      <td>0.636072</td>\n",
       "      <td>0.578572</td>\n",
       "      <td>0.724100</td>\n",
       "      <td>0.211072</td>\n",
       "      <td>0.636072</td>\n",
       "      <td>0.578572</td>\n",
       "      <td>0.724100</td>\n",
       "    </tr>\n",
       "    <tr>\n",
       "      <th>GFK_URLAUBERTYP_5.0</th>\n",
       "      <td>0.117615</td>\n",
       "      <td>0.13</td>\n",
       "      <td>0.06</td>\n",
       "      <td>0.04</td>\n",
       "      <td>0.812024</td>\n",
       "      <td>1.0</td>\n",
       "      <td>0.012385</td>\n",
       "      <td>-0.057615</td>\n",
       "      <td>-0.077615</td>\n",
       "      <td>0.694409</td>\n",
       "      <td>0.012385</td>\n",
       "      <td>0.057615</td>\n",
       "      <td>0.077615</td>\n",
       "      <td>0.694409</td>\n",
       "    </tr>\n",
       "  </tbody>\n",
       "</table>\n",
       "</div>"
      ],
      "text/plain": [
       "                     average_customer  overrepresented  underrepresented_1  \\\n",
       "FINANZTYP_4                  0.012739             0.00                0.24   \n",
       "CAMEO_DEUG_2015_3            0.129191             0.20                0.18   \n",
       "CJT_GESAMTTYP_6.0            0.072460             0.05                0.21   \n",
       "FINANZ_ANLEGER               1.595711             2.44                4.14   \n",
       "GFK_URLAUBERTYP_5.0          0.117615             0.13                0.06   \n",
       "\n",
       "                     underrepresented_2  many_missing_points  interval  \\\n",
       "FINANZTYP_4                        0.11             0.836338       1.0   \n",
       "CAMEO_DEUG_2015_3                  0.02             0.916477       1.0   \n",
       "CJT_GESAMTTYP_6.0                  0.16             0.810700       1.0   \n",
       "FINANZ_ANLEGER                     3.91             4.492113       4.0   \n",
       "GFK_URLAUBERTYP_5.0                0.04             0.812024       1.0   \n",
       "\n",
       "                     rate_overrepresented  rate_underrepresented_1  \\\n",
       "FINANZTYP_4                     -0.012739                 0.227261   \n",
       "CAMEO_DEUG_2015_3                0.070809                 0.050809   \n",
       "CJT_GESAMTTYP_6.0               -0.022460                 0.137540   \n",
       "FINANZ_ANLEGER                   0.211072                 0.636072   \n",
       "GFK_URLAUBERTYP_5.0              0.012385                -0.057615   \n",
       "\n",
       "                     rate_underrepresented_2  rate_many_missing_points  \\\n",
       "FINANZTYP_4                         0.097261                  0.823599   \n",
       "CAMEO_DEUG_2015_3                  -0.109191                  0.787286   \n",
       "CJT_GESAMTTYP_6.0                   0.087540                  0.738239   \n",
       "FINANZ_ANLEGER                      0.578572                  0.724100   \n",
       "GFK_URLAUBERTYP_5.0                -0.077615                  0.694409   \n",
       "\n",
       "                     rate_overrepresented_abs  rate_underrepresented_1_abs  \\\n",
       "FINANZTYP_4                          0.012739                     0.227261   \n",
       "CAMEO_DEUG_2015_3                    0.070809                     0.050809   \n",
       "CJT_GESAMTTYP_6.0                    0.022460                     0.137540   \n",
       "FINANZ_ANLEGER                       0.211072                     0.636072   \n",
       "GFK_URLAUBERTYP_5.0                  0.012385                     0.057615   \n",
       "\n",
       "                     rate_underrepresented_2_abs  rate_many_missing_points_abs  \n",
       "FINANZTYP_4                             0.097261                      0.823599  \n",
       "CAMEO_DEUG_2015_3                       0.109191                      0.787286  \n",
       "CJT_GESAMTTYP_6.0                       0.087540                      0.738239  \n",
       "FINANZ_ANLEGER                          0.578572                      0.724100  \n",
       "GFK_URLAUBERTYP_5.0                     0.077615                      0.694409  "
      ]
     },
     "execution_count": 65,
     "metadata": {},
     "output_type": "execute_result"
    }
   ],
   "source": [
    "# What features show the most difference between many missing points cluster comparing to custmer average?\n",
    "cluster_analysis.sort_values(by='rate_many_missing_points_abs', ascending=False).head()"
   ]
  },
  {
   "cell_type": "markdown",
   "metadata": {},
   "source": [
    "### Discussion 3.3: Compare Customer Data to Demographics Data\n",
    "\n",
    "I used the centroid value to represent the characteristic of each cluster. I transformed the result of clustering to the form of original feature set in order to make it easier to interpret. And then, I measured how much difference there are between clusters by centroid value gap rate. The result is as follows:\n",
    "\n",
    "1. Popular customers with the mail-order company (Overrepresented cluster)\n",
    "    - Very likely to spend his youth with mainstream movement (movement = 0.00)\n",
    "    - Very likely to be a member of Green Avantgarde (GREEN_AVANTGARDE = 0.99)\n",
    "    - High social status (LP_STATUS_GROB_4.0 = 0.61)\n",
    "    - Lives in less dense area (EWDICHTE = 2.45)\n",
    "    \n",
    "    \n",
    "2. Unpopular customers with the mail-order company (Underrepresented cluster 1)\n",
    "    - Highly unlikely to be an investor (FINANZ_ANLEGER = 4.14)\n",
    "    - Highly unlikely to be a money-saver (FINANZ_SPARER = 3.96)\n",
    "    - Young generation (decade = 5.71)\n",
    "    \n",
    "    \n",
    "3. Unpopular customers with the mail-order company (Underrepresented cluster 2)\n",
    "    - Low income (LP_STATUS_GROB_1.0 = 0.91)\n",
    "    - Very unlikely to be a money-saver (FINANZ_SPARER = 4.37)\n",
    "    - Very low financial interest (FINANZ_MINIMALIST = 1.44, FINANZTYP_1 = 0.70)\n",
    "    \n",
    "\n",
    "4. Customers with many missing points\n",
    "    - Estabilished middle class (CAMEO_DEUG_2015_3 = 0.92)\n",
    "    - Advertising-Enthusiast with restricted Cross-Channel-Behaviour (CJT_GESAMTTYP_6.0 = 0.81)\n",
    "    - Nature fans in terms of vacation (GFK_URLAUBERTYP_5.0 = 0.81)"
   ]
  },
  {
   "cell_type": "markdown",
   "metadata": {},
   "source": [
    "> Congratulations on making it this far in the project! Before you finish, make sure to check through the entire notebook from top to bottom to make sure that your analysis follows a logical flow and all of your findings are documented in **Discussion** cells. Once you've checked over all of your work, you should export the notebook as an HTML document to submit for evaluation. You can do this from the menu, navigating to **File -> Download as -> HTML (.html)**. You will submit both that document and this notebook for your project submission."
   ]
  }
 ],
 "metadata": {
  "kernelspec": {
   "display_name": "Python 3",
   "language": "python",
   "name": "python3"
  },
  "language_info": {
   "codemirror_mode": {
    "name": "ipython",
    "version": 3
   },
   "file_extension": ".py",
   "mimetype": "text/x-python",
   "name": "python",
   "nbconvert_exporter": "python",
   "pygments_lexer": "ipython3",
   "version": "3.6.3"
  }
 },
 "nbformat": 4,
 "nbformat_minor": 2
}
