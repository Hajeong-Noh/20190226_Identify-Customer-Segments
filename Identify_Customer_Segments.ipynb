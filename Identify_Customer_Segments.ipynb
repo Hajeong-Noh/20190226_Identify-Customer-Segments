{
 "cells": [
  {
   "cell_type": "markdown",
   "metadata": {},
   "source": [
    "# Project: Identify Customer Segments\n",
    "\n",
    "In this project, you will apply unsupervised learning techniques to identify segments of the population that form the core customer base for a mail-order sales company in Germany. These segments can then be used to direct marketing campaigns towards audiences that will have the highest expected rate of returns. The data that you will use has been provided by our partners at Bertelsmann Arvato Analytics, and represents a real-life data science task.\n",
    "\n",
    "This notebook will help you complete this task by providing a framework within which you will perform your analysis steps. In each step of the project, you will see some text describing the subtask that you will perform, followed by one or more code cells for you to complete your work. **Feel free to add additional code and markdown cells as you go along so that you can explore everything in precise chunks.** The code cells provided in the base template will outline only the major tasks, and will usually not be enough to cover all of the minor tasks that comprise it.\n",
    "\n",
    "It should be noted that while there will be precise guidelines on how you should handle certain tasks in the project, there will also be places where an exact specification is not provided. **There will be times in the project where you will need to make and justify your own decisions on how to treat the data.** These are places where there may not be only one way to handle the data. In real-life tasks, there may be many valid ways to approach an analysis task. One of the most important things you can do is clearly document your approach so that other scientists can understand the decisions you've made.\n",
    "\n",
    "At the end of most sections, there will be a Markdown cell labeled **Discussion**. In these cells, you will report your findings for the completed section, as well as document the decisions that you made in your approach to each subtask. **Your project will be evaluated not just on the code used to complete the tasks outlined, but also your communication about your observations and conclusions at each stage.**"
   ]
  },
  {
   "cell_type": "code",
   "execution_count": 1,
   "metadata": {},
   "outputs": [],
   "source": [
    "# import libraries here; add more as necessary\n",
    "import numpy as np\n",
    "import pandas as pd\n",
    "import matplotlib.pyplot as plt\n",
    "import seaborn as sns\n",
    "import ast\n",
    "import json\n",
    "import time\n",
    "from sklearn.preprocessing import StandardScaler\n",
    "from sklearn.decomposition import PCA\n",
    "from sklearn.cluster import KMeans\n",
    "\n",
    "# magic word for producing visualizations in notebook\n",
    "%matplotlib inline"
   ]
  },
  {
   "cell_type": "markdown",
   "metadata": {},
   "source": [
    "### Step 0: Load the Data\n",
    "\n",
    "There are four files associated with this project (not including this one):\n",
    "\n",
    "- `Udacity_AZDIAS_Subset.csv`: Demographics data for the general population of Germany; 891211 persons (rows) x 85 features (columns).\n",
    "- `Udacity_CUSTOMERS_Subset.csv`: Demographics data for customers of a mail-order company; 191652 persons (rows) x 85 features (columns).\n",
    "- `Data_Dictionary.md`: Detailed information file about the features in the provided datasets.\n",
    "- `AZDIAS_Feature_Summary.csv`: Summary of feature attributes for demographics data; 85 features (rows) x 4 columns\n",
    "\n",
    "Each row of the demographics files represents a single person, but also includes information outside of individuals, including information about their household, building, and neighborhood. You will use this information to cluster the general population into groups with similar demographic properties. Then, you will see how the people in the customers dataset fit into those created clusters. The hope here is that certain clusters are over-represented in the customers data, as compared to the general population; those over-represented clusters will be assumed to be part of the core userbase. This information can then be used for further applications, such as targeting for a marketing campaign.\n",
    "\n",
    "To start off with, load in the demographics data for the general population into a pandas DataFrame, and do the same for the feature attributes summary. Note for all of the `.csv` data files in this project: they're semicolon (`;`) delimited, so you'll need an additional argument in your [`read_csv()`](https://pandas.pydata.org/pandas-docs/stable/generated/pandas.read_csv.html) call to read in the data properly. Also, considering the size of the main dataset, it may take some time for it to load completely.\n",
    "\n",
    "Once the dataset is loaded, it's recommended that you take a little bit of time just browsing the general structure of the dataset and feature summary file. You'll be getting deep into the innards of the cleaning in the first major step of the project, so gaining some general familiarity can help you get your bearings."
   ]
  },
  {
   "cell_type": "code",
   "execution_count": 2,
   "metadata": {},
   "outputs": [],
   "source": [
    "# Load in the general demographics data.\n",
    "azdias = pd.read_csv(\"Udacity_AZDIAS_Subset.csv\", sep=\";\")\n",
    "\n",
    "# Load in the feature summary file.\n",
    "feat_info = pd.read_csv(\"AZDIAS_Feature_Summary.csv\", sep=\";\")"
   ]
  },
  {
   "cell_type": "code",
   "execution_count": 3,
   "metadata": {},
   "outputs": [
    {
     "name": "stdout",
     "output_type": "stream",
     "text": [
      "(891221, 85) (85, 4)\n"
     ]
    },
    {
     "data": {
      "text/html": [
       "<div>\n",
       "<style>\n",
       "    .dataframe thead tr:only-child th {\n",
       "        text-align: right;\n",
       "    }\n",
       "\n",
       "    .dataframe thead th {\n",
       "        text-align: left;\n",
       "    }\n",
       "\n",
       "    .dataframe tbody tr th {\n",
       "        vertical-align: top;\n",
       "    }\n",
       "</style>\n",
       "<table border=\"1\" class=\"dataframe\">\n",
       "  <thead>\n",
       "    <tr style=\"text-align: right;\">\n",
       "      <th></th>\n",
       "      <th>attribute</th>\n",
       "      <th>information_level</th>\n",
       "      <th>type</th>\n",
       "      <th>missing_or_unknown</th>\n",
       "    </tr>\n",
       "  </thead>\n",
       "  <tbody>\n",
       "    <tr>\n",
       "      <th>0</th>\n",
       "      <td>AGER_TYP</td>\n",
       "      <td>person</td>\n",
       "      <td>categorical</td>\n",
       "      <td>[-1,0]</td>\n",
       "    </tr>\n",
       "    <tr>\n",
       "      <th>1</th>\n",
       "      <td>ALTERSKATEGORIE_GROB</td>\n",
       "      <td>person</td>\n",
       "      <td>ordinal</td>\n",
       "      <td>[-1,0,9]</td>\n",
       "    </tr>\n",
       "    <tr>\n",
       "      <th>2</th>\n",
       "      <td>ANREDE_KZ</td>\n",
       "      <td>person</td>\n",
       "      <td>categorical</td>\n",
       "      <td>[-1,0]</td>\n",
       "    </tr>\n",
       "    <tr>\n",
       "      <th>3</th>\n",
       "      <td>CJT_GESAMTTYP</td>\n",
       "      <td>person</td>\n",
       "      <td>categorical</td>\n",
       "      <td>[0]</td>\n",
       "    </tr>\n",
       "    <tr>\n",
       "      <th>4</th>\n",
       "      <td>FINANZ_MINIMALIST</td>\n",
       "      <td>person</td>\n",
       "      <td>ordinal</td>\n",
       "      <td>[-1]</td>\n",
       "    </tr>\n",
       "  </tbody>\n",
       "</table>\n",
       "</div>"
      ],
      "text/plain": [
       "              attribute information_level         type missing_or_unknown\n",
       "0              AGER_TYP            person  categorical             [-1,0]\n",
       "1  ALTERSKATEGORIE_GROB            person      ordinal           [-1,0,9]\n",
       "2             ANREDE_KZ            person  categorical             [-1,0]\n",
       "3         CJT_GESAMTTYP            person  categorical                [0]\n",
       "4     FINANZ_MINIMALIST            person      ordinal               [-1]"
      ]
     },
     "execution_count": 3,
     "metadata": {},
     "output_type": "execute_result"
    }
   ],
   "source": [
    "# Check the structure of the data after it's loaded (e.g. print the number of\n",
    "# rows and columns, print the first few rows).\n",
    "\n",
    "print(azdias.shape, feat_info.shape)\n",
    "feat_info.head()"
   ]
  },
  {
   "cell_type": "markdown",
   "metadata": {},
   "source": [
    "> **Tip**: Add additional cells to keep everything in reasonably-sized chunks! Keyboard shortcut `esc --> a` (press escape to enter command mode, then press the 'A' key) adds a new cell before the active cell, and `esc --> b` adds a new cell after the active cell. If you need to convert an active cell to a markdown cell, use `esc --> m` and to convert to a code cell, use `esc --> y`. \n",
    "\n",
    "## Step 1: Preprocessing\n",
    "\n",
    "### Step 1.1: Assess Missing Data\n",
    "\n",
    "The feature summary file contains a summary of properties for each demographics data column. You will use this file to help you make cleaning decisions during this stage of the project. First of all, you should assess the demographics data in terms of missing data. Pay attention to the following points as you perform your analysis, and take notes on what you observe. Make sure that you fill in the **Discussion** cell with your findings and decisions at the end of each step that has one!\n",
    "\n",
    "#### Step 1.1.1: Convert Missing Value Codes to NaNs\n",
    "The fourth column of the feature attributes summary (loaded in above as `feat_info`) documents the codes from the data dictionary that indicate missing or unknown data. While the file encodes this as a list (e.g. `[-1,0]`), this will get read in as a string object. You'll need to do a little bit of parsing to make use of it to identify and clean the data. Convert data that matches a 'missing' or 'unknown' value code into a numpy NaN value. You might want to see how much data takes on a 'missing' or 'unknown' code, and how much data is naturally missing, as a point of interest.\n",
    "\n",
    "**As one more reminder, you are encouraged to add additional cells to break up your analysis into manageable chunks.**"
   ]
  },
  {
   "cell_type": "code",
   "execution_count": 4,
   "metadata": {},
   "outputs": [
    {
     "data": {
      "text/plain": [
       "array(['[-1,0]', '[-1,0,9]', '[0]', '[-1]', '[]', '[-1,9]', '[-1,\"X\"]',\n",
       "       '[\"XX\"]', '[-1,\"XX\"]'], dtype=object)"
      ]
     },
     "execution_count": 4,
     "metadata": {},
     "output_type": "execute_result"
    }
   ],
   "source": [
    "# Prepare the missing_or_unknown column for using ast.literal_eval(x) function\n",
    "feat_info['missing_or_unknown'] = feat_info['missing_or_unknown'].str.replace('XX', '\"XX\"')\n",
    "feat_info['missing_or_unknown'] = feat_info['missing_or_unknown'].str.replace(',X', ',\"X\"')\n",
    "feat_info['missing_or_unknown'].unique()"
   ]
  },
  {
   "cell_type": "code",
   "execution_count": 5,
   "metadata": {},
   "outputs": [],
   "source": [
    "# Convert string to list data type\n",
    "feat_info['missing_or_unknown'] = feat_info['missing_or_unknown'].apply(lambda x: ast.literal_eval(x))"
   ]
  },
  {
   "cell_type": "code",
   "execution_count": 6,
   "metadata": {},
   "outputs": [],
   "source": [
    "# Identify missing or unknown data values and convert them to NaNs.\n",
    "for i in range(0, feat_info.shape[0]):\n",
    "    raw_column = azdias.iloc[:,i]\n",
    "    nan_features = feat_info.iloc[i, 3]\n",
    "    azdias.iloc[:,i] = raw_column.apply(lambda x: np.nan if x in nan_features else x)"
   ]
  },
  {
   "cell_type": "markdown",
   "metadata": {},
   "source": [
    "#### Step 1.1.2: Assess Missing Data in Each Column\n",
    "\n",
    "How much missing data is present in each column? There are a few columns that are outliers in terms of the proportion of values that are missing. You will want to use matplotlib's [`hist()`](https://matplotlib.org/api/_as_gen/matplotlib.pyplot.hist.html) function to visualize the distribution of missing value counts to find these columns. Identify and document these columns. While some of these columns might have justifications for keeping or re-encoding the data, for this project you should just remove them from the dataframe. (Feel free to make remarks about these outlier columns in the discussion, however!)\n",
    "\n",
    "For the remaining features, are there any patterns in which columns have, or share, missing data?"
   ]
  },
  {
   "cell_type": "code",
   "execution_count": 7,
   "metadata": {},
   "outputs": [
    {
     "data": {
      "text/plain": [
       "TITEL_KZ          889061\n",
       "AGER_TYP          685843\n",
       "KK_KUNDENTYP      584612\n",
       "KBA05_BAUMAX      476524\n",
       "GEBURTSJAHR       392318\n",
       "ALTER_HH          310267\n",
       "REGIOTYP          158064\n",
       "KKK               158064\n",
       "W_KEIT_KIND_HH    147988\n",
       "KBA05_ANTG4       133324\n",
       "KBA05_GBZ         133324\n",
       "MOBI_REGIO        133324\n",
       "KBA05_ANTG1       133324\n",
       "KBA05_ANTG2       133324\n",
       "KBA05_ANTG3       133324\n",
       "PLZ8_GBZ          116515\n",
       "PLZ8_HHZ          116515\n",
       "PLZ8_BAUMAX       116515\n",
       "PLZ8_ANTG4        116515\n",
       "PLZ8_ANTG1        116515\n",
       "dtype: int64"
      ]
     },
     "execution_count": 7,
     "metadata": {},
     "output_type": "execute_result"
    }
   ],
   "source": [
    "# Perform an assessment of how much missing data there is in each column of the\n",
    "# dataset.\n",
    "missing_count_in_feature = azdias.isnull().sum()\n",
    "missing_count_in_feature.sort_values(ascending=False).head(20)"
   ]
  },
  {
   "cell_type": "code",
   "execution_count": 8,
   "metadata": {},
   "outputs": [
    {
     "data": {
      "text/plain": [
       "(array([ 32.,   7.,  37.,   3.,   0.,   0.,   1.,   0.,   1.,   0.,   1.,\n",
       "          0.,   0.,   1.,   0.,   1.,   0.,   0.,   0.,   1.]),\n",
       " array([      0.  ,   44453.05,   88906.1 ,  133359.15,  177812.2 ,\n",
       "         222265.25,  266718.3 ,  311171.35,  355624.4 ,  400077.45,\n",
       "         444530.5 ,  488983.55,  533436.6 ,  577889.65,  622342.7 ,\n",
       "         666795.75,  711248.8 ,  755701.85,  800154.9 ,  844607.95,  889061.  ]),\n",
       " <a list of 20 Patch objects>)"
      ]
     },
     "execution_count": 8,
     "metadata": {},
     "output_type": "execute_result"
    },
    {
     "data": {
      "image/png": "[encoded data removed]",
      "text/plain": [
       "<matplotlib.figure.Figure at 0x7fc3af9f7710>"
      ]
     },
     "metadata": {
      "needs_background": "light"
     },
     "output_type": "display_data"
    }
   ],
   "source": [
    "# Investigate patterns in the amount of missing data in each column.\n",
    "plt.hist(missing_count_in_feature, bins=20)"
   ]
  },
  {
   "cell_type": "code",
   "execution_count": 9,
   "metadata": {},
   "outputs": [
    {
     "data": {
      "text/plain": [
       "(891221, 79)"
      ]
     },
     "execution_count": 9,
     "metadata": {},
     "output_type": "execute_result"
    }
   ],
   "source": [
    "# Remove the outlier columns from the dataset. (You'll perform other data\n",
    "# engineering tasks such as re-encoding and imputation later.)\n",
    "outliers = missing_count_in_feature[missing_count_in_feature > 200000].index\n",
    "azdias = azdias.drop(outliers, axis=1)\n",
    "azdias.shape"
   ]
  },
  {
   "cell_type": "markdown",
   "metadata": {},
   "source": [
    "#### Discussion 1.1.2: Assess Missing Data in Each Column\n",
    "\n",
    "The histogram above shows that the amount of missing data in a column is mostly under 200,000 (missing value is under 22% of total observation). However, we can observe there are 6 outliers which have more than 200,000 missing values. The columns are:\n",
    "\n",
    "| Column Name     | # Missing Values | Description|\n",
    "|--------------|--------|------------------------------------------------------------------|\n",
    "| TITEL_KZ     | 889061 | Academic title (e.g. Prof., Dr., ...)                            |\n",
    "| AGER_TYP     | 685843 | Best-ager typology                                               |\n",
    "| KK_KUNDENTYP | 584612 | Consumer pattern over past 12 months (e.g. regular, active, ...) |\n",
    "| KBA05_BAUMAX | 476524 | Most common building type within the microcell                   |\n",
    "| GEBURTSJAHR  | 392318 | Years of birth                                                   |\n",
    "| ALTER_HH     | 310267 | Birthdate of head of household                                   |\n",
    "\n",
    "\n",
    "I decided to remove these columns, since they have large amount of missing values even though some of these columns have interesting information."
   ]
  },
  {
   "cell_type": "markdown",
   "metadata": {},
   "source": [
    "#### Step 1.1.3: Assess Missing Data in Each Row\n",
    "\n",
    "Now, you'll perform a similar assessment for the rows of the dataset. How much data is missing in each row? As with the columns, you should see some groups of points that have a very different numbers of missing values. Divide the data into two subsets: one for data points that are above some threshold for missing values, and a second subset for points below that threshold.\n",
    "\n",
    "In order to know what to do with the outlier rows, we should see if the distribution of data values on columns that are not missing data (or are missing very little data) are similar or different between the two groups. Select at least five of these columns and compare the distribution of values.\n",
    "- You can use seaborn's [`countplot()`](https://seaborn.pydata.org/generated/seaborn.countplot.html) function to create a bar chart of code frequencies and matplotlib's [`subplot()`](https://matplotlib.org/api/_as_gen/matplotlib.pyplot.subplot.html) function to put bar charts for the two subplots side by side.\n",
    "- To reduce repeated code, you might want to write a function that can perform this comparison, taking as one of its arguments a column to be compared.\n",
    "\n",
    "Depending on what you observe in your comparison, this will have implications on how you approach your conclusions later in the analysis. If the distributions of non-missing features look similar between the data with many missing values and the data with few or no missing values, then we could argue that simply dropping those points from the analysis won't present a major issue. On the other hand, if the data with many missing values looks very different from the data with few or no missing values, then we should make a note on those data as special. We'll revisit these data later on. **Either way, you should continue your analysis for now using just the subset of the data with few or no missing values.**"
   ]
  },
  {
   "cell_type": "code",
   "execution_count": 10,
   "metadata": {},
   "outputs": [
    {
     "data": {
      "text/plain": [
       "(array([  6.23209000e+05,   1.57380000e+04,   2.79260000e+04,\n",
       "          1.76290000e+04,   1.26070000e+04,   2.25150000e+04,\n",
       "          1.37710000e+04,   1.37140000e+04,   2.45920000e+04,\n",
       "          3.04200000e+03,   5.41000000e+03,   1.12700000e+03,\n",
       "          7.66000000e+02,   3.25500000e+03,   2.24300000e+03,\n",
       "          4.74300000e+03,   2.50500000e+03,   6.77000000e+02,\n",
       "          4.28000000e+02,   1.18000000e+03,   3.49000000e+02,\n",
       "          1.50000000e+02,   1.29000000e+02,   1.32000000e+02,\n",
       "          6.90000000e+01,   5.50000000e+01,   5.90000000e+01,\n",
       "          2.40000000e+01,   5.00000000e+00,   1.20000000e+01,\n",
       "          6.00000000e+00,   3.00000000e+00,   2.06000000e+02,\n",
       "          2.98500000e+03,   1.08160000e+04,   3.91100000e+03,\n",
       "          8.40000000e+01,   5.38000000e+02,   4.21000000e+02,\n",
       "          7.70000000e+01,   1.37000000e+02,   3.56000000e+02,\n",
       "          2.10000000e+01,   2.73690000e+04,   1.55000000e+02,\n",
       "          4.94000000e+02,   0.00000000e+00,   4.55780000e+04,\n",
       "          3.00000000e+00]),\n",
       " array([  0.,   1.,   2.,   3.,   4.,   5.,   6.,   7.,   8.,   9.,  10.,\n",
       "         11.,  12.,  13.,  14.,  15.,  16.,  17.,  18.,  19.,  20.,  21.,\n",
       "         22.,  23.,  24.,  25.,  26.,  27.,  28.,  29.,  30.,  31.,  32.,\n",
       "         33.,  34.,  35.,  36.,  37.,  38.,  39.,  40.,  41.,  42.,  43.,\n",
       "         44.,  45.,  46.,  47.,  48.,  49.]),\n",
       " <a list of 49 Patch objects>)"
      ]
     },
     "execution_count": 10,
     "metadata": {},
     "output_type": "execute_result"
    },
    {
     "data": {
      "image/png": "[encoded data removed]",
      "text/plain": [
       "<matplotlib.figure.Figure at 0x7fc3af9d6e48>"
      ]
     },
     "metadata": {
      "needs_background": "light"
     },
     "output_type": "display_data"
    }
   ],
   "source": [
    "# How much data is missing in each row of the dataset?\n",
    "missing_count_in_row = azdias.isnull().sum(axis=1)\n",
    "plt.hist(missing_count_in_row, bins=49)"
   ]
  },
  {
   "cell_type": "code",
   "execution_count": 11,
   "metadata": {},
   "outputs": [],
   "source": [
    "# Write code to divide the data into two subsets based on the number of missing\n",
    "# values in each row.\n",
    "no_value_missing_row = azdias.iloc[missing_count_in_row[missing_count_in_row == 0].index, ]\n",
    "with_value_missing_row = azdias.iloc[missing_count_in_row[missing_count_in_row > 0].index, ]"
   ]
  },
  {
   "cell_type": "code",
   "execution_count": 12,
   "metadata": {},
   "outputs": [
    {
     "data": {
      "text/plain": [
       "ANREDE_KZ                0\n",
       "FINANZ_MINIMALIST        0\n",
       "FINANZ_SPARER            0\n",
       "FINANZ_VORSORGER         0\n",
       "FINANZ_ANLEGER           0\n",
       "FINANZ_UNAUFFAELLIGER    0\n",
       "FINANZ_HAUSBAUER         0\n",
       "FINANZTYP                0\n",
       "GREEN_AVANTGARDE         0\n",
       "SEMIO_SOZ                0\n",
       "SEMIO_FAM                0\n",
       "SEMIO_REL                0\n",
       "SEMIO_MAT                0\n",
       "SEMIO_VERT               0\n",
       "SEMIO_LUST               0\n",
       "SEMIO_ERL                0\n",
       "SEMIO_KULT               0\n",
       "SEMIO_RAT                0\n",
       "SEMIO_KRIT               0\n",
       "SEMIO_DOM                0\n",
       "SEMIO_KAEM               0\n",
       "SEMIO_PFLICHT            0\n",
       "SEMIO_TRADV              0\n",
       "ZABEOTYP                 0\n",
       "dtype: int64"
      ]
     },
     "execution_count": 12,
     "metadata": {},
     "output_type": "execute_result"
    }
   ],
   "source": [
    "# Columns with no missing value\n",
    "missing_count_in_feature[missing_count_in_feature == 0]"
   ]
  },
  {
   "cell_type": "code",
   "execution_count": 13,
   "metadata": {},
   "outputs": [
    {
     "data": {
      "image/png": "[encoded data removed]",
      "text/plain": [
       "<matplotlib.figure.Figure at 0x7fc3a35a5b70>"
      ]
     },
     "metadata": {
      "needs_background": "light"
     },
     "output_type": "display_data"
    }
   ],
   "source": [
    "# Compare the distribution of values for at least five columns where there are\n",
    "# no or few missing values, between the two subsets.\n",
    "def compare_value_distributions(no_value_missing_row, with_value_missing_row, cols):\n",
    "    f, axes = plt.subplots(len(cols), 2, figsize=(15,30))\n",
    "    axes = axes.ravel()\n",
    "    i = 0\n",
    "\n",
    "    for col in cols:\n",
    "        sns.countplot(x=col, data=no_value_missing_row, ax=axes[i])\n",
    "        axes[i].set_title('No missing value')\n",
    "        i = i+1\n",
    "        sns.countplot(x=col, data=with_value_missing_row, ax=axes[i])\n",
    "        axes[i].set_title('With missing value')\n",
    "        i = i+1\n",
    "\n",
    "cols = ['ANREDE_KZ', 'FINANZTYP', 'GREEN_AVANTGARDE', 'SEMIO_REL', 'ZABEOTYP']\n",
    "compare_value_distributions(no_value_missing_row, with_value_missing_row, cols)"
   ]
  },
  {
   "cell_type": "markdown",
   "metadata": {},
   "source": [
    "#### Discussion 1.1.3: Assess Missing Data in Each Row\n",
    "\n",
    "Since almost 70% of the rows have no missing value and the number of rows with missing values drops in the histogram, I divided the dataset to a dataset with no missing value and another dataset with at least one missing value. Comparison of the distributions of some features in two different datasets shows an interesting result. The compared features are those which don't have missing values.\n",
    "\n",
    "While ANREDE_KZ (Gender), GREEN_AVANTGARDE (Membership in environmental sustainability) and ZABEOTYP (Energy consumption typology) features show relatively similar distributions in both datasets, FINANZTYP (Financial type) and SEMIO_REL (Degree of religious affinity) indicate different distributions. \n",
    "\n",
    "Because the value distributions are different in two datasets, I will make a note and revisit the data. For now, I will use the data with no missing values for analysis."
   ]
  },
  {
   "cell_type": "markdown",
   "metadata": {},
   "source": [
    "### Step 1.2: Select and Re-Encode Features\n",
    "\n",
    "Checking for missing data isn't the only way in which you can prepare a dataset for analysis. Since the unsupervised learning techniques to be used will only work on data that is encoded numerically, you need to make a few encoding changes or additional assumptions to be able to make progress. In addition, while almost all of the values in the dataset are encoded using numbers, not all of them represent numeric values. Check the third column of the feature summary (`feat_info`) for a summary of types of measurement.\n",
    "- For numeric and interval data, these features can be kept without changes.\n",
    "- Most of the variables in the dataset are ordinal in nature. While ordinal values may technically be non-linear in spacing, make the simplifying assumption that the ordinal variables can be treated as being interval in nature (that is, kept without any changes).\n",
    "- Special handling may be necessary for the remaining two variable types: categorical, and 'mixed'.\n",
    "\n",
    "In the first two parts of this sub-step, you will perform an investigation of the categorical and mixed-type features and make a decision on each of them, whether you will keep, drop, or re-encode each. Then, in the last part, you will create a new data frame with only the selected and engineered columns.\n",
    "\n",
    "Data wrangling is often the trickiest part of the data analysis process, and there's a lot of it to be done here. But stick with it: once you're done with this step, you'll be ready to get to the machine learning parts of the project!"
   ]
  },
  {
   "cell_type": "code",
   "execution_count": 14,
   "metadata": {},
   "outputs": [
    {
     "data": {
      "text/plain": [
       "type\n",
       "categorical    18\n",
       "mixed           6\n",
       "numeric         6\n",
       "ordinal        49\n",
       "dtype: int64"
      ]
     },
     "execution_count": 14,
     "metadata": {},
     "output_type": "execute_result"
    }
   ],
   "source": [
    "# How many features are there of each data type?\n",
    "feat_info_without_outliers = feat_info[~feat_info['attribute'].isin(outliers)]\n",
    "feat_info_without_outliers.groupby('type').size()"
   ]
  },
  {
   "cell_type": "markdown",
   "metadata": {},
   "source": [
    "#### Step 1.2.1: Re-Encode Categorical Features\n",
    "\n",
    "For categorical data, you would ordinarily need to encode the levels as dummy variables. Depending on the number of categories, perform one of the following:\n",
    "- For binary (two-level) categoricals that take numeric values, you can keep them without needing to do anything.\n",
    "- There is one binary variable that takes on non-numeric values. For this one, you need to re-encode the values as numbers or create a dummy variable.\n",
    "- For multi-level categoricals (three or more values), you can choose to encode the values using multiple dummy variables (e.g. via [OneHotEncoder](http://scikit-learn.org/stable/modules/generated/sklearn.preprocessing.OneHotEncoder.html)), or (to keep things straightforward) just drop them from the analysis. As always, document your choices in the Discussion section."
   ]
  },
  {
   "cell_type": "code",
   "execution_count": 15,
   "metadata": {},
   "outputs": [],
   "source": [
    "# Drop detail features of other columns\n",
    "detail_columns = ['LP_FAMILIE_FEIN', 'LP_STATUS_FEIN', 'CAMEO_DEU_2015', 'LP_LEBENSPHASE_FEIN']\n",
    "\n",
    "no_value_missing_row = no_value_missing_row.drop(detail_columns, axis=1)\n",
    "with_value_missing_row = with_value_missing_row.drop(detail_columns, axis=1)\n",
    "feat_info_without_outliers_and_details = feat_info_without_outliers[~feat_info_without_outliers['attribute'].isin(detail_columns)]"
   ]
  },
  {
   "cell_type": "code",
   "execution_count": 16,
   "metadata": {},
   "outputs": [],
   "source": [
    "# Assess categorical variables: which are binary, which are multi-level, and\n",
    "# which one needs to be re-encoded?\n",
    "categorical_feature = feat_info_without_outliers_and_details[feat_info_without_outliers_and_details['type'] == 'categorical']['attribute']\n",
    "dummy_variable_needed = []\n",
    "\n",
    "for feature in categorical_feature:\n",
    "    if len(no_value_missing_row[feature].unique()) > 2:\n",
    "        dummy_variable_needed.append(feature)"
   ]
  },
  {
   "cell_type": "code",
   "execution_count": 17,
   "metadata": {},
   "outputs": [],
   "source": [
    "# Re-encode categorical variable(s) to be kept in the analysis.\n",
    "# Encoding 'OST_WEST_KZ' feature ('W' -> 1, 'O' -> 0)\n",
    "no_value_missing_row['OST_WEST_KZ'] = no_value_missing_row['OST_WEST_KZ'].apply(lambda x: 1 if 'W' else 0)"
   ]
  },
  {
   "cell_type": "code",
   "execution_count": 18,
   "metadata": {},
   "outputs": [
    {
     "data": {
      "text/plain": [
       "Index(['CJT_GESAMTTYP_1.0', 'CJT_GESAMTTYP_2.0', 'CJT_GESAMTTYP_3.0',\n",
       "       'CJT_GESAMTTYP_4.0', 'CJT_GESAMTTYP_5.0', 'CJT_GESAMTTYP_6.0',\n",
       "       'FINANZTYP_1', 'FINANZTYP_2', 'FINANZTYP_3', 'FINANZTYP_4',\n",
       "       'FINANZTYP_5', 'FINANZTYP_6', 'GFK_URLAUBERTYP_1.0',\n",
       "       'GFK_URLAUBERTYP_2.0', 'GFK_URLAUBERTYP_3.0', 'GFK_URLAUBERTYP_4.0',\n",
       "       'GFK_URLAUBERTYP_5.0', 'GFK_URLAUBERTYP_6.0', 'GFK_URLAUBERTYP_7.0',\n",
       "       'GFK_URLAUBERTYP_8.0', 'GFK_URLAUBERTYP_9.0', 'GFK_URLAUBERTYP_10.0',\n",
       "       'GFK_URLAUBERTYP_11.0', 'GFK_URLAUBERTYP_12.0', 'LP_FAMILIE_GROB_1.0',\n",
       "       'LP_FAMILIE_GROB_2.0', 'LP_FAMILIE_GROB_3.0', 'LP_FAMILIE_GROB_4.0',\n",
       "       'LP_FAMILIE_GROB_5.0', 'LP_STATUS_GROB_1.0', 'LP_STATUS_GROB_2.0',\n",
       "       'LP_STATUS_GROB_3.0', 'LP_STATUS_GROB_4.0', 'LP_STATUS_GROB_5.0',\n",
       "       'NATIONALITAET_KZ_1.0', 'NATIONALITAET_KZ_2.0', 'NATIONALITAET_KZ_3.0',\n",
       "       'SHOPPER_TYP_0.0', 'SHOPPER_TYP_1.0', 'SHOPPER_TYP_2.0',\n",
       "       'SHOPPER_TYP_3.0', 'ZABEOTYP_1', 'ZABEOTYP_2', 'ZABEOTYP_3',\n",
       "       'ZABEOTYP_4', 'ZABEOTYP_5', 'ZABEOTYP_6', 'GEBAEUDETYP_1.0',\n",
       "       'GEBAEUDETYP_3.0', 'GEBAEUDETYP_5.0', 'GEBAEUDETYP_8.0',\n",
       "       'CAMEO_DEUG_2015_1', 'CAMEO_DEUG_2015_2', 'CAMEO_DEUG_2015_3',\n",
       "       'CAMEO_DEUG_2015_4', 'CAMEO_DEUG_2015_5', 'CAMEO_DEUG_2015_6',\n",
       "       'CAMEO_DEUG_2015_7', 'CAMEO_DEUG_2015_8', 'CAMEO_DEUG_2015_9'],\n",
       "      dtype='object')"
      ]
     },
     "execution_count": 18,
     "metadata": {},
     "output_type": "execute_result"
    }
   ],
   "source": [
    "# Create dummy variables\n",
    "dummy_variables = pd.DataFrame()\n",
    "for feature in dummy_variable_needed:\n",
    "    new_dummy = pd.get_dummies(no_value_missing_row[feature], prefix=feature)\n",
    "    dummy_variables = pd.concat([dummy_variables, new_dummy], axis=1)\n",
    "    \n",
    "dummy_variables.columns"
   ]
  },
  {
   "cell_type": "code",
   "execution_count": 19,
   "metadata": {},
   "outputs": [
    {
     "data": {
      "text/plain": [
       "(623209, 125)"
      ]
     },
     "execution_count": 19,
     "metadata": {},
     "output_type": "execute_result"
    }
   ],
   "source": [
    "# Add dummy variables and drop the original features\n",
    "no_value_missing_row = pd.concat([no_value_missing_row, dummy_variables], axis=1)\n",
    "no_value_missing_row = no_value_missing_row.drop(dummy_variable_needed, axis=1)\n",
    "\n",
    "no_value_missing_row.shape"
   ]
  },
  {
   "cell_type": "markdown",
   "metadata": {},
   "source": [
    "#### Discussion 1.2.1: Re-Encode Categorical Features\n",
    "\n",
    "While I scanned through categorical features, I found there are some columns which are detail features of other columns. For the simplification of the model, I removed following 4 detail columns.\n",
    "\n",
    "| General Column    | Detail Column (Deleted) | Description|\n",
    "|--------------|--------|------------------------------------------------------------------|\n",
    "| LP_FAMILIE_GROB     | LP_FAMILIE_FEIN | Family type                            |\n",
    "| LP_STATUS_GROB| LP_STATUS_FEIN | Social status                                               |\n",
    "| CAMEO_DEUG_2015 | CAMEO_DEU_2015 | Wealth / Life Stage Typology|\n",
    "| LP_LEBENSPHASE_GROB | LP_LEBENSPHASE_FEIN | Life stage\n",
    "\n",
    "And then, the categorical features are categorized and processed as follows:\n",
    "1. Binary categoricals with numeric values -> no need to process\n",
    "2. Binary categoricals with non-numeric values -> encode non-numeric values to numeric values\n",
    "3. Multi-level categoricals -> add dummy variables and drop the original features"
   ]
  },
  {
   "cell_type": "markdown",
   "metadata": {},
   "source": [
    "#### Step 1.2.2: Engineer Mixed-Type Features\n",
    "\n",
    "There are a handful of features that are marked as \"mixed\" in the feature summary that require special treatment in order to be included in the analysis. There are two in particular that deserve attention; the handling of the rest are up to your own choices:\n",
    "- \"PRAEGENDE_JUGENDJAHRE\" combines information on three dimensions: generation by decade, movement (mainstream vs. avantgarde), and nation (east vs. west). While there aren't enough levels to disentangle east from west, you should create two new variables to capture the other two dimensions: an interval-type variable for decade, and a binary variable for movement.\n",
    "- \"CAMEO_INTL_2015\" combines information on two axes: wealth and life stage. Break up the two-digit codes by their 'tens'-place and 'ones'-place digits into two new ordinal variables (which, for the purposes of this project, is equivalent to just treating them as their raw numeric values).\n",
    "- If you decide to keep or engineer new features around the other mixed-type features, make sure you note your steps in the Discussion section.\n",
    "\n",
    "Be sure to check `Data_Dictionary.md` for the details needed to finish these tasks."
   ]
  },
  {
   "cell_type": "code",
   "execution_count": 20,
   "metadata": {},
   "outputs": [],
   "source": [
    "# Define functions to extract two features from mixed feature PRAEGENDE_JUGENDJAHRE\n",
    "def get_decade(pjj):\n",
    "    if pjj in (1,2):\n",
    "        return 1\n",
    "    elif pjj in (3,4):\n",
    "        return 2\n",
    "    elif pjj in (5,6,7):\n",
    "        return 3\n",
    "    elif pjj in (8,9):\n",
    "        return 4\n",
    "    elif pjj in (10,11,12,13):\n",
    "        return 5\n",
    "    elif pjj in (14,15):\n",
    "        return 6\n",
    "    \n",
    "def get_movement(pjj):\n",
    "    if pjj in (1,3,5,8,10,12,14):\n",
    "        return 0\n",
    "    elif pjj in (2,4,6,7,9,11,13,15):\n",
    "        return 1"
   ]
  },
  {
   "cell_type": "code",
   "execution_count": 21,
   "metadata": {},
   "outputs": [],
   "source": [
    "# Investigate \"PRAEGENDE_JUGENDJAHRE\" and engineer two new variables.\n",
    "decade = no_value_missing_row['PRAEGENDE_JUGENDJAHRE'].apply(get_decade)\n",
    "movement = no_value_missing_row['PRAEGENDE_JUGENDJAHRE'].apply(get_movement)"
   ]
  },
  {
   "cell_type": "code",
   "execution_count": 22,
   "metadata": {},
   "outputs": [
    {
     "name": "stdout",
     "output_type": "stream",
     "text": [
      "(623209, 126)\n"
     ]
    }
   ],
   "source": [
    "# Add dummy variables and drop the original features\n",
    "no_value_missing_row['decade'] = decade\n",
    "no_value_missing_row['movement'] = movement\n",
    "no_value_missing_row = no_value_missing_row.drop('PRAEGENDE_JUGENDJAHRE', axis=1)\n",
    "\n",
    "print(no_value_missing_row.shape)"
   ]
  },
  {
   "cell_type": "code",
   "execution_count": 23,
   "metadata": {},
   "outputs": [
    {
     "name": "stdout",
     "output_type": "stream",
     "text": [
      "(623209, 127)\n"
     ]
    }
   ],
   "source": [
    "# Investigate \"CAMEO_INTL_2015\" and engineer two new variables.\n",
    "no_value_missing_row['wealth'] = no_value_missing_row['CAMEO_INTL_2015'].astype('int').apply(lambda x: x // 10)\n",
    "no_value_missing_row['life_stage'] = no_value_missing_row['CAMEO_INTL_2015'].astype('int').apply(lambda x: x % 10)\n",
    "no_value_missing_row = no_value_missing_row.drop('CAMEO_INTL_2015', axis=1)\n",
    "\n",
    "print(no_value_missing_row.shape)"
   ]
  },
  {
   "cell_type": "markdown",
   "metadata": {},
   "source": [
    "#### Discussion 1.2.2: Engineer Mixed-Type Features\n",
    "\n",
    "I extracted 2 features from each 'PRAEGENDE_JUGENDJAHRE' and 'CAMEO_INTL_2015' features in order to make it easier to apply machine learning algorithms in the later phase. And then, the original mixed features are dropped from the table.\n",
    "The encoded values and their descriptions are as follows:\n",
    "\n",
    "<table>\n",
    "<tr><th>Decade </th><th>Movement</th><th>Wealth</th><th>Life Stage</th></tr>\n",
    "<tr><td>\n",
    "    \n",
    "| Value    | Description |\n",
    "|--------------|--------|\n",
    "| 1     | 40s | \n",
    "| 2| 50s | \n",
    "| 3 | 60s | \n",
    "| 4 | 70s |\n",
    "| 5| 80s | \n",
    "| 6 | 90s | \n",
    "    \n",
    "</td><td>\n",
    "    \n",
    "| Value    | Description |\n",
    "|--------------|--------|\n",
    "| 0     | Mainstream | \n",
    "| 1| Avantgarde |\n",
    "\n",
    "</td><td>\n",
    "    \n",
    "| Value    | Description |\n",
    "|--------------|--------|\n",
    "| 1     | Wealthy | \n",
    "| 2| Prosperous | \n",
    "| 3 | Comfortable | \n",
    "| 4 | Less Affluent |\n",
    "| 5| Poorer | \n",
    "\n",
    "</td><td>\n",
    "    \n",
    "| Value    | Description |\n",
    "|--------------|--------|\n",
    "| 1     | Pre-Family Couples & Single | \n",
    "| 2| Young Couples With Children | \n",
    "| 3 | Families With School Age Children | \n",
    "| 4 | Older Families &  Mature Couples |\n",
    "| 5| Elders In Retirement | \n",
    "\n",
    "</td></tr> </table>"
   ]
  },
  {
   "cell_type": "markdown",
   "metadata": {},
   "source": [
    "#### Step 1.2.3: Complete Feature Selection\n",
    "\n",
    "In order to finish this step up, you need to make sure that your data frame now only has the columns that you want to keep. To summarize, the dataframe should consist of the following:\n",
    "- All numeric, interval, and ordinal type columns from the original dataset.\n",
    "- Binary categorical features (all numerically-encoded).\n",
    "- Engineered features from other multi-level categorical features and mixed features.\n",
    "\n",
    "Make sure that for any new columns that you have engineered, that you've excluded the original columns from the final dataset. Otherwise, their values will interfere with the analysis later on the project. For example, you should not keep \"PRAEGENDE_JUGENDJAHRE\", since its values won't be useful for the algorithm: only the values derived from it in the engineered features you created should be retained. As a reminder, your data should only be from **the subset with few or no missing values**."
   ]
  },
  {
   "cell_type": "code",
   "execution_count": 24,
   "metadata": {},
   "outputs": [
    {
     "data": {
      "text/plain": [
       "0"
      ]
     },
     "execution_count": 24,
     "metadata": {},
     "output_type": "execute_result"
    }
   ],
   "source": [
    "# No missing values in the dataset\n",
    "no_value_missing_row.isnull().sum().sum()"
   ]
  },
  {
   "cell_type": "code",
   "execution_count": 25,
   "metadata": {},
   "outputs": [
    {
     "name": "stdout",
     "output_type": "stream",
     "text": [
      "<class 'pandas.core.frame.DataFrame'>\n",
      "Int64Index: 623209 entries, 1 to 891220\n",
      "Columns: 127 entries, ALTERSKATEGORIE_GROB to life_stage\n",
      "dtypes: float64(40), int64(27), uint8(60)\n",
      "memory usage: 379.0 MB\n"
     ]
    }
   ],
   "source": [
    "# All the values in the dataset is numeric type\n",
    "no_value_missing_row.info()"
   ]
  },
  {
   "cell_type": "markdown",
   "metadata": {},
   "source": [
    "### Step 1.3: Create a Cleaning Function\n",
    "\n",
    "Even though you've finished cleaning up the general population demographics data, it's important to look ahead to the future and realize that you'll need to perform the same cleaning steps on the customer demographics data. In this substep, complete the function below to execute the main feature selection, encoding, and re-engineering steps you performed above. Then, when it comes to looking at the customer data in Step 3, you can just run this function on that DataFrame to get the trimmed dataset in a single step."
   ]
  },
  {
   "cell_type": "code",
   "execution_count": 26,
   "metadata": {},
   "outputs": [],
   "source": [
    "def clean_data(df):\n",
    "    \"\"\"\n",
    "    Perform feature trimming, re-encoding, and engineering for demographics\n",
    "    data\n",
    "    \n",
    "    INPUT: Demographics DataFrame\n",
    "    OUTPUT: Trimmed and cleaned demographics DataFrame\n",
    "    *feat_info should be exist before executing this function\n",
    "    *function get_decade, get_movement should be also defined before executing this function\n",
    "    \"\"\"\n",
    "    \n",
    "    # Put in code here to execute all main cleaning steps:\n",
    "    # convert missing value codes into NaNs, ...\n",
    "    for i in range(0, feat_info.shape[0]):\n",
    "        raw_column = df.iloc[:,i]\n",
    "        nan_features = feat_info.iloc[i, 3]\n",
    "        df.iloc[:,i] = raw_column.apply(lambda x: np.nan if x in nan_features else x)\n",
    "    \n",
    "    # remove selected columns and rows, ...\n",
    "    removed_columns = ['TITEL_KZ', 'AGER_TYP', 'KK_KUNDENTYP', 'KBA05_BAUMAX', 'GEBURTSJAHR', 'ALTER_HH']\n",
    "    df = df.drop(removed_columns, axis=1)\n",
    "    \n",
    "    missing_count_in_row = df.isnull().sum(axis=1)\n",
    "    no_value_missing_row = df.iloc[missing_count_in_row[missing_count_in_row == 0].index, ]\n",
    "    \n",
    "    # select, re-encode, and engineer column values.\n",
    "    # Drop detail features of other columns\n",
    "    detail_columns = ['LP_FAMILIE_FEIN', 'LP_STATUS_FEIN', 'CAMEO_DEU_2015', 'LP_LEBENSPHASE_FEIN']\n",
    "    no_value_missing_row = no_value_missing_row.drop(detail_columns, axis=1)\n",
    "    \n",
    "    # Extract features which dummy variables are needed\n",
    "    categorical_feature = feat_info_without_outliers_and_details[feat_info_without_outliers_and_details['type'] == 'categorical']['attribute']\n",
    "    dummy_variable_needed = []\n",
    "    for feature in categorical_feature:\n",
    "        if len(no_value_missing_row[feature].unique()) > 2:\n",
    "            dummy_variable_needed.append(feature)\n",
    "    \n",
    "    # Encoding 'OST_WEST_KZ' feature ('W' -> 1, 'O' -> 0)\n",
    "    no_value_missing_row['OST_WEST_KZ'] = no_value_missing_row['OST_WEST_KZ'].apply(lambda x: 1 if 'W' else 0)\n",
    "    \n",
    "    # Create dummy variables\n",
    "    dummy_variables = pd.DataFrame()\n",
    "    for feature in dummy_variable_needed:\n",
    "        new_dummy = pd.get_dummies(no_value_missing_row[feature], prefix=feature)\n",
    "        dummy_variables = pd.concat([dummy_variables, new_dummy], axis=1)\n",
    "    \n",
    "    # Add dummy variables and drop the original features\n",
    "    no_value_missing_row = pd.concat([no_value_missing_row, dummy_variables], axis=1)\n",
    "    no_value_missing_row = no_value_missing_row.drop(dummy_variable_needed, axis=1)\n",
    "    \n",
    "    # Investigate \"PRAEGENDE_JUGENDJAHRE\" and engineer two new variables.\n",
    "    no_value_missing_row['decade'] = no_value_missing_row['PRAEGENDE_JUGENDJAHRE'].apply(get_decade)\n",
    "    no_value_missing_row['movement'] = no_value_missing_row['PRAEGENDE_JUGENDJAHRE'].apply(get_movement)\n",
    "    no_value_missing_row = no_value_missing_row.drop('PRAEGENDE_JUGENDJAHRE', axis=1)\n",
    "    \n",
    "    # Investigate \"CAMEO_INTL_2015\" and engineer two new variables.\n",
    "    no_value_missing_row['wealth'] = no_value_missing_row['CAMEO_INTL_2015'].astype('int').apply(lambda x: x // 10)\n",
    "    no_value_missing_row['life_stage'] = no_value_missing_row['CAMEO_INTL_2015'].astype('int').apply(lambda x: x % 10)\n",
    "    no_value_missing_row = no_value_missing_row.drop('CAMEO_INTL_2015', axis=1)\n",
    "    \n",
    "    # Return the cleaned dataframe.\n",
    "    return no_value_missing_row"
   ]
  },
  {
   "cell_type": "markdown",
   "metadata": {},
   "source": [
    "## Step 2: Feature Transformation\n",
    "\n",
    "### Step 2.1: Apply Feature Scaling\n",
    "\n",
    "Before we apply dimensionality reduction techniques to the data, we need to perform feature scaling so that the principal component vectors are not influenced by the natural differences in scale for features. Starting from this part of the project, you'll want to keep an eye on the [API reference page for sklearn](http://scikit-learn.org/stable/modules/classes.html) to help you navigate to all of the classes and functions that you'll need. In this substep, you'll need to check the following:\n",
    "\n",
    "- sklearn requires that data not have missing values in order for its estimators to work properly. So, before applying the scaler to your data, make sure that you've cleaned the DataFrame of the remaining missing values. This can be as simple as just removing all data points with missing data, or applying an [Imputer](http://scikit-learn.org/stable/modules/generated/sklearn.preprocessing.Imputer.html) to replace all missing values. You might also try a more complicated procedure where you temporarily remove missing values in order to compute the scaling parameters before re-introducing those missing values and applying imputation. Think about how much missing data you have and what possible effects each approach might have on your analysis, and justify your decision in the discussion section below.\n",
    "- For the actual scaling function, a [StandardScaler](http://scikit-learn.org/stable/modules/generated/sklearn.preprocessing.StandardScaler.html) instance is suggested, scaling each feature to mean 0 and standard deviation 1.\n",
    "- For these classes, you can make use of the `.fit_transform()` method to both fit a procedure to the data as well as apply the transformation to the data at the same time. Don't forget to keep the fit sklearn objects handy, since you'll be applying them to the customer demographics data towards the end of the project."
   ]
  },
  {
   "cell_type": "code",
   "execution_count": 27,
   "metadata": {
    "scrolled": true
   },
   "outputs": [
    {
     "data": {
      "text/html": [
       "<div>\n",
       "<style>\n",
       "    .dataframe thead tr:only-child th {\n",
       "        text-align: right;\n",
       "    }\n",
       "\n",
       "    .dataframe thead th {\n",
       "        text-align: left;\n",
       "    }\n",
       "\n",
       "    .dataframe tbody tr th {\n",
       "        vertical-align: top;\n",
       "    }\n",
       "</style>\n",
       "<table border=\"1\" class=\"dataframe\">\n",
       "  <thead>\n",
       "    <tr style=\"text-align: right;\">\n",
       "      <th></th>\n",
       "      <th>ALTERSKATEGORIE_GROB</th>\n",
       "      <th>ANREDE_KZ</th>\n",
       "      <th>FINANZ_MINIMALIST</th>\n",
       "      <th>FINANZ_SPARER</th>\n",
       "      <th>FINANZ_VORSORGER</th>\n",
       "      <th>FINANZ_ANLEGER</th>\n",
       "      <th>FINANZ_UNAUFFAELLIGER</th>\n",
       "      <th>FINANZ_HAUSBAUER</th>\n",
       "      <th>GREEN_AVANTGARDE</th>\n",
       "      <th>HEALTH_TYP</th>\n",
       "      <th>...</th>\n",
       "      <th>CAMEO_DEUG_2015_4</th>\n",
       "      <th>CAMEO_DEUG_2015_5</th>\n",
       "      <th>CAMEO_DEUG_2015_6</th>\n",
       "      <th>CAMEO_DEUG_2015_7</th>\n",
       "      <th>CAMEO_DEUG_2015_8</th>\n",
       "      <th>CAMEO_DEUG_2015_9</th>\n",
       "      <th>decade</th>\n",
       "      <th>movement</th>\n",
       "      <th>wealth</th>\n",
       "      <th>life_stage</th>\n",
       "    </tr>\n",
       "  </thead>\n",
       "  <tbody>\n",
       "    <tr>\n",
       "      <th>1</th>\n",
       "      <td>-1.746291</td>\n",
       "      <td>0.977825</td>\n",
       "      <td>-1.512224</td>\n",
       "      <td>1.581058</td>\n",
       "      <td>-1.045042</td>\n",
       "      <td>1.539058</td>\n",
       "      <td>1.047073</td>\n",
       "      <td>1.340482</td>\n",
       "      <td>-0.553670</td>\n",
       "      <td>1.044647</td>\n",
       "      <td>...</td>\n",
       "      <td>-0.383817</td>\n",
       "      <td>-0.265613</td>\n",
       "      <td>-0.403042</td>\n",
       "      <td>-0.33159</td>\n",
       "      <td>2.114432</td>\n",
       "      <td>-0.403596</td>\n",
       "      <td>1.164454</td>\n",
       "      <td>-0.553670</td>\n",
       "      <td>1.147882</td>\n",
       "      <td>-1.251108</td>\n",
       "    </tr>\n",
       "    <tr>\n",
       "      <th>2</th>\n",
       "      <td>0.202107</td>\n",
       "      <td>0.977825</td>\n",
       "      <td>-1.512224</td>\n",
       "      <td>0.900443</td>\n",
       "      <td>-1.765051</td>\n",
       "      <td>-0.531628</td>\n",
       "      <td>0.318373</td>\n",
       "      <td>1.340482</td>\n",
       "      <td>1.806129</td>\n",
       "      <td>1.044647</td>\n",
       "      <td>...</td>\n",
       "      <td>2.605411</td>\n",
       "      <td>-0.265613</td>\n",
       "      <td>-0.403042</td>\n",
       "      <td>-0.33159</td>\n",
       "      <td>-0.472940</td>\n",
       "      <td>-0.403596</td>\n",
       "      <td>1.164454</td>\n",
       "      <td>1.806129</td>\n",
       "      <td>-0.909997</td>\n",
       "      <td>0.749822</td>\n",
       "    </tr>\n",
       "    <tr>\n",
       "      <th>4</th>\n",
       "      <td>0.202107</td>\n",
       "      <td>-1.022678</td>\n",
       "      <td>0.692406</td>\n",
       "      <td>0.219828</td>\n",
       "      <td>0.394976</td>\n",
       "      <td>-1.221857</td>\n",
       "      <td>0.318373</td>\n",
       "      <td>-0.856545</td>\n",
       "      <td>-0.553670</td>\n",
       "      <td>1.044647</td>\n",
       "      <td>...</td>\n",
       "      <td>-0.383817</td>\n",
       "      <td>-0.265613</td>\n",
       "      <td>2.481129</td>\n",
       "      <td>-0.33159</td>\n",
       "      <td>-0.472940</td>\n",
       "      <td>-0.403596</td>\n",
       "      <td>-0.213400</td>\n",
       "      <td>-0.553670</td>\n",
       "      <td>0.461922</td>\n",
       "      <td>0.082845</td>\n",
       "    </tr>\n",
       "    <tr>\n",
       "      <th>5</th>\n",
       "      <td>-1.746291</td>\n",
       "      <td>0.977825</td>\n",
       "      <td>-0.042471</td>\n",
       "      <td>-1.141401</td>\n",
       "      <td>1.114984</td>\n",
       "      <td>-0.531628</td>\n",
       "      <td>-0.410328</td>\n",
       "      <td>1.340482</td>\n",
       "      <td>-0.553670</td>\n",
       "      <td>1.044647</td>\n",
       "      <td>...</td>\n",
       "      <td>-0.383817</td>\n",
       "      <td>-0.265613</td>\n",
       "      <td>-0.403042</td>\n",
       "      <td>-0.33159</td>\n",
       "      <td>2.114432</td>\n",
       "      <td>-0.403596</td>\n",
       "      <td>-1.591253</td>\n",
       "      <td>-0.553670</td>\n",
       "      <td>1.147882</td>\n",
       "      <td>0.749822</td>\n",
       "    </tr>\n",
       "    <tr>\n",
       "      <th>6</th>\n",
       "      <td>-0.772092</td>\n",
       "      <td>0.977825</td>\n",
       "      <td>-1.512224</td>\n",
       "      <td>1.581058</td>\n",
       "      <td>-1.765051</td>\n",
       "      <td>1.539058</td>\n",
       "      <td>1.047073</td>\n",
       "      <td>-0.124203</td>\n",
       "      <td>-0.553670</td>\n",
       "      <td>-0.273496</td>\n",
       "      <td>...</td>\n",
       "      <td>2.605411</td>\n",
       "      <td>-0.265613</td>\n",
       "      <td>-0.403042</td>\n",
       "      <td>-0.33159</td>\n",
       "      <td>-0.472940</td>\n",
       "      <td>-0.403596</td>\n",
       "      <td>0.475527</td>\n",
       "      <td>-0.553670</td>\n",
       "      <td>-0.909997</td>\n",
       "      <td>-0.584131</td>\n",
       "    </tr>\n",
       "  </tbody>\n",
       "</table>\n",
       "<p>5 rows × 127 columns</p>\n",
       "</div>"
      ],
      "text/plain": [
       "   ALTERSKATEGORIE_GROB  ANREDE_KZ  FINANZ_MINIMALIST  FINANZ_SPARER  \\\n",
       "1             -1.746291   0.977825          -1.512224       1.581058   \n",
       "2              0.202107   0.977825          -1.512224       0.900443   \n",
       "4              0.202107  -1.022678           0.692406       0.219828   \n",
       "5             -1.746291   0.977825          -0.042471      -1.141401   \n",
       "6             -0.772092   0.977825          -1.512224       1.581058   \n",
       "\n",
       "   FINANZ_VORSORGER  FINANZ_ANLEGER  FINANZ_UNAUFFAELLIGER  FINANZ_HAUSBAUER  \\\n",
       "1         -1.045042        1.539058               1.047073          1.340482   \n",
       "2         -1.765051       -0.531628               0.318373          1.340482   \n",
       "4          0.394976       -1.221857               0.318373         -0.856545   \n",
       "5          1.114984       -0.531628              -0.410328          1.340482   \n",
       "6         -1.765051        1.539058               1.047073         -0.124203   \n",
       "\n",
       "   GREEN_AVANTGARDE  HEALTH_TYP     ...      CAMEO_DEUG_2015_4  \\\n",
       "1         -0.553670    1.044647     ...              -0.383817   \n",
       "2          1.806129    1.044647     ...               2.605411   \n",
       "4         -0.553670    1.044647     ...              -0.383817   \n",
       "5         -0.553670    1.044647     ...              -0.383817   \n",
       "6         -0.553670   -0.273496     ...               2.605411   \n",
       "\n",
       "   CAMEO_DEUG_2015_5  CAMEO_DEUG_2015_6  CAMEO_DEUG_2015_7  CAMEO_DEUG_2015_8  \\\n",
       "1          -0.265613          -0.403042           -0.33159           2.114432   \n",
       "2          -0.265613          -0.403042           -0.33159          -0.472940   \n",
       "4          -0.265613           2.481129           -0.33159          -0.472940   \n",
       "5          -0.265613          -0.403042           -0.33159           2.114432   \n",
       "6          -0.265613          -0.403042           -0.33159          -0.472940   \n",
       "\n",
       "   CAMEO_DEUG_2015_9    decade  movement    wealth  life_stage  \n",
       "1          -0.403596  1.164454 -0.553670  1.147882   -1.251108  \n",
       "2          -0.403596  1.164454  1.806129 -0.909997    0.749822  \n",
       "4          -0.403596 -0.213400 -0.553670  0.461922    0.082845  \n",
       "5          -0.403596 -1.591253 -0.553670  1.147882    0.749822  \n",
       "6          -0.403596  0.475527 -0.553670 -0.909997   -0.584131  \n",
       "\n",
       "[5 rows x 127 columns]"
      ]
     },
     "execution_count": 27,
     "metadata": {},
     "output_type": "execute_result"
    }
   ],
   "source": [
    "# Apply feature scaling to the general population demographics data.\n",
    "scaler = StandardScaler()\n",
    "no_value_missing_row[no_value_missing_row.columns] = scaler.fit_transform(no_value_missing_row)\n",
    "\n",
    "no_value_missing_row.head()"
   ]
  },
  {
   "cell_type": "markdown",
   "metadata": {},
   "source": [
    "### Discussion 2.1: Apply Feature Scaling\n",
    "\n",
    "Since I made sure that there is no missing value in step 1, I only applied normalization on the dataset in this step."
   ]
  },
  {
   "cell_type": "markdown",
   "metadata": {},
   "source": [
    "### Step 2.2: Perform Dimensionality Reduction\n",
    "\n",
    "On your scaled data, you are now ready to apply dimensionality reduction techniques.\n",
    "\n",
    "- Use sklearn's [PCA](http://scikit-learn.org/stable/modules/generated/sklearn.decomposition.PCA.html) class to apply principal component analysis on the data, thus finding the vectors of maximal variance in the data. To start, you should not set any parameters (so all components are computed) or set a number of components that is at least half the number of features (so there's enough features to see the general trend in variability).\n",
    "- Check out the ratio of variance explained by each principal component as well as the cumulative variance explained. Try plotting the cumulative or sequential values using matplotlib's [`plot()`](https://matplotlib.org/api/_as_gen/matplotlib.pyplot.plot.html) function. Based on what you find, select a value for the number of transformed features you'll retain for the clustering part of the project.\n",
    "- Once you've made a choice for the number of components to keep, make sure you re-fit a PCA instance to perform the decided-on transformation."
   ]
  },
  {
   "cell_type": "code",
   "execution_count": 28,
   "metadata": {},
   "outputs": [
    {
     "data": {
      "text/plain": [
       "127"
      ]
     },
     "execution_count": 28,
     "metadata": {},
     "output_type": "execute_result"
    }
   ],
   "source": [
    "# Apply PCA to the data.\n",
    "pca = PCA()\n",
    "pca.fit_transform(no_value_missing_row)\n",
    "pca.n_components_"
   ]
  },
  {
   "cell_type": "code",
   "execution_count": 29,
   "metadata": {},
   "outputs": [],
   "source": [
    "def scree_plot(pca):\n",
    "    '''\n",
    "    Creates a scree plot associated with the principal components \n",
    "    \n",
    "    INPUT: pca - the result of instantian of PCA in scikit learn\n",
    "            \n",
    "    OUTPUT:\n",
    "            None\n",
    "    '''\n",
    "    num_components=len(pca.explained_variance_ratio_)\n",
    "    ind = np.arange(num_components)\n",
    "    vals = pca.explained_variance_ratio_\n",
    " \n",
    "    plt.figure(figsize=(10, 6))\n",
    "    ax = plt.subplot(111)\n",
    "    cumvals = np.cumsum(vals)\n",
    "    ax.bar(ind, vals)\n",
    "    ax.plot(ind, cumvals)\n",
    "    \n",
    "    cumvar = 0\n",
    "    for i in range(num_components):\n",
    "        cumvar = cumvar + vals[i]\n",
    "        if cumvar > 0.9:\n",
    "            print(\"90% of variance is captured by \", i, \" compnents\")\n",
    "            break;\n",
    " \n",
    "    ax.xaxis.set_tick_params(width=0)\n",
    "    ax.yaxis.set_tick_params(width=2, length=12)\n",
    " \n",
    "    ax.set_xlabel(\"Principal Component\")\n",
    "    ax.set_ylabel(\"Variance Explained (%)\")\n",
    "    plt.title('Explained Variance Per Principal Component')"
   ]
  },
  {
   "cell_type": "code",
   "execution_count": 30,
   "metadata": {},
   "outputs": [
    {
     "name": "stdout",
     "output_type": "stream",
     "text": [
      "90% of variance is captured by  66  compnents\n"
     ]
    },
    {
     "data": {
      "image/png": "[encoded data removed]",
      "text/plain": [
       "<matplotlib.figure.Figure at 0x7fc386576d68>"
      ]
     },
     "metadata": {
      "needs_background": "light"
     },
     "output_type": "display_data"
    }
   ],
   "source": [
    "# Investigate the variance accounted for by each principal component.\n",
    "scree_plot(pca)"
   ]
  },
  {
   "cell_type": "code",
   "execution_count": 31,
   "metadata": {},
   "outputs": [],
   "source": [
    "# Re-apply PCA to the data while selecting for number of components to retain.\n",
    "pca = PCA(n_components=66)\n",
    "pca_matrix = pca.fit_transform(no_value_missing_row)"
   ]
  },
  {
   "cell_type": "markdown",
   "metadata": {},
   "source": [
    "### Discussion 2.2: Perform Dimensionality Reduction\n",
    "\n",
    "As we can observe on the scree plot, the variance explained line soars up to 5 components and then gradually increase to around 65 components. From that point, the graph is very gentle until the total number of components 127. I want the model to be simple but also accurate, so I chose the 66 as a number of components which explains 90% of the variance."
   ]
  },
  {
   "cell_type": "markdown",
   "metadata": {},
   "source": [
    "### Step 2.3: Interpret Principal Components\n",
    "\n",
    "Now that we have our transformed principal components, it's a nice idea to check out the weight of each variable on the first few components to see if they can be interpreted in some fashion.\n",
    "\n",
    "As a reminder, each principal component is a unit vector that points in the direction of highest variance (after accounting for the variance captured by earlier principal components). The further a weight is from zero, the more the principal component is in the direction of the corresponding feature. If two features have large weights of the same sign (both positive or both negative), then increases in one tend expect to be associated with increases in the other. To contrast, features with different signs can be expected to show a negative correlation: increases in one variable should result in a decrease in the other.\n",
    "\n",
    "- To investigate the features, you should map each weight to their corresponding feature name, then sort the features according to weight. The most interesting features for each principal component, then, will be those at the beginning and end of the sorted list. Use the data dictionary document to help you understand these most prominent features, their relationships, and what a positive or negative value on the principal component might indicate.\n",
    "- You should investigate and interpret feature associations from the first three principal components in this substep. To help facilitate this, you should write a function that you can call at any time to print the sorted list of feature weights, for the *i*-th principal component. This might come in handy in the next step of the project, when you interpret the tendencies of the discovered clusters."
   ]
  },
  {
   "cell_type": "code",
   "execution_count": 32,
   "metadata": {},
   "outputs": [
    {
     "data": {
      "text/html": [
       "<div>\n",
       "<style>\n",
       "    .dataframe thead tr:only-child th {\n",
       "        text-align: right;\n",
       "    }\n",
       "\n",
       "    .dataframe thead th {\n",
       "        text-align: left;\n",
       "    }\n",
       "\n",
       "    .dataframe tbody tr th {\n",
       "        vertical-align: top;\n",
       "    }\n",
       "</style>\n",
       "<table border=\"1\" class=\"dataframe\">\n",
       "  <thead>\n",
       "    <tr style=\"text-align: right;\">\n",
       "      <th></th>\n",
       "      <th>Explained Variance</th>\n",
       "      <th>ALTERSKATEGORIE_GROB</th>\n",
       "      <th>ANREDE_KZ</th>\n",
       "      <th>FINANZ_MINIMALIST</th>\n",
       "      <th>FINANZ_SPARER</th>\n",
       "      <th>FINANZ_VORSORGER</th>\n",
       "      <th>FINANZ_ANLEGER</th>\n",
       "      <th>FINANZ_UNAUFFAELLIGER</th>\n",
       "      <th>FINANZ_HAUSBAUER</th>\n",
       "      <th>GREEN_AVANTGARDE</th>\n",
       "      <th>...</th>\n",
       "      <th>CAMEO_DEUG_2015_4</th>\n",
       "      <th>CAMEO_DEUG_2015_5</th>\n",
       "      <th>CAMEO_DEUG_2015_6</th>\n",
       "      <th>CAMEO_DEUG_2015_7</th>\n",
       "      <th>CAMEO_DEUG_2015_8</th>\n",
       "      <th>CAMEO_DEUG_2015_9</th>\n",
       "      <th>decade</th>\n",
       "      <th>movement</th>\n",
       "      <th>wealth</th>\n",
       "      <th>life_stage</th>\n",
       "    </tr>\n",
       "  </thead>\n",
       "  <tbody>\n",
       "    <tr>\n",
       "      <th>Dimension 1</th>\n",
       "      <td>0.1166</td>\n",
       "      <td>-0.1185</td>\n",
       "      <td>0.0049</td>\n",
       "      <td>-0.1998</td>\n",
       "      <td>0.1404</td>\n",
       "      <td>-0.1124</td>\n",
       "      <td>0.0736</td>\n",
       "      <td>0.0781</td>\n",
       "      <td>0.1336</td>\n",
       "      <td>-0.1069</td>\n",
       "      <td>...</td>\n",
       "      <td>-0.0718</td>\n",
       "      <td>-0.0120</td>\n",
       "      <td>-0.0026</td>\n",
       "      <td>0.0311</td>\n",
       "      <td>0.0881</td>\n",
       "      <td>0.1108</td>\n",
       "      <td>0.1047</td>\n",
       "      <td>-0.1069</td>\n",
       "      <td>0.1776</td>\n",
       "      <td>-0.1140</td>\n",
       "    </tr>\n",
       "    <tr>\n",
       "      <th>Dimension 2</th>\n",
       "      <td>0.0859</td>\n",
       "      <td>0.2263</td>\n",
       "      <td>0.0566</td>\n",
       "      <td>0.0555</td>\n",
       "      <td>-0.2096</td>\n",
       "      <td>0.2055</td>\n",
       "      <td>-0.1890</td>\n",
       "      <td>-0.2063</td>\n",
       "      <td>0.1095</td>\n",
       "      <td>-0.0238</td>\n",
       "      <td>...</td>\n",
       "      <td>-0.0449</td>\n",
       "      <td>-0.0064</td>\n",
       "      <td>0.0104</td>\n",
       "      <td>0.0125</td>\n",
       "      <td>0.0500</td>\n",
       "      <td>0.0311</td>\n",
       "      <td>-0.2274</td>\n",
       "      <td>-0.0238</td>\n",
       "      <td>0.0782</td>\n",
       "      <td>-0.0115</td>\n",
       "    </tr>\n",
       "    <tr>\n",
       "      <th>Dimension 3</th>\n",
       "      <td>0.0543</td>\n",
       "      <td>0.0399</td>\n",
       "      <td>-0.3480</td>\n",
       "      <td>0.1373</td>\n",
       "      <td>-0.0689</td>\n",
       "      <td>0.0651</td>\n",
       "      <td>-0.1632</td>\n",
       "      <td>-0.0582</td>\n",
       "      <td>-0.0552</td>\n",
       "      <td>0.0678</td>\n",
       "      <td>...</td>\n",
       "      <td>-0.0250</td>\n",
       "      <td>0.0008</td>\n",
       "      <td>-0.0055</td>\n",
       "      <td>-0.0007</td>\n",
       "      <td>0.0112</td>\n",
       "      <td>0.0207</td>\n",
       "      <td>-0.0714</td>\n",
       "      <td>0.0678</td>\n",
       "      <td>0.0174</td>\n",
       "      <td>-0.0118</td>\n",
       "    </tr>\n",
       "  </tbody>\n",
       "</table>\n",
       "<p>3 rows × 128 columns</p>\n",
       "</div>"
      ],
      "text/plain": [
       "             Explained Variance  ALTERSKATEGORIE_GROB  ANREDE_KZ  \\\n",
       "Dimension 1              0.1166               -0.1185     0.0049   \n",
       "Dimension 2              0.0859                0.2263     0.0566   \n",
       "Dimension 3              0.0543                0.0399    -0.3480   \n",
       "\n",
       "             FINANZ_MINIMALIST  FINANZ_SPARER  FINANZ_VORSORGER  \\\n",
       "Dimension 1            -0.1998         0.1404           -0.1124   \n",
       "Dimension 2             0.0555        -0.2096            0.2055   \n",
       "Dimension 3             0.1373        -0.0689            0.0651   \n",
       "\n",
       "             FINANZ_ANLEGER  FINANZ_UNAUFFAELLIGER  FINANZ_HAUSBAUER  \\\n",
       "Dimension 1          0.0736                 0.0781            0.1336   \n",
       "Dimension 2         -0.1890                -0.2063            0.1095   \n",
       "Dimension 3         -0.1632                -0.0582           -0.0552   \n",
       "\n",
       "             GREEN_AVANTGARDE     ...      CAMEO_DEUG_2015_4  \\\n",
       "Dimension 1           -0.1069     ...                -0.0718   \n",
       "Dimension 2           -0.0238     ...                -0.0449   \n",
       "Dimension 3            0.0678     ...                -0.0250   \n",
       "\n",
       "             CAMEO_DEUG_2015_5  CAMEO_DEUG_2015_6  CAMEO_DEUG_2015_7  \\\n",
       "Dimension 1            -0.0120            -0.0026             0.0311   \n",
       "Dimension 2            -0.0064             0.0104             0.0125   \n",
       "Dimension 3             0.0008            -0.0055            -0.0007   \n",
       "\n",
       "             CAMEO_DEUG_2015_8  CAMEO_DEUG_2015_9  decade  movement  wealth  \\\n",
       "Dimension 1             0.0881             0.1108  0.1047   -0.1069  0.1776   \n",
       "Dimension 2             0.0500             0.0311 -0.2274   -0.0238  0.0782   \n",
       "Dimension 3             0.0112             0.0207 -0.0714    0.0678  0.0174   \n",
       "\n",
       "             life_stage  \n",
       "Dimension 1     -0.1140  \n",
       "Dimension 2     -0.0115  \n",
       "Dimension 3     -0.0118  \n",
       "\n",
       "[3 rows x 128 columns]"
      ]
     },
     "execution_count": 32,
     "metadata": {},
     "output_type": "execute_result"
    }
   ],
   "source": [
    "def pca_results(full_dataset, pca):\n",
    "\t'''\n",
    "\tCreate a DataFrame of the PCA results\n",
    "\tIncludes dimension feature weights and explained variance\n",
    "\tVisualizes the PCA results\n",
    "\t'''\n",
    "\n",
    "\t# Dimension indexing\n",
    "\tdimensions = dimensions = ['Dimension {}'.format(i) for i in range(1,len(pca.components_)+1)]\n",
    "\n",
    "\t# PCA components\n",
    "\tcomponents = pd.DataFrame(np.round(pca.components_, 4), columns = full_dataset.keys())\n",
    "\tcomponents.index = dimensions\n",
    "\n",
    "\t# PCA explained variance\n",
    "\tratios = pca.explained_variance_ratio_.reshape(len(pca.components_), 1)\n",
    "\tvariance_ratios = pd.DataFrame(np.round(ratios, 4), columns = ['Explained Variance'])\n",
    "\tvariance_ratios.index = dimensions\n",
    "\n",
    "\t# Return a concatenated DataFrame\n",
    "\treturn pd.concat([variance_ratios, components], axis = 1)\n",
    "\n",
    "pca_results(no_value_missing_row, pca).head(3)"
   ]
  },
  {
   "cell_type": "code",
   "execution_count": 33,
   "metadata": {},
   "outputs": [],
   "source": [
    "# Drop 'Explained Variance' for component feature analysis\n",
    "pcs = pca_results(no_value_missing_row, pca).head(3).drop('Explained Variance', axis=1)"
   ]
  },
  {
   "cell_type": "code",
   "execution_count": 34,
   "metadata": {},
   "outputs": [
    {
     "name": "stdout",
     "output_type": "stream",
     "text": [
      "LP_STATUS_GROB_1.0    0.1919\n",
      "PLZ8_ANTG3            0.1836\n",
      "PLZ8_ANTG4            0.1789\n",
      "HH_EINKOMMEN_SCORE    0.1787\n",
      "wealth                0.1776\n",
      "Name: Dimension 1, dtype: float64\n",
      "\n",
      "MOBI_REGIO          -0.2054\n",
      "FINANZ_MINIMALIST   -0.1998\n",
      "KBA05_ANTG1         -0.1926\n",
      "PLZ8_ANTG1          -0.1855\n",
      "KBA05_GBZ           -0.1820\n",
      "Name: Dimension 1, dtype: float64\n"
     ]
    }
   ],
   "source": [
    "# Map weights for the first principal component to corresponding feature names\n",
    "# and then print the linked values, sorted by weight.\n",
    "# HINT: Try defining a function here or in a new cell that you can reuse in the\n",
    "# other cells.\n",
    "pc1 = pcs.iloc[0, :].sort_values(ascending=False)\n",
    "print(pc1.head(5))\n",
    "print(\"\")\n",
    "print(pc1.sort_values(ascending=True).head(5))"
   ]
  },
  {
   "cell_type": "code",
   "execution_count": 35,
   "metadata": {},
   "outputs": [
    {
     "name": "stdout",
     "output_type": "stream",
     "text": [
      "ALTERSKATEGORIE_GROB    0.2263\n",
      "FINANZ_VORSORGER        0.2055\n",
      "ZABEOTYP_3              0.2021\n",
      "SEMIO_ERL               0.1900\n",
      "SEMIO_LUST              0.1563\n",
      "Name: Dimension 2, dtype: float64\n",
      "\n",
      "decade                  -0.2274\n",
      "SEMIO_REL               -0.2208\n",
      "FINANZ_SPARER           -0.2096\n",
      "SEMIO_PFLICHT           -0.2071\n",
      "FINANZ_UNAUFFAELLIGER   -0.2063\n",
      "Name: Dimension 2, dtype: float64\n"
     ]
    }
   ],
   "source": [
    "# Map weights for the second principal component to corresponding feature names\n",
    "# and then print the linked values, sorted by weight.\n",
    "pc2 = pcs.iloc[1, :].sort_values(ascending=False)\n",
    "print(pc2.head(5))\n",
    "print(\"\")\n",
    "print(pc2.sort_values(ascending=True).head(5))"
   ]
  },
  {
   "cell_type": "code",
   "execution_count": 36,
   "metadata": {},
   "outputs": [
    {
     "name": "stdout",
     "output_type": "stream",
     "text": [
      "SEMIO_VERT     0.3268\n",
      "SEMIO_SOZ      0.2565\n",
      "SEMIO_FAM      0.2551\n",
      "SEMIO_KULT     0.2391\n",
      "FINANZTYP_5    0.1430\n",
      "Name: Dimension 3, dtype: float64\n",
      "\n",
      "ANREDE_KZ    -0.3480\n",
      "SEMIO_KAEM   -0.3207\n",
      "SEMIO_DOM    -0.2902\n",
      "SEMIO_KRIT   -0.2633\n",
      "SEMIO_ERL    -0.1915\n",
      "Name: Dimension 3, dtype: float64\n"
     ]
    }
   ],
   "source": [
    "# Map weights for the third principal component to corresponding feature names\n",
    "# and then print the linked values, sorted by weight.\n",
    "\n",
    "pc3 = pcs.iloc[2, :].sort_values(ascending=False)\n",
    "print(pc3.head(5))\n",
    "print(\"\")\n",
    "print(pc3.sort_values(ascending=True).head(5))"
   ]
  },
  {
   "cell_type": "markdown",
   "metadata": {},
   "source": [
    "### Discussion 2.3: Interpret Principal Components\n",
    "\n",
    "We can interpret the principal components by investigating the relationship of features related to the component.\n",
    "\n",
    "- Principal Component 1: \n",
    "    - As this component increase, income decreases (LP_STATUS_GROB, HH_EINKOMMEN_SCORE, wealth)\n",
    "    - As this component increase, share of big family increases (PLZ8_ANTG3, PLZ8_ANTG4, KBA05_ANTG1, PLZ8_ANTG1)\n",
    "    - As this component increase, financial interest gets higher (FINANZ_MINIMALIST)\n",
    "    - As this component increase, movement gets higher (MOBI_REGIO)\n",
    "    - As this component increase, number of buildings in PLZ8 increases (PLZ8_GBZ)  \n",
    "    -> Income, size of family (I suspect PLZ8 region is relatively poor region)\n",
    "    \n",
    "- Principal Component 2: \n",
    "    - As this component increase, age increases (ALTERSKATEGORIE_GROB, decade)\n",
    "    - As this component increase, fair energy consumtion increases (ZABEOTYP_3)\n",
    "    - As this component increase, customer is more religious, dutiful but less sensual and event_oriented (SEMIO_ERL, SEMIO_LUST, SEMIO_REL, SEMIO_PFLICHT\n",
    "    - As this component increase, customer tends to save money and more conspicuous but less prepared (FINANZ_VORSORGER, FINANZ_SPARER, FINANZ_UNAUFFAELLIGER)\n",
    "    -> Age, consumption type\n",
    "    \n",
    "- Principal Component 3:\n",
    "    - As this component increase, more combative, dominant-minded, critical and event-oriented, but less dreamful, socially-minded, family-minded, cultural-minded (SEMIO_VERT, SEMIO_SOZ, SEMIO_FAM, SEMIO_KULT, SEMIO_KAEM, SEMIO_DOM, SEMIO_KRIT, SEMIO_ERL)\n",
    "    - As this component increase, customer is more likely to be an investor (FINANZTYP_5)\n",
    "    - As this component increase, customer is more likely to be male (ANREDE_KZ)\n",
    "    -> Gender, personality"
   ]
  },
  {
   "cell_type": "markdown",
   "metadata": {},
   "source": [
    "## Step 3: Clustering\n",
    "\n",
    "### Step 3.1: Apply Clustering to General Population\n",
    "\n",
    "You've assessed and cleaned the demographics data, then scaled and transformed them. Now, it's time to see how the data clusters in the principal components space. In this substep, you will apply k-means clustering to the dataset and use the average within-cluster distances from each point to their assigned cluster's centroid to decide on a number of clusters to keep.\n",
    "\n",
    "- Use sklearn's [KMeans](http://scikit-learn.org/stable/modules/generated/sklearn.cluster.KMeans.html#sklearn.cluster.KMeans) class to perform k-means clustering on the PCA-transformed data.\n",
    "- Then, compute the average difference from each point to its assigned cluster's center. **Hint**: The KMeans object's `.score()` method might be useful here, but note that in sklearn, scores tend to be defined so that larger is better. Try applying it to a small, toy dataset, or use an internet search to help your understanding.\n",
    "- Perform the above two steps for a number of different cluster counts. You can then see how the average distance decreases with an increasing number of clusters. However, each additional cluster provides a smaller net benefit. Use this fact to select a final number of clusters in which to group the data. **Warning**: because of the large size of the dataset, it can take a long time for the algorithm to resolve. The more clusters to fit, the longer the algorithm will take. You should test for cluster counts through at least 10 clusters to get the full picture, but you shouldn't need to test for a number of clusters above about 30.\n",
    "- Once you've selected a final number of clusters to use, re-fit a KMeans instance to perform the clustering operation. Make sure that you also obtain the cluster assignments for the general demographics data, since you'll be using them in the final Step 3.3."
   ]
  },
  {
   "cell_type": "code",
   "execution_count": 37,
   "metadata": {},
   "outputs": [
    {
     "name": "stdout",
     "output_type": "stream",
     "text": [
      "1  clusters on investigation...\n",
      "2  clusters on investigation...\n",
      "3  clusters on investigation...\n",
      "4  clusters on investigation...\n",
      "5  clusters on investigation...\n",
      "6  clusters on investigation...\n",
      "7  clusters on investigation...\n",
      "8  clusters on investigation...\n",
      "9  clusters on investigation...\n",
      "10  clusters on investigation...\n"
     ]
    }
   ],
   "source": [
    "scores = []\n",
    "# Over a number of different cluster counts...\n",
    "for i in range(1, 11):\n",
    "    # run k-means clustering on the data and...\n",
    "    print(i, \" clusters on investigation...\")\n",
    "    kmeans = KMeans(i)\n",
    "    model = kmeans.fit(pca_matrix)\n",
    "    # compute the average within-cluster distances.\n",
    "    scores.append(model.score(pca_matrix))"
   ]
  },
  {
   "cell_type": "code",
   "execution_count": 38,
   "metadata": {},
   "outputs": [
    {
     "data": {
      "text/plain": [
       "[<matplotlib.lines.Line2D at 0x7fc39a072940>]"
      ]
     },
     "execution_count": 38,
     "metadata": {},
     "output_type": "execute_result"
    },
    {
     "data": {
      "image/png": "[encoded data removed]",
      "text/plain": [
       "<matplotlib.figure.Figure at 0x7fc39a165f98>"
      ]
     },
     "metadata": {
      "needs_background": "light"
     },
     "output_type": "display_data"
    }
   ],
   "source": [
    "# Investigate the change in within-cluster distance across number of clusters.\n",
    "# HINT: Use matplotlib's plot function to visualize this relationship.\n",
    "plt.plot(range(1,11), [x * -1 for x in scores], linestyle='--', marker='o')"
   ]
  },
  {
   "cell_type": "code",
   "execution_count": 39,
   "metadata": {},
   "outputs": [],
   "source": [
    "# Re-fit the k-means model with the selected number of clusters and obtain\n",
    "# cluster predictions for the general population demographics data.\n",
    "kmeans = KMeans(3)\n",
    "model = kmeans.fit(pca_matrix)"
   ]
  },
  {
   "cell_type": "code",
   "execution_count": 40,
   "metadata": {},
   "outputs": [],
   "source": [
    "general_cluster = model.predict(pca_matrix)"
   ]
  },
  {
   "cell_type": "markdown",
   "metadata": {},
   "source": [
    "### Discussion 3.1: Apply Clustering to General Population\n",
    "\n",
    "I used elbow method to decide the optimal number of clusters. In the graph above, we can see the stongest bending curve at 2-3 number of clusters. I decided to make 3 clusters."
   ]
  },
  {
   "cell_type": "markdown",
   "metadata": {},
   "source": [
    "### Step 3.2: Apply All Steps to the Customer Data\n",
    "\n",
    "Now that you have clusters and cluster centers for the general population, it's time to see how the customer data maps on to those clusters. Take care to not confuse this for re-fitting all of the models to the customer data. Instead, you're going to use the fits from the general population to clean, transform, and cluster the customer data. In the last step of the project, you will interpret how the general population fits apply to the customer data.\n",
    "\n",
    "- Don't forget when loading in the customers data, that it is semicolon (`;`) delimited.\n",
    "- Apply the same feature wrangling, selection, and engineering steps to the customer demographics using the `clean_data()` function you created earlier. (You can assume that the customer demographics data has similar meaning behind missing data patterns as the general demographics data.)\n",
    "- Use the sklearn objects from the general demographics data, and apply their transformations to the customers data. That is, you should not be using a `.fit()` or `.fit_transform()` method to re-fit the old objects, nor should you be creating new sklearn objects! Carry the data through the feature scaling, PCA, and clustering steps, obtaining cluster assignments for all of the data in the customer demographics data."
   ]
  },
  {
   "cell_type": "code",
   "execution_count": 41,
   "metadata": {},
   "outputs": [],
   "source": [
    "# Load in the customer demographics data.\n",
    "customers = pd.read_csv('Udacity_CUSTOMERS_Subset.csv', delimiter=';')"
   ]
  },
  {
   "cell_type": "code",
   "execution_count": 42,
   "metadata": {},
   "outputs": [],
   "source": [
    "# Apply preprocessing, feature transformation, and clustering from the general\n",
    "# demographics onto the customer data, obtaining cluster predictions for the\n",
    "# customer demographics data.\n",
    "customer_scaler = StandardScaler()\n",
    "customer_pca = PCA(n_components=66)\n",
    "\n",
    "customers_cleaned = clean_data(customers)\n",
    "\n",
    "customers_cleaned[customers_cleaned.columns] = customer_scaler.fit_transform(customers_cleaned)\n",
    "\n",
    "customers_pca_matrix = customer_pca.fit_transform(customers_cleaned)"
   ]
  },
  {
   "cell_type": "code",
   "execution_count": 43,
   "metadata": {},
   "outputs": [],
   "source": [
    "customer_cluster = model.predict(customers_pca_matrix)"
   ]
  },
  {
   "cell_type": "markdown",
   "metadata": {},
   "source": [
    "### Step 3.3: Compare Customer Data to Demographics Data\n",
    "\n",
    "At this point, you have clustered data based on demographics of the general population of Germany, and seen how the customer data for a mail-order sales company maps onto those demographic clusters. In this final substep, you will compare the two cluster distributions to see where the strongest customer base for the company is.\n",
    "\n",
    "Consider the proportion of persons in each cluster for the general population, and the proportions for the customers. If we think the company's customer base to be universal, then the cluster assignment proportions should be fairly similar between the two. If there are only particular segments of the population that are interested in the company's products, then we should see a mismatch from one to the other. If there is a higher proportion of persons in a cluster for the customer data compared to the general population (e.g. 5% of persons are assigned to a cluster for the general population, but 15% of the customer data is closest to that cluster's centroid) then that suggests the people in that cluster to be a target audience for the company. On the other hand, the proportion of the data in a cluster being larger in the general population than the customer data (e.g. only 2% of customers closest to a population centroid that captures 6% of the data) suggests that group of persons to be outside of the target demographics.\n",
    "\n",
    "Take a look at the following points in this step:\n",
    "\n",
    "- Compute the proportion of data points in each cluster for the general population and the customer data. Visualizations will be useful here: both for the individual dataset proportions, but also to visualize the ratios in cluster representation between groups. Seaborn's [`countplot()`](https://seaborn.pydata.org/generated/seaborn.countplot.html) or [`barplot()`](https://seaborn.pydata.org/generated/seaborn.barplot.html) function could be handy.\n",
    "  - Recall the analysis you performed in step 1.1.3 of the project, where you separated out certain data points from the dataset if they had more than a specified threshold of missing values. If you found that this group was qualitatively different from the main bulk of the data, you should treat this as an additional data cluster in this analysis. Make sure that you account for the number of data points in this subset, for both the general population and customer datasets, when making your computations!\n",
    "- Which cluster or clusters are overrepresented in the customer dataset compared to the general population? Select at least one such cluster and infer what kind of people might be represented by that cluster. Use the principal component interpretations from step 2.3 or look at additional components to help you make this inference. Alternatively, you can use the `.inverse_transform()` method of the PCA and StandardScaler objects to transform centroids back to the original data space and interpret the retrieved values directly.\n",
    "- Perform a similar investigation for the underrepresented clusters. Which cluster or clusters are underrepresented in the customer dataset compared to the general population, and what kinds of people are typified by these clusters?"
   ]
  },
  {
   "cell_type": "code",
   "execution_count": 44,
   "metadata": {},
   "outputs": [],
   "source": [
    "# Compare the proportion of data in each cluster for the customer data to the\n",
    "# proportion of data in each cluster for the general population.\n",
    "general_cluster = pd.Series(general_cluster)\n",
    "customer_cluster = pd.Series(customer_cluster)\n",
    "\n",
    "count = pd.concat([general_cluster.value_counts(), customer_cluster.value_counts()], axis=1)\n",
    "count = count.rename(columns={0: \"general\", 1: \"customers\"})\n",
    "count['general_prop'] = count['general'].apply(lambda x: x/count['general'].sum())\n",
    "count['customers_prop'] = count['customers'].apply(lambda x: x/count['customers'].sum())"
   ]
  },
  {
   "cell_type": "code",
   "execution_count": 45,
   "metadata": {
    "scrolled": true
   },
   "outputs": [
    {
     "data": {
      "text/plain": [
       "<matplotlib.axes._subplots.AxesSubplot at 0x7fc399fede80>"
      ]
     },
     "execution_count": 45,
     "metadata": {},
     "output_type": "execute_result"
    },
    {
     "data": {
      "image/png": "[encoded data removed]",
      "text/plain": [
       "<matplotlib.figure.Figure at 0x7fc39a10e9b0>"
      ]
     },
     "metadata": {
      "needs_background": "light"
     },
     "output_type": "display_data"
    }
   ],
   "source": [
    "count.plot(x=count.index, y=['general_prop', 'customers_prop'], kind='bar', figsize=(12,4))"
   ]
  },
  {
   "cell_type": "code",
   "execution_count": 60,
   "metadata": {},
   "outputs": [
    {
     "data": {
      "text/plain": [
       "ALTERSKATEGORIE_GROB    1.70\n",
       "ANREDE_KZ               1.53\n",
       "FINANZ_MINIMALIST       1.68\n",
       "FINANZ_SPARER           4.32\n",
       "FINANZ_VORSORGER        2.09\n",
       "dtype: float64"
      ]
     },
     "execution_count": 60,
     "metadata": {},
     "output_type": "execute_result"
    }
   ],
   "source": [
    "# Cluster 2 center feature values\n",
    "center2 = model.cluster_centers_[2]\n",
    "center_feature2 = pd.Series(scaler.inverse_transform(pca.inverse_transform(center2)).round(2))\n",
    "center_feature2.index = no_value_missing_row.columns\n",
    "center_feature2.head()"
   ]
  },
  {
   "cell_type": "code",
   "execution_count": 61,
   "metadata": {},
   "outputs": [
    {
     "data": {
      "text/plain": [
       "ALTERSKATEGORIE_GROB    3.12\n",
       "ANREDE_KZ               1.48\n",
       "FINANZ_MINIMALIST       4.17\n",
       "FINANZ_SPARER           2.06\n",
       "FINANZ_VORSORGER        3.85\n",
       "dtype: float64"
      ]
     },
     "execution_count": 61,
     "metadata": {},
     "output_type": "execute_result"
    }
   ],
   "source": [
    "# What kinds of people are part of a cluster that is overrepresented in the\n",
    "# customer data compared to the general population?\n",
    "# Cluster 1 center feature values\n",
    "center1 = model.cluster_centers_[1]\n",
    "center_feature1 = pd.Series(scaler.inverse_transform(pca.inverse_transform(center1)).round(2))\n",
    "center_feature1.index = no_value_missing_row.columns\n",
    "center_feature1.head()"
   ]
  },
  {
   "cell_type": "code",
   "execution_count": 64,
   "metadata": {},
   "outputs": [
    {
     "data": {
      "text/plain": [
       "ALTERSKATEGORIE_GROB    3.41\n",
       "ANREDE_KZ               1.53\n",
       "FINANZ_MINIMALIST       2.89\n",
       "FINANZ_SPARER           1.92\n",
       "FINANZ_VORSORGER        4.23\n",
       "dtype: float64"
      ]
     },
     "execution_count": 64,
     "metadata": {},
     "output_type": "execute_result"
    }
   ],
   "source": [
    "# What kinds of people are part of a cluster that is underrepresented in the\n",
    "# customer data compared to the general population?\n",
    "center0 = model.cluster_centers_[0]\n",
    "center_feature0 = pd.Series(scaler.inverse_transform(pca.inverse_transform(center0)).round(2))\n",
    "center_feature0.index = no_value_missing_row.columns\n",
    "center_feature0.head()"
   ]
  },
  {
   "cell_type": "code",
   "execution_count": 76,
   "metadata": {},
   "outputs": [],
   "source": [
    "# Get data interval of each feature to measure rate of difference\n",
    "original_data = scaler.inverse_transform(no_value_missing_row)\n",
    "original = pd.DataFrame(data=original_data,\n",
    "                        columns=no_value_missing_row.columns)\n",
    "interval = original.max() - original.min()"
   ]
  },
  {
   "cell_type": "code",
   "execution_count": 91,
   "metadata": {},
   "outputs": [
    {
     "data": {
      "text/html": [
       "<div>\n",
       "<style>\n",
       "    .dataframe thead tr:only-child th {\n",
       "        text-align: right;\n",
       "    }\n",
       "\n",
       "    .dataframe thead th {\n",
       "        text-align: left;\n",
       "    }\n",
       "\n",
       "    .dataframe tbody tr th {\n",
       "        vertical-align: top;\n",
       "    }\n",
       "</style>\n",
       "<table border=\"1\" class=\"dataframe\">\n",
       "  <thead>\n",
       "    <tr style=\"text-align: right;\">\n",
       "      <th></th>\n",
       "      <th>criteria</th>\n",
       "      <th>overrepresented</th>\n",
       "      <th>underrepresented</th>\n",
       "      <th>interval</th>\n",
       "      <th>rate_overrepresented</th>\n",
       "      <th>rate_underrepresented</th>\n",
       "      <th>rate_diff_over_under</th>\n",
       "      <th>rate_overrepresented_abs</th>\n",
       "      <th>rate_underrepresented_abs</th>\n",
       "      <th>rate_diff_over_under_abs</th>\n",
       "    </tr>\n",
       "  </thead>\n",
       "  <tbody>\n",
       "    <tr>\n",
       "      <th>ALTERSKATEGORIE_GROB</th>\n",
       "      <td>1.70</td>\n",
       "      <td>3.12</td>\n",
       "      <td>3.41</td>\n",
       "      <td>3.0</td>\n",
       "      <td>0.473333</td>\n",
       "      <td>0.5700</td>\n",
       "      <td>-0.096667</td>\n",
       "      <td>0.473333</td>\n",
       "      <td>0.5700</td>\n",
       "      <td>0.096667</td>\n",
       "    </tr>\n",
       "    <tr>\n",
       "      <th>ANREDE_KZ</th>\n",
       "      <td>1.53</td>\n",
       "      <td>1.48</td>\n",
       "      <td>1.53</td>\n",
       "      <td>1.0</td>\n",
       "      <td>-0.050000</td>\n",
       "      <td>0.0000</td>\n",
       "      <td>-0.050000</td>\n",
       "      <td>0.050000</td>\n",
       "      <td>0.0000</td>\n",
       "      <td>0.050000</td>\n",
       "    </tr>\n",
       "    <tr>\n",
       "      <th>FINANZ_MINIMALIST</th>\n",
       "      <td>1.68</td>\n",
       "      <td>4.17</td>\n",
       "      <td>2.89</td>\n",
       "      <td>4.0</td>\n",
       "      <td>0.622500</td>\n",
       "      <td>0.3025</td>\n",
       "      <td>0.320000</td>\n",
       "      <td>0.622500</td>\n",
       "      <td>0.3025</td>\n",
       "      <td>0.320000</td>\n",
       "    </tr>\n",
       "    <tr>\n",
       "      <th>FINANZ_SPARER</th>\n",
       "      <td>4.32</td>\n",
       "      <td>2.06</td>\n",
       "      <td>1.92</td>\n",
       "      <td>4.0</td>\n",
       "      <td>-0.565000</td>\n",
       "      <td>-0.6000</td>\n",
       "      <td>0.035000</td>\n",
       "      <td>0.565000</td>\n",
       "      <td>0.6000</td>\n",
       "      <td>0.035000</td>\n",
       "    </tr>\n",
       "    <tr>\n",
       "      <th>FINANZ_VORSORGER</th>\n",
       "      <td>2.09</td>\n",
       "      <td>3.85</td>\n",
       "      <td>4.23</td>\n",
       "      <td>4.0</td>\n",
       "      <td>0.440000</td>\n",
       "      <td>0.5350</td>\n",
       "      <td>-0.095000</td>\n",
       "      <td>0.440000</td>\n",
       "      <td>0.5350</td>\n",
       "      <td>0.095000</td>\n",
       "    </tr>\n",
       "  </tbody>\n",
       "</table>\n",
       "</div>"
      ],
      "text/plain": [
       "                      criteria  overrepresented  underrepresented  interval  \\\n",
       "ALTERSKATEGORIE_GROB      1.70             3.12              3.41       3.0   \n",
       "ANREDE_KZ                 1.53             1.48              1.53       1.0   \n",
       "FINANZ_MINIMALIST         1.68             4.17              2.89       4.0   \n",
       "FINANZ_SPARER             4.32             2.06              1.92       4.0   \n",
       "FINANZ_VORSORGER          2.09             3.85              4.23       4.0   \n",
       "\n",
       "                      rate_overrepresented  rate_underrepresented  \\\n",
       "ALTERSKATEGORIE_GROB              0.473333                 0.5700   \n",
       "ANREDE_KZ                        -0.050000                 0.0000   \n",
       "FINANZ_MINIMALIST                 0.622500                 0.3025   \n",
       "FINANZ_SPARER                    -0.565000                -0.6000   \n",
       "FINANZ_VORSORGER                  0.440000                 0.5350   \n",
       "\n",
       "                      rate_diff_over_under  rate_overrepresented_abs  \\\n",
       "ALTERSKATEGORIE_GROB             -0.096667                  0.473333   \n",
       "ANREDE_KZ                        -0.050000                  0.050000   \n",
       "FINANZ_MINIMALIST                 0.320000                  0.622500   \n",
       "FINANZ_SPARER                     0.035000                  0.565000   \n",
       "FINANZ_VORSORGER                 -0.095000                  0.440000   \n",
       "\n",
       "                      rate_underrepresented_abs  rate_diff_over_under_abs  \n",
       "ALTERSKATEGORIE_GROB                     0.5700                  0.096667  \n",
       "ANREDE_KZ                                0.0000                  0.050000  \n",
       "FINANZ_MINIMALIST                        0.3025                  0.320000  \n",
       "FINANZ_SPARER                            0.6000                  0.035000  \n",
       "FINANZ_VORSORGER                         0.5350                  0.095000  "
      ]
     },
     "execution_count": 91,
     "metadata": {},
     "output_type": "execute_result"
    }
   ],
   "source": [
    "cluster_analysis = pd.concat([center_feature2, center_feature1, center_feature0, interval], axis=1)\n",
    "cluster_analysis = cluster_analysis.rename(columns={0:\"criteria\", 1:\"overrepresented\", 2:\"underrepresented\", 3:\"interval\"})\n",
    "cluster_analysis['rate_overrepresented'] = (cluster_analysis['overrepresented'] - cluster_analysis['criteria']) / cluster_analysis['interval']\n",
    "cluster_analysis['rate_underrepresented'] = (cluster_analysis['underrepresented'] - cluster_analysis['criteria']) / cluster_analysis['interval']\n",
    "cluster_analysis['rate_diff_over_under'] = (cluster_analysis['overrepresented'] - cluster_analysis['underrepresented']) / cluster_analysis['interval']\n",
    "cluster_analysis['rate_overrepresented_abs'] = abs(cluster_analysis['rate_overrepresented'])\n",
    "cluster_analysis['rate_underrepresented_abs'] = abs(cluster_analysis['rate_underrepresented'])\n",
    "cluster_analysis['rate_diff_over_under_abs'] = abs(cluster_analysis['rate_diff_over_under'])\n",
    "cluster_analysis.head()"
   ]
  },
  {
   "cell_type": "code",
   "execution_count": 89,
   "metadata": {},
   "outputs": [
    {
     "data": {
      "text/html": [
       "<div>\n",
       "<style>\n",
       "    .dataframe thead tr:only-child th {\n",
       "        text-align: right;\n",
       "    }\n",
       "\n",
       "    .dataframe thead th {\n",
       "        text-align: left;\n",
       "    }\n",
       "\n",
       "    .dataframe tbody tr th {\n",
       "        vertical-align: top;\n",
       "    }\n",
       "</style>\n",
       "<table border=\"1\" class=\"dataframe\">\n",
       "  <thead>\n",
       "    <tr style=\"text-align: right;\">\n",
       "      <th></th>\n",
       "      <th>criteria</th>\n",
       "      <th>overrepresented</th>\n",
       "      <th>underrepresented</th>\n",
       "      <th>interval</th>\n",
       "      <th>rate_overrepresented</th>\n",
       "      <th>rate_underrepresented</th>\n",
       "      <th>rate_overrepresented_abs</th>\n",
       "      <th>rate_underrepresented_abs</th>\n",
       "    </tr>\n",
       "  </thead>\n",
       "  <tbody>\n",
       "    <tr>\n",
       "      <th>LP_STATUS_GROB_1.0</th>\n",
       "      <td>0.70</td>\n",
       "      <td>0.03</td>\n",
       "      <td>0.64</td>\n",
       "      <td>1.0</td>\n",
       "      <td>-0.670000</td>\n",
       "      <td>-0.0600</td>\n",
       "      <td>0.670000</td>\n",
       "      <td>0.0600</td>\n",
       "    </tr>\n",
       "    <tr>\n",
       "      <th>FINANZ_MINIMALIST</th>\n",
       "      <td>1.68</td>\n",
       "      <td>4.17</td>\n",
       "      <td>2.89</td>\n",
       "      <td>4.0</td>\n",
       "      <td>0.622500</td>\n",
       "      <td>0.3025</td>\n",
       "      <td>0.622500</td>\n",
       "      <td>0.3025</td>\n",
       "    </tr>\n",
       "    <tr>\n",
       "      <th>FINANZTYP_1</th>\n",
       "      <td>0.64</td>\n",
       "      <td>0.04</td>\n",
       "      <td>0.10</td>\n",
       "      <td>1.0</td>\n",
       "      <td>-0.600000</td>\n",
       "      <td>-0.5400</td>\n",
       "      <td>0.600000</td>\n",
       "      <td>0.5400</td>\n",
       "    </tr>\n",
       "    <tr>\n",
       "      <th>FINANZ_SPARER</th>\n",
       "      <td>4.32</td>\n",
       "      <td>2.06</td>\n",
       "      <td>1.92</td>\n",
       "      <td>4.0</td>\n",
       "      <td>-0.565000</td>\n",
       "      <td>-0.6000</td>\n",
       "      <td>0.565000</td>\n",
       "      <td>0.6000</td>\n",
       "    </tr>\n",
       "    <tr>\n",
       "      <th>ALTERSKATEGORIE_GROB</th>\n",
       "      <td>1.70</td>\n",
       "      <td>3.12</td>\n",
       "      <td>3.41</td>\n",
       "      <td>3.0</td>\n",
       "      <td>0.473333</td>\n",
       "      <td>0.5700</td>\n",
       "      <td>0.473333</td>\n",
       "      <td>0.5700</td>\n",
       "    </tr>\n",
       "  </tbody>\n",
       "</table>\n",
       "</div>"
      ],
      "text/plain": [
       "                      criteria  overrepresented  underrepresented  interval  \\\n",
       "LP_STATUS_GROB_1.0        0.70             0.03              0.64       1.0   \n",
       "FINANZ_MINIMALIST         1.68             4.17              2.89       4.0   \n",
       "FINANZTYP_1               0.64             0.04              0.10       1.0   \n",
       "FINANZ_SPARER             4.32             2.06              1.92       4.0   \n",
       "ALTERSKATEGORIE_GROB      1.70             3.12              3.41       3.0   \n",
       "\n",
       "                      rate_overrepresented  rate_underrepresented  \\\n",
       "LP_STATUS_GROB_1.0               -0.670000                -0.0600   \n",
       "FINANZ_MINIMALIST                 0.622500                 0.3025   \n",
       "FINANZTYP_1                      -0.600000                -0.5400   \n",
       "FINANZ_SPARER                    -0.565000                -0.6000   \n",
       "ALTERSKATEGORIE_GROB              0.473333                 0.5700   \n",
       "\n",
       "                      rate_overrepresented_abs  rate_underrepresented_abs  \n",
       "LP_STATUS_GROB_1.0                    0.670000                     0.0600  \n",
       "FINANZ_MINIMALIST                     0.622500                     0.3025  \n",
       "FINANZTYP_1                           0.600000                     0.5400  \n",
       "FINANZ_SPARER                         0.565000                     0.6000  \n",
       "ALTERSKATEGORIE_GROB                  0.473333                     0.5700  "
      ]
     },
     "execution_count": 89,
     "metadata": {},
     "output_type": "execute_result"
    }
   ],
   "source": [
    "# What features show the most difference in overrepresented cluster comparing to criteria cluster?\n",
    "cluster_analysis.sort_values(by='rate_overrepresented_abs', ascending=False).head()"
   ]
  },
  {
   "cell_type": "code",
   "execution_count": 90,
   "metadata": {},
   "outputs": [
    {
     "data": {
      "text/html": [
       "<div>\n",
       "<style>\n",
       "    .dataframe thead tr:only-child th {\n",
       "        text-align: right;\n",
       "    }\n",
       "\n",
       "    .dataframe thead th {\n",
       "        text-align: left;\n",
       "    }\n",
       "\n",
       "    .dataframe tbody tr th {\n",
       "        vertical-align: top;\n",
       "    }\n",
       "</style>\n",
       "<table border=\"1\" class=\"dataframe\">\n",
       "  <thead>\n",
       "    <tr style=\"text-align: right;\">\n",
       "      <th></th>\n",
       "      <th>criteria</th>\n",
       "      <th>overrepresented</th>\n",
       "      <th>underrepresented</th>\n",
       "      <th>interval</th>\n",
       "      <th>rate_overrepresented</th>\n",
       "      <th>rate_underrepresented</th>\n",
       "      <th>rate_overrepresented_abs</th>\n",
       "      <th>rate_underrepresented_abs</th>\n",
       "    </tr>\n",
       "  </thead>\n",
       "  <tbody>\n",
       "    <tr>\n",
       "      <th>ZABEOTYP_3</th>\n",
       "      <td>0.02</td>\n",
       "      <td>0.36</td>\n",
       "      <td>0.69</td>\n",
       "      <td>1.0</td>\n",
       "      <td>0.340000</td>\n",
       "      <td>0.670</td>\n",
       "      <td>0.340000</td>\n",
       "      <td>0.670</td>\n",
       "    </tr>\n",
       "    <tr>\n",
       "      <th>FINANZ_SPARER</th>\n",
       "      <td>4.32</td>\n",
       "      <td>2.06</td>\n",
       "      <td>1.92</td>\n",
       "      <td>4.0</td>\n",
       "      <td>-0.565000</td>\n",
       "      <td>-0.600</td>\n",
       "      <td>0.565000</td>\n",
       "      <td>0.600</td>\n",
       "    </tr>\n",
       "    <tr>\n",
       "      <th>ALTERSKATEGORIE_GROB</th>\n",
       "      <td>1.70</td>\n",
       "      <td>3.12</td>\n",
       "      <td>3.41</td>\n",
       "      <td>3.0</td>\n",
       "      <td>0.473333</td>\n",
       "      <td>0.570</td>\n",
       "      <td>0.473333</td>\n",
       "      <td>0.570</td>\n",
       "    </tr>\n",
       "    <tr>\n",
       "      <th>FINANZTYP_1</th>\n",
       "      <td>0.64</td>\n",
       "      <td>0.04</td>\n",
       "      <td>0.10</td>\n",
       "      <td>1.0</td>\n",
       "      <td>-0.600000</td>\n",
       "      <td>-0.540</td>\n",
       "      <td>0.600000</td>\n",
       "      <td>0.540</td>\n",
       "    </tr>\n",
       "    <tr>\n",
       "      <th>FINANZ_VORSORGER</th>\n",
       "      <td>2.09</td>\n",
       "      <td>3.85</td>\n",
       "      <td>4.23</td>\n",
       "      <td>4.0</td>\n",
       "      <td>0.440000</td>\n",
       "      <td>0.535</td>\n",
       "      <td>0.440000</td>\n",
       "      <td>0.535</td>\n",
       "    </tr>\n",
       "  </tbody>\n",
       "</table>\n",
       "</div>"
      ],
      "text/plain": [
       "                      criteria  overrepresented  underrepresented  interval  \\\n",
       "ZABEOTYP_3                0.02             0.36              0.69       1.0   \n",
       "FINANZ_SPARER             4.32             2.06              1.92       4.0   \n",
       "ALTERSKATEGORIE_GROB      1.70             3.12              3.41       3.0   \n",
       "FINANZTYP_1               0.64             0.04              0.10       1.0   \n",
       "FINANZ_VORSORGER          2.09             3.85              4.23       4.0   \n",
       "\n",
       "                      rate_overrepresented  rate_underrepresented  \\\n",
       "ZABEOTYP_3                        0.340000                  0.670   \n",
       "FINANZ_SPARER                    -0.565000                 -0.600   \n",
       "ALTERSKATEGORIE_GROB              0.473333                  0.570   \n",
       "FINANZTYP_1                      -0.600000                 -0.540   \n",
       "FINANZ_VORSORGER                  0.440000                  0.535   \n",
       "\n",
       "                      rate_overrepresented_abs  rate_underrepresented_abs  \n",
       "ZABEOTYP_3                            0.340000                      0.670  \n",
       "FINANZ_SPARER                         0.565000                      0.600  \n",
       "ALTERSKATEGORIE_GROB                  0.473333                      0.570  \n",
       "FINANZTYP_1                           0.600000                      0.540  \n",
       "FINANZ_VORSORGER                      0.440000                      0.535  "
      ]
     },
     "execution_count": 90,
     "metadata": {},
     "output_type": "execute_result"
    }
   ],
   "source": [
    "# What features show the most difference in underrepresented cluster comparing to criteria cluster?\n",
    "cluster_analysis.sort_values(by='rate_underrepresented_abs', ascending=False).head()"
   ]
  },
  {
   "cell_type": "code",
   "execution_count": 92,
   "metadata": {},
   "outputs": [
    {
     "data": {
      "text/html": [
       "<div>\n",
       "<style>\n",
       "    .dataframe thead tr:only-child th {\n",
       "        text-align: right;\n",
       "    }\n",
       "\n",
       "    .dataframe thead th {\n",
       "        text-align: left;\n",
       "    }\n",
       "\n",
       "    .dataframe tbody tr th {\n",
       "        vertical-align: top;\n",
       "    }\n",
       "</style>\n",
       "<table border=\"1\" class=\"dataframe\">\n",
       "  <thead>\n",
       "    <tr style=\"text-align: right;\">\n",
       "      <th></th>\n",
       "      <th>criteria</th>\n",
       "      <th>overrepresented</th>\n",
       "      <th>underrepresented</th>\n",
       "      <th>interval</th>\n",
       "      <th>rate_overrepresented</th>\n",
       "      <th>rate_underrepresented</th>\n",
       "      <th>rate_diff_over_under</th>\n",
       "      <th>rate_overrepresented_abs</th>\n",
       "      <th>rate_underrepresented_abs</th>\n",
       "      <th>rate_diff_over_under_abs</th>\n",
       "    </tr>\n",
       "  </thead>\n",
       "  <tbody>\n",
       "    <tr>\n",
       "      <th>LP_STATUS_GROB_1.0</th>\n",
       "      <td>0.70</td>\n",
       "      <td>0.03</td>\n",
       "      <td>0.64</td>\n",
       "      <td>1.0</td>\n",
       "      <td>-0.6700</td>\n",
       "      <td>-0.0600</td>\n",
       "      <td>-0.6100</td>\n",
       "      <td>0.6700</td>\n",
       "      <td>0.0600</td>\n",
       "      <td>0.6100</td>\n",
       "    </tr>\n",
       "    <tr>\n",
       "      <th>KBA05_ANTG1</th>\n",
       "      <td>0.91</td>\n",
       "      <td>2.70</td>\n",
       "      <td>0.47</td>\n",
       "      <td>4.0</td>\n",
       "      <td>0.4475</td>\n",
       "      <td>-0.1100</td>\n",
       "      <td>0.5575</td>\n",
       "      <td>0.4475</td>\n",
       "      <td>0.1100</td>\n",
       "      <td>0.5575</td>\n",
       "    </tr>\n",
       "    <tr>\n",
       "      <th>wealth</th>\n",
       "      <td>3.89</td>\n",
       "      <td>2.25</td>\n",
       "      <td>4.23</td>\n",
       "      <td>4.0</td>\n",
       "      <td>-0.4100</td>\n",
       "      <td>0.0850</td>\n",
       "      <td>-0.4950</td>\n",
       "      <td>0.4100</td>\n",
       "      <td>0.0850</td>\n",
       "      <td>0.4950</td>\n",
       "    </tr>\n",
       "    <tr>\n",
       "      <th>KBA05_GBZ</th>\n",
       "      <td>2.68</td>\n",
       "      <td>4.16</td>\n",
       "      <td>2.23</td>\n",
       "      <td>4.0</td>\n",
       "      <td>0.3700</td>\n",
       "      <td>-0.1125</td>\n",
       "      <td>0.4825</td>\n",
       "      <td>0.3700</td>\n",
       "      <td>0.1125</td>\n",
       "      <td>0.4825</td>\n",
       "    </tr>\n",
       "    <tr>\n",
       "      <th>MOBI_REGIO</th>\n",
       "      <td>2.35</td>\n",
       "      <td>4.20</td>\n",
       "      <td>1.90</td>\n",
       "      <td>5.0</td>\n",
       "      <td>0.3700</td>\n",
       "      <td>-0.0900</td>\n",
       "      <td>0.4600</td>\n",
       "      <td>0.3700</td>\n",
       "      <td>0.0900</td>\n",
       "      <td>0.4600</td>\n",
       "    </tr>\n",
       "  </tbody>\n",
       "</table>\n",
       "</div>"
      ],
      "text/plain": [
       "                    criteria  overrepresented  underrepresented  interval  \\\n",
       "LP_STATUS_GROB_1.0      0.70             0.03              0.64       1.0   \n",
       "KBA05_ANTG1             0.91             2.70              0.47       4.0   \n",
       "wealth                  3.89             2.25              4.23       4.0   \n",
       "KBA05_GBZ               2.68             4.16              2.23       4.0   \n",
       "MOBI_REGIO              2.35             4.20              1.90       5.0   \n",
       "\n",
       "                    rate_overrepresented  rate_underrepresented  \\\n",
       "LP_STATUS_GROB_1.0               -0.6700                -0.0600   \n",
       "KBA05_ANTG1                       0.4475                -0.1100   \n",
       "wealth                           -0.4100                 0.0850   \n",
       "KBA05_GBZ                         0.3700                -0.1125   \n",
       "MOBI_REGIO                        0.3700                -0.0900   \n",
       "\n",
       "                    rate_diff_over_under  rate_overrepresented_abs  \\\n",
       "LP_STATUS_GROB_1.0               -0.6100                    0.6700   \n",
       "KBA05_ANTG1                       0.5575                    0.4475   \n",
       "wealth                           -0.4950                    0.4100   \n",
       "KBA05_GBZ                         0.4825                    0.3700   \n",
       "MOBI_REGIO                        0.4600                    0.3700   \n",
       "\n",
       "                    rate_underrepresented_abs  rate_diff_over_under_abs  \n",
       "LP_STATUS_GROB_1.0                     0.0600                    0.6100  \n",
       "KBA05_ANTG1                            0.1100                    0.5575  \n",
       "wealth                                 0.0850                    0.4950  \n",
       "KBA05_GBZ                              0.1125                    0.4825  \n",
       "MOBI_REGIO                             0.0900                    0.4600  "
      ]
     },
     "execution_count": 92,
     "metadata": {},
     "output_type": "execute_result"
    }
   ],
   "source": [
    "# What features show the most difference between overrepresented cluster and  underrepresented cluster?\n",
    "cluster_analysis.sort_values(by='rate_diff_over_under_abs', ascending=False).head()"
   ]
  },
  {
   "cell_type": "markdown",
   "metadata": {},
   "source": [
    "### Discussion 3.3: Compare Customer Data to Demographics Data\n",
    "\n",
    "I used the centroid value to represent the characteristic of each cluster. I transformed the result of clustering to the form of original feature set in order to make it easier to interpret. And then, I measured how much difference there are between clusters by centroid value gap rate. The result is as follows:\n",
    "\n",
    "1. Popular customers with the mail-order company (Overrepresented cluster)\n",
    "    - Highly not likely to have low-income (LP_STATUS_GROB_1.0 = 0.03, wealth = 2.25)\n",
    "    - Have a very high financial interest (FINANZ_MINIMALIST = 4.17, FINANZTYP_1 = 0.04)\n",
    "    - Relatively high share of 1-2 family houses in the microcell (KBA05_ANTG1 = 2.70, KBA05_GBZ = 4.16)\n",
    "    - low movement(MOBI_REGIO = 4.20)\n",
    "    \n",
    "    \n",
    "2. Unpopular customers with the mail-order company (Underrepresented cluster)\n",
    "    - Have relatively low income (LP_STATUS_GROB_1.0 = 0.64, wealth = 4.23)\n",
    "    - Fair supplied energy consumption (ZABEOTYP_3 = 0.69)\n",
    "    - Relatively low share of 1-2 family houses in the microcell (KBA05_ANTG1 = 0.47, KBA05_GBZ = 2.23)\n",
    "    - High movement(MOBI_REGIO = 1.90)\n",
    "\n",
    "Interesting thing is both over-represented and under-represented clusters show more financial interest and tend to save money than criteria cluster. Also they are relatively older than criteria cluster."
   ]
  },
  {
   "cell_type": "markdown",
   "metadata": {},
   "source": [
    "> Congratulations on making it this far in the project! Before you finish, make sure to check through the entire notebook from top to bottom to make sure that your analysis follows a logical flow and all of your findings are documented in **Discussion** cells. Once you've checked over all of your work, you should export the notebook as an HTML document to submit for evaluation. You can do this from the menu, navigating to **File -> Download as -> HTML (.html)**. You will submit both that document and this notebook for your project submission."
   ]
  }
 ],
 "metadata": {
  "kernelspec": {
   "display_name": "Python 3",
   "language": "python",
   "name": "python3"
  },
  "language_info": {
   "codemirror_mode": {
    "name": "ipython",
    "version": 3
   },
   "file_extension": ".py",
   "mimetype": "text/x-python",
   "name": "python",
   "nbconvert_exporter": "python",
   "pygments_lexer": "ipython3",
   "version": "3.6.3"
  }
 },
 "nbformat": 4,
 "nbformat_minor": 2
}
